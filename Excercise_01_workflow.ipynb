{
  "nbformat": 4,
  "nbformat_minor": 0,
  "metadata": {
    "colab": {
      "provenance": [],
      "authorship_tag": "ABX9TyOGMm/rL/uSBthTip9E0MQM",
      "include_colab_link": true
    },
    "kernelspec": {
      "name": "python3",
      "display_name": "Python 3"
    },
    "language_info": {
      "name": "python"
    }
  },
  "cells": [
    {
      "cell_type": "markdown",
      "metadata": {
        "id": "view-in-github",
        "colab_type": "text"
      },
      "source": [
        "<a href=\"https://colab.research.google.com/github/anmolkumar0717/pyTorch/blob/main/Excercise_01_workflow.ipynb\" target=\"_parent\"><img src=\"https://colab.research.google.com/assets/colab-badge.svg\" alt=\"Open In Colab\"/></a>"
      ]
    },
    {
      "cell_type": "code",
      "execution_count": 42,
      "metadata": {
        "id": "1LEKgRTn2CmF"
      },
      "outputs": [],
      "source": [
        "import torch\n",
        "import matplotlib.pyplot as plt\n"
      ]
    },
    {
      "cell_type": "markdown",
      "source": [
        "# Excercise"
      ],
      "metadata": {
        "id": "8LRGfujO2cXX"
      }
    },
    {
      "cell_type": "markdown",
      "source": [
        "##1.Create a straight line dataset using the linear regression formula (weight * X + bias).\n",
        "**Set weight=0.3 and bias=0.9 there should be at least 100 datapoints total.\n",
        "\n",
        "**Split the data into 80% training, 20% testing.\n",
        "\n",
        "**Plot the training and testing data so it becomes visual."
      ],
      "metadata": {
        "id": "3cPX_hIv2muD"
      }
    },
    {
      "cell_type": "code",
      "source": [
        "#1.creating a known data\n",
        "\n",
        "weight=0.8\n",
        "bias=0.9\n",
        "\n",
        "start=0\n",
        "stop=1\n",
        "step=0.01\n",
        "\n",
        "X=torch.arange(start,stop,step).unsqueeze(dim=1)\n",
        "Y= weight * X + bias\n"
      ],
      "metadata": {
        "id": "UQ56dguJ29Vv"
      },
      "execution_count": 43,
      "outputs": []
    },
    {
      "cell_type": "code",
      "source": [
        "split=int(0.8*len(X))\n",
        "#dividing the testing and training data by 80 and 20\n",
        "\n",
        "X_test,Y_test=X[split:],Y[split:]\n",
        "X_train,Y_train=X[:split],Y[:split]\n",
        "\n"
      ],
      "metadata": {
        "id": "0VtX6I9g29SX"
      },
      "execution_count": 44,
      "outputs": []
    },
    {
      "cell_type": "code",
      "source": [
        "# Creating a function to plot the graph between X_train with Y_train as well as X_test with Y_test\n",
        "def plot_prediction(train_data=X_train,\n",
        "                    train_label=Y_train,\n",
        "                    test_data=X_test,\n",
        "                    test_label=Y_test,\n",
        "                    prediction=None\n",
        "                    ):\n",
        "  plt.figure(figsize=(7,10))\n",
        "  plt.scatter(train_data,train_label,c=\"b\",s=3,label=\"Training data\")\n",
        "\n",
        "  plt.scatter(test_data,test_label,c=\"g\",s=3,label=\"Testing data\")\n",
        "\n",
        "  if prediction is not None:\n",
        "    plt.scatter(test_data,prediction,c=\"r\",s=3,label=\"Ptrediction\")\n",
        "\n",
        "  plt.legend(prop={\"size\":14})\n",
        "\n"
      ],
      "metadata": {
        "id": "PtVMHEh529Q1"
      },
      "execution_count": 45,
      "outputs": []
    },
    {
      "cell_type": "code",
      "source": [
        "plot_prediction()"
      ],
      "metadata": {
        "colab": {
          "base_uri": "https://localhost:8080/",
          "height": 830
        },
        "id": "UbTYF1EL2UTm",
        "outputId": "8f0813e8-60ab-4564-86f1-289630a5a9cf"
      },
      "execution_count": 46,
      "outputs": [
        {
          "output_type": "display_data",
          "data": {
            "text/plain": [
              "<Figure size 700x1000 with 1 Axes>"
            ],
            "image/png": "[encoded data removed]"
          },
          "metadata": {}
        }
      ]
    },
    {
      "cell_type": "markdown",
      "source": [
        "#Build a PyTorch model by subclassing nn.Module.\n",
        "Inside should be a randomly initialized nn.Parameter() with requires_grad=True, one for weights and one for bias.\n",
        "\n",
        "Implement the forward() method to compute the linear regression function you used to create the dataset in 1.\n",
        "\n",
        "Once you've constructed the model, make an instance of it and check its state_dict().\n",
        "\n",
        "##Note: If you'd like to use nn.Linear() instead of nn.Parameter() you can."
      ],
      "metadata": {
        "id": "DCo6ns1tytE9"
      }
    },
    {
      "cell_type": "code",
      "source": [
        "# Creating the linear regression model using the nn module\n",
        "import torch.nn as nn\n",
        "\n",
        "\n",
        "class LinearRegression(nn.Module):\n",
        "  def __init__(self):\n",
        "    super().__init__()\n",
        "    self.weight=nn.Parameter(torch.randn(1,\n",
        "                                         dtype=torch.float,\n",
        "                                         requires_grad=True))\n",
        "\n",
        "    self.bias=nn.Parameter(torch.randn(1,\n",
        "                                       dtype=torch.float,\n",
        "                                       requires_grad=True))\n",
        "\n",
        "  def forward(self,x:torch.Tensor)->torch.Tensor:\n",
        "    return self.weight * x + self.bias\n",
        "\n"
      ],
      "metadata": {
        "id": "Uh4rvSuHxvMt"
      },
      "execution_count": 47,
      "outputs": []
    },
    {
      "cell_type": "code",
      "source": [
        "model_1=LinearRegression()\n",
        "model_1.state_dict()"
      ],
      "metadata": {
        "colab": {
          "base_uri": "https://localhost:8080/"
        },
        "id": "bWZUNUirxvJS",
        "outputId": "e65e21f1-f67b-4d52-8c4f-24d204dfe304"
      },
      "execution_count": 48,
      "outputs": [
        {
          "output_type": "execute_result",
          "data": {
            "text/plain": [
              "OrderedDict([('weight', tensor([-0.0361])), ('bias', tensor([0.1683]))])"
            ]
          },
          "metadata": {},
          "execution_count": 48
        }
      ]
    },
    {
      "cell_type": "code",
      "source": [
        "#creating the loss function as well as optimizer\n",
        "\n",
        "loss_fn=nn.L1Loss()\n",
        "\n",
        "optimizer=torch.optim.SGD(params=model_1.parameters(),\n",
        "                          lr=0.01)\n"
      ],
      "metadata": {
        "id": "mPIinruRxvGp"
      },
      "execution_count": 49,
      "outputs": []
    },
    {
      "cell_type": "code",
      "source": [
        "#creating a training and testing loop\n",
        "\n",
        "#setting the EPOCHS ready\n",
        "\n",
        "epochs=200\n",
        "\n",
        "for epoch in range(epochs):\n",
        "  model_1.train()\n",
        "  #1.calling the forward function\n",
        "  Y_pred=model_1(X_train)\n",
        "\n",
        "  #2.calculate the loss\n",
        "  loss=loss_fn(Y_pred,Y_train)\n",
        "\n",
        "  #3.Zero grad\n",
        "  optimizer.zero_grad()\n",
        "\n",
        "  #4.Backpropagation\n",
        "  loss.backward()\n",
        "\n",
        "  #5.step up the optimizer\n",
        "  optimizer.step()\n",
        "\n",
        "  #testing loop\n",
        "  model_1.eval()\n",
        "\n",
        "  #1.call the forward\n",
        "\n",
        "  with torch.inference_mode():\n",
        "    test_pred=model_1(X_test)\n",
        "\n",
        "  #2.loss function\n",
        "\n",
        "  test_loss=loss_fn(test_pred,Y_test)\n",
        "\n",
        "\n"
      ],
      "metadata": {
        "id": "wr6pu3xgxvD7"
      },
      "execution_count": 52,
      "outputs": []
    },
    {
      "cell_type": "code",
      "source": [
        "with torch.inference_mode():\n",
        "  Y_preds=model_1(X_test)\n",
        "\n",
        "plot_prediction(prediction=Y_preds)"
      ],
      "metadata": {
        "colab": {
          "base_uri": "https://localhost:8080/",
          "height": 830
        },
        "id": "CwqVQYgmwKvz",
        "outputId": "57a17e87-0c85-4c8a-db9e-ad3dc2a1f037"
      },
      "execution_count": 53,
      "outputs": [
        {
          "output_type": "display_data",
          "data": {
            "text/plain": [
              "<Figure size 700x1000 with 1 Axes>"
            ],
            "image/png": "[encoded data removed]"
          },
          "metadata": {}
        }
      ]
    },
    {
      "cell_type": "code",
      "source": [],
      "metadata": {
        "id": "GRTsx2BM4hZ4"
      },
      "execution_count": 51,
      "outputs": []
    }
  ]
}