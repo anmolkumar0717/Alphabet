{
  "cells": [
    {
      "cell_type": "markdown",
      "metadata": {
        "id": "view-in-github",
        "colab_type": "text"
      },
      "source": [
        "<a href=\"https://colab.research.google.com/github/anmolkumar0717/pyTorch/blob/main/01PyTorch_workFlow.ipynb\" target=\"_parent\"><img src=\"https://colab.research.google.com/assets/colab-badge.svg\" alt=\"Open In Colab\"/></a>"
      ]
    },
    {
      "cell_type": "markdown",
      "metadata": {
        "id": "dsZg6IlxUNsb"
      },
      "source": [
        "##Python workflow\n"
      ]
    },
    {
      "cell_type": "code",
      "execution_count": null,
      "metadata": {
        "id": "kwpGY1piUOV6"
      },
      "outputs": [],
      "source": [
        "what_we_covering={1:\"Load a data or prepare\",\n",
        "                  2:\"build model\",\n",
        "                  3:\"fitting the data to the model\",\n",
        "                  4:\"making prediction and evaluating the model(inference)\",\n",
        "                  5:\"saving and loading a model\",\n",
        "                  6:\"putting all together\"}"
      ]
    },
    {
      "cell_type": "code",
      "execution_count": 4,
      "metadata": {
        "colab": {
          "base_uri": "https://localhost:8080/",
          "height": 35
        },
        "id": "Akc3w4tEZ7el",
        "outputId": "5241b256-39b0-4c75-cb01-b0d07d361c8a"
      },
      "outputs": [
        {
          "output_type": "execute_result",
          "data": {
            "text/plain": [
              "'2.2.1+cu121'"
            ],
            "application/vnd.google.colaboratory.intrinsic+json": {
              "type": "string"
            }
          },
          "metadata": {},
          "execution_count": 4
        }
      ],
      "source": [
        "import torch\n",
        "from torch import nn #nn is the building block of the nueral network\n",
        "import matplotlib.pyplot as plt\n",
        "torch.__version__\n"
      ]
    },
    {
      "cell_type": "markdown",
      "source": [
        "#1... Data (preapearing and loading)\n",
        "\n",
        "##data can be anything ......\n",
        "\n",
        "####1.Excel spreadsheet...\n",
        "####2.videos (yt have a lot of data)\n",
        "####3.images of any kind\n",
        "####4.Audios of poadcast\n",
        "####5.DNA\n",
        "####6.Text\n",
        "\n",
        "#machine learning is all about two parts:\n",
        "\n",
        "####1.Get the data into numerical form\n",
        "####2.Build the model to learn its pattern in numerical representation\n",
        "\n",
        "\n",
        "##To showcase it lets create some *known* data using linear regression formula\n",
        "\n",
        "we use linear regression formula to make a stright line with some known *parameters* data"
      ],
      "metadata": {
        "id": "Ut6lH-JSdNDU"
      }
    },
    {
      "cell_type": "code",
      "source": [
        "#create a *known* parameters\n",
        "\n",
        "weight=0.7\n",
        "bias= 0.3\n",
        "\n",
        "#create\n",
        "\n",
        "start=0\n",
        "end=1\n",
        "step=0.03\n",
        "X= torch.arange(start,end,step)\n",
        "Y= weight*X + bias\n",
        "\n",
        "X[:10],Y[:10],len(X),len(Y)\n"
      ],
      "metadata": {
        "colab": {
          "base_uri": "https://localhost:8080/"
        },
        "id": "JOviwHPzdV-r",
        "outputId": "611ec73f-2605-41a7-ed69-9f7d21d784dd"
      },
      "execution_count": 5,
      "outputs": [
        {
          "output_type": "execute_result",
          "data": {
            "text/plain": [
              "(tensor([0.0000, 0.0300, 0.0600, 0.0900, 0.1200, 0.1500, 0.1800, 0.2100, 0.2400,\n",
              "         0.2700]),\n",
              " tensor([0.3000, 0.3210, 0.3420, 0.3630, 0.3840, 0.4050, 0.4260, 0.4470, 0.4680,\n",
              "         0.4890]),\n",
              " 34,\n",
              " 34)"
            ]
          },
          "metadata": {},
          "execution_count": 5
        }
      ]
    },
    {
      "cell_type": "code",
      "source": [],
      "metadata": {
        "id": "kISk-pjudV7T"
      },
      "execution_count": null,
      "outputs": []
    },
    {
      "cell_type": "code",
      "source": [],
      "metadata": {
        "id": "o1uQsSq9dV5G"
      },
      "execution_count": null,
      "outputs": []
    },
    {
      "cell_type": "code",
      "source": [],
      "metadata": {
        "id": "rgKTg45edV3N"
      },
      "execution_count": null,
      "outputs": []
    },
    {
      "cell_type": "code",
      "source": [],
      "metadata": {
        "id": "WYPFWi96dV1D"
      },
      "execution_count": null,
      "outputs": []
    },
    {
      "cell_type": "code",
      "source": [],
      "metadata": {
        "id": "3TGpgrhwdVyg"
      },
      "execution_count": null,
      "outputs": []
    },
    {
      "cell_type": "code",
      "source": [],
      "metadata": {
        "id": "qfqNtYRpdVv0"
      },
      "execution_count": null,
      "outputs": []
    },
    {
      "cell_type": "code",
      "source": [],
      "metadata": {
        "id": "bY8zbtxhdVtV"
      },
      "execution_count": null,
      "outputs": []
    },
    {
      "cell_type": "code",
      "source": [],
      "metadata": {
        "id": "pmMFVxFUdVhE"
      },
      "execution_count": null,
      "outputs": []
    }
  ],
  "metadata": {
    "colab": {
      "provenance": [],
      "authorship_tag": "ABX9TyPjd4S2hEhNwkMr605xC3WS",
      "include_colab_link": true
    },
    "kernelspec": {
      "display_name": "Python 3",
      "name": "python3"
    },
    "language_info": {
      "name": "python"
    }
  },
  "nbformat": 4,
  "nbformat_minor": 0
}