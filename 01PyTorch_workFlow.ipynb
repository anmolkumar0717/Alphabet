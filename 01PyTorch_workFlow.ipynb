{
  "cells": [
    {
      "cell_type": "markdown",
      "metadata": {
        "id": "view-in-github",
        "colab_type": "text"
      },
      "source": [
        "<a href=\"https://colab.research.google.com/github/anmolkumar0717/pyTorch/blob/main/01PyTorch_workFlow.ipynb\" target=\"_parent\"><img src=\"https://colab.research.google.com/assets/colab-badge.svg\" alt=\"Open In Colab\"/></a>"
      ]
    },
    {
      "cell_type": "markdown",
      "metadata": {
        "id": "dsZg6IlxUNsb"
      },
      "source": [
        "##Python workflow\n"
      ]
    },
    {
      "cell_type": "code",
      "execution_count": null,
      "metadata": {
        "id": "kwpGY1piUOV6"
      },
      "outputs": [],
      "source": [
        "what_we_covering={1:\"Load a data or prepare\",\n",
        "                  2:\"build model\",\n",
        "                  3:\"fitting the data to the model\",\n",
        "                  4:\"making prediction and evaluating the model(inference)\",\n",
        "                  5:\"saving and loading a model\",\n",
        "                  6:\"putting all together\"}"
      ]
    },
    {
      "cell_type": "code",
      "execution_count": null,
      "metadata": {
        "colab": {
          "base_uri": "https://localhost:8080/",
          "height": 35
        },
        "id": "Akc3w4tEZ7el",
        "outputId": "4bdff473-f7bc-40e1-e07c-47934fecb50c"
      },
      "outputs": [
        {
          "output_type": "execute_result",
          "data": {
            "text/plain": [
              "'2.3.0+cu121'"
            ],
            "application/vnd.google.colaboratory.intrinsic+json": {
              "type": "string"
            }
          },
          "metadata": {},
          "execution_count": 40
        }
      ],
      "source": [
        "import torch\n",
        "from torch import nn #nn is the building block of the nueral network\n",
        "import matplotlib.pyplot as plt\n",
        "torch.__version__\n"
      ]
    },
    {
      "cell_type": "markdown",
      "metadata": {
        "id": "Ut6lH-JSdNDU"
      },
      "source": [
        "#1... Data (preapearing and loading)\n",
        "\n",
        "##data can be anything ......\n",
        "\n",
        "####1.Excel spreadsheet...\n",
        "####2.videos (yt have a lot of data)\n",
        "####3.images of any kind\n",
        "####4.Audios of poadcast\n",
        "####5.DNA\n",
        "####6.Text\n",
        "\n",
        "#machine learning is all about two parts:\n",
        "\n",
        "####1.Get the data into numerical form\n",
        "####2.Build the model to learn its pattern in numerical representation\n",
        "\n",
        "\n",
        "##To showcase it lets create some *known* data using linear regression formula\n",
        "\n",
        "we use linear regression formula to make a stright line with some known *parameters* data"
      ]
    },
    {
      "cell_type": "code",
      "execution_count": null,
      "metadata": {
        "colab": {
          "base_uri": "https://localhost:8080/"
        },
        "id": "JOviwHPzdV-r",
        "outputId": "bde681b0-7e05-4523-c17a-266b558f2b1b"
      },
      "outputs": [
        {
          "output_type": "execute_result",
          "data": {
            "text/plain": [
              "(tensor([[0.0000],\n",
              "         [0.0200],\n",
              "         [0.0400],\n",
              "         [0.0600],\n",
              "         [0.0800],\n",
              "         [0.1000],\n",
              "         [0.1200],\n",
              "         [0.1400],\n",
              "         [0.1600],\n",
              "         [0.1800]]),\n",
              " tensor([[0.3000],\n",
              "         [0.3140],\n",
              "         [0.3280],\n",
              "         [0.3420],\n",
              "         [0.3560],\n",
              "         [0.3700],\n",
              "         [0.3840],\n",
              "         [0.3980],\n",
              "         [0.4120],\n",
              "         [0.4260]]),\n",
              " 50,\n",
              " 50)"
            ]
          },
          "metadata": {},
          "execution_count": 41
        }
      ],
      "source": [
        "#create a *known* parameters\n",
        "\n",
        "weight=0.7\n",
        "bias= 0.3\n",
        "\n",
        "#create\n",
        "\n",
        "start=0\n",
        "end=1\n",
        "step=0.02\n",
        "X= torch.arange(start,end,step).unsqueeze(dim=1)\n",
        "Y= weight*X + bias\n",
        "\n",
        "X[:10],Y[:10],len(X),len(Y)\n"
      ]
    },
    {
      "cell_type": "markdown",
      "metadata": {
        "id": "-Tb3CjBQLU6S"
      },
      "source": [
        "####Spliting the data into training and test set(one of the most important concept in machine learning)\n"
      ]
    },
    {
      "cell_type": "code",
      "execution_count": null,
      "metadata": {
        "colab": {
          "base_uri": "https://localhost:8080/"
        },
        "id": "o1uQsSq9dV5G",
        "outputId": "0f637e30-4728-4bab-c781-fb28d4efa898"
      },
      "outputs": [
        {
          "output_type": "execute_result",
          "data": {
            "text/plain": [
              "(40, 40, 10, 10)"
            ]
          },
          "metadata": {},
          "execution_count": 42
        }
      ],
      "source": [
        "#create a training/testing set split\n",
        "train_split=int(0.8*len(X))\n",
        "train_split\n",
        "X_train,Y_train=X[:train_split],Y[:train_split]\n",
        "X_test,Y_test=X[train_split:],Y[train_split:]\n",
        "len(X_train),len(Y_train),len(X_test),len(Y_test)"
      ]
    },
    {
      "cell_type": "markdown",
      "metadata": {
        "id": "RXY9t8WEQdca"
      },
      "source": [
        "#How might we better visualize our data\n",
        "\n",
        "here the data explorer's motto comes in!\n",
        "\n",
        "\"Visualize,visualize,visualize!\"\n",
        "\n",
        "\n",
        "what our model does?\n",
        "* star with random values\n",
        "* look at the training data and adjust them according to that for better represention to the ideal values\n",
        "\n",
        "How does we do that?\n",
        "\n",
        "through two main algorithms:\n",
        "1.Gradient descent\n",
        "2.BackPropagation"
      ]
    },
    {
      "cell_type": "code",
      "execution_count": null,
      "metadata": {
        "id": "rgKTg45edV3N"
      },
      "outputs": [],
      "source": [
        "def plot_predictions(train_data=X_train,\n",
        "                     train_lable=Y_train,\n",
        "                     test_data=X_test,\n",
        "                     test_lable=Y_test,\n",
        "                     prediction=None):\n",
        "  \"\"\"Plots training data ,test data and compare the predictions.\n",
        "  \"\"\"\n",
        "  plt.figure(figsize=(10,7))\n",
        "\n",
        "  # plot the traing data in blue\n",
        "  plt.scatter(train_data,train_lable, c=\"b\",s=4,label=\"Traing_data\")\n",
        "\n",
        "  # plot the test data in green\n",
        "  plt.scatter(test_data,test_lable,c=\"g\",s=4,label=\"Test data\")\n",
        "\n",
        "  #if there are any predection then this runs\n",
        "  if prediction is not None:\n",
        "    plt.scatter(test_data,prediction,c=\"r\",s=4,label=\"prediction\")\n",
        "\n",
        "  plt.legend(prop={\"size\":14})"
      ]
    },
    {
      "cell_type": "code",
      "execution_count": null,
      "metadata": {
        "colab": {
          "base_uri": "https://localhost:8080/",
          "height": 599
        },
        "id": "WYPFWi96dV1D",
        "outputId": "72714532-5350-41be-d1ce-2c1c40e73be7"
      },
      "outputs": [
        {
          "output_type": "display_data",
          "data": {
            "text/plain": [
              "<Figure size 1000x700 with 1 Axes>"
            ],
            "image/png": "[encoded data removed]"
          },
          "metadata": {}
        }
      ],
      "source": [
        "plot_predictions()"
      ]
    },
    {
      "cell_type": "code",
      "execution_count": null,
      "metadata": {
        "id": "3TGpgrhwdVyg"
      },
      "outputs": [],
      "source": [
        "class LinearRegressionModel(nn.Module):\n",
        "  def __init__(self):     # constructor function to initialize the values.\n",
        "    super().__init__()    # calling the super class constructor.\n",
        "    self.weight=nn.Parameter(torch.randn(1,                     # Declearng the parameter for weight\n",
        "                                         requires_grad=True,\n",
        "                                         dtype=torch.float))\n",
        "\n",
        "    self.bias=nn.Parameter(torch.randn(1,                       # Declearng the parameter for bias\n",
        "                                     requires_grad=True,\n",
        "                                     dtype=torch.float))\n",
        "  def forward(self,X:torch.Tensor)->torch.Tensor:               # forward always have to be overrided and to execute this is important\n",
        "    return self.weight*X + self.bias                            # returning the value of the linear regression function.\n"
      ]
    },
    {
      "cell_type": "code",
      "execution_count": null,
      "metadata": {
        "colab": {
          "base_uri": "https://localhost:8080/"
        },
        "id": "qfqNtYRpdVv0",
        "outputId": "4d097ecb-05f4-4637-b6c0-6c46e88190f7"
      },
      "outputs": [
        {
          "output_type": "execute_result",
          "data": {
            "text/plain": [
              "OrderedDict([('weight', tensor([0.3367])), ('bias', tensor([0.1288]))])"
            ]
          },
          "metadata": {},
          "execution_count": 46
        }
      ],
      "source": [
        "#rendom seed creation\n",
        "torch.manual_seed(42)\n",
        "\n",
        "#creating an instance to the class linearregressionkodel\n",
        "\n",
        "linear_model=LinearRegressionModel()\n",
        "list(linear_model.parameters())\n",
        "linear_model.state_dict()               # TO find out what the linear_model contains"
      ]
    },
    {
      "cell_type": "code",
      "execution_count": null,
      "metadata": {
        "colab": {
          "base_uri": "https://localhost:8080/"
        },
        "id": "jGw0AZojVfal",
        "outputId": "02b0dd88-2f3e-4fdf-b2d9-b97456262fd4"
      },
      "outputs": [
        {
          "output_type": "execute_result",
          "data": {
            "text/plain": [
              "tensor([[0.3982],\n",
              "        [0.4049],\n",
              "        [0.4116],\n",
              "        [0.4184],\n",
              "        [0.4251],\n",
              "        [0.4318],\n",
              "        [0.4386],\n",
              "        [0.4453],\n",
              "        [0.4520],\n",
              "        [0.4588]])"
            ]
          },
          "metadata": {},
          "execution_count": 47
        }
      ],
      "source": [
        "\n",
        "\n",
        "# make prediction with the model\n",
        "\n",
        "with torch.inference_mode():              #it means that it does't track the gradiant function\n",
        "  Y_pred=linear_model(X_test)\n",
        "\n",
        "Y_pred"
      ]
    },
    {
      "cell_type": "code",
      "execution_count": null,
      "metadata": {
        "colab": {
          "base_uri": "https://localhost:8080/"
        },
        "id": "bY8zbtxhdVtV",
        "outputId": "eb3fad15-213e-4b67-da16-f16bf3e84be7"
      },
      "outputs": [
        {
          "output_type": "execute_result",
          "data": {
            "text/plain": [
              "tensor([[0.8600],\n",
              "        [0.8740],\n",
              "        [0.8880],\n",
              "        [0.9020],\n",
              "        [0.9160],\n",
              "        [0.9300],\n",
              "        [0.9440],\n",
              "        [0.9580],\n",
              "        [0.9720],\n",
              "        [0.9860]])"
            ]
          },
          "metadata": {},
          "execution_count": 48
        }
      ],
      "source": [
        "Y_test"
      ]
    },
    {
      "cell_type": "code",
      "execution_count": null,
      "metadata": {
        "colab": {
          "base_uri": "https://localhost:8080/",
          "height": 599
        },
        "id": "pmMFVxFUdVhE",
        "outputId": "7ec381b5-7388-4234-f019-7c4881ccb7ca"
      },
      "outputs": [
        {
          "output_type": "display_data",
          "data": {
            "text/plain": [
              "<Figure size 1000x700 with 1 Axes>"
            ],
            "image/png": "[encoded data removed]"
          },
          "metadata": {}
        }
      ],
      "source": [
        "plot_predictions(prediction=Y_pred)"
      ]
    },
    {
      "cell_type": "code",
      "execution_count": null,
      "metadata": {
        "colab": {
          "base_uri": "https://localhost:8080/"
        },
        "id": "YyTTZTKuDVTN",
        "outputId": "22f87dae-ad4e-4c6d-9632-37e9168c56fe"
      },
      "outputs": [
        {
          "output_type": "stream",
          "name": "stdout",
          "text": [
            "tensor(0.4945)\n"
          ]
        }
      ],
      "source": [
        "Mean_absolute_error=torch.mean(torch.abs(Y_test-Y_pred))\n",
        "print(Mean_absolute_error)"
      ]
    },
    {
      "cell_type": "code",
      "execution_count": null,
      "metadata": {
        "id": "6jAVuT0MDngt"
      },
      "outputs": [],
      "source": [
        "#setting a loss function\n",
        "loss_fn=nn.L1Loss()\n",
        "\n",
        "\n",
        "#setting the optimizer\n",
        "\n",
        "optimizer=torch.optim.SGD(params=linear_model.parameters(),\n",
        "                          lr=0.01)              #lr =Learning Rate\n"
      ]
    },
    {
      "cell_type": "code",
      "execution_count": null,
      "metadata": {
        "colab": {
          "base_uri": "https://localhost:8080/"
        },
        "id": "JsO-sZ48DndN",
        "outputId": "743bdc35-e46d-4861-e1f1-2e57706570ab"
      },
      "outputs": [
        {
          "output_type": "execute_result",
          "data": {
            "text/plain": [
              "[Parameter containing:\n",
              " tensor([0.3367], requires_grad=True),\n",
              " Parameter containing:\n",
              " tensor([0.1288], requires_grad=True)]"
            ]
          },
          "metadata": {},
          "execution_count": 52
        }
      ],
      "source": [
        "list(linear_model.parameters())"
      ]
    },
    {
      "cell_type": "code",
      "execution_count": null,
      "metadata": {
        "colab": {
          "base_uri": "https://localhost:8080/"
        },
        "id": "15OQwC6EDnbU",
        "outputId": "5ee8df1a-cffd-43de-f0b7-0ed9214aba28"
      },
      "outputs": [
        {
          "output_type": "stream",
          "name": "stdout",
          "text": [
            "epoch0 | Loss: 0.31288138031959534 | Test_loss:0.48106518387794495\n",
            "epoch10 | Loss: 0.1976713240146637 | Test_loss:0.3463551998138428\n",
            "epoch20 | Loss: 0.08908725529909134 | Test_loss:0.21729660034179688\n",
            "epoch30 | Loss: 0.053148526698350906 | Test_loss:0.14464017748832703\n",
            "epoch40 | Loss: 0.04543796554207802 | Test_loss:0.11360953003168106\n"
          ]
        }
      ],
      "source": [
        "\n",
        "torch.manual_seed(42)\n",
        "\n",
        "#An epoch is one loop through the data\n",
        "epochs=50\n",
        "\n",
        "#track different values\n",
        "epoch_count=[]\n",
        "train_loss_value=[]\n",
        "test_loss_values=[]\n",
        "\n",
        "\n",
        "# 0.Loop Through The data\n",
        "for epoch in range(epochs):\n",
        "  linear_model.train()\n",
        "\n",
        "  #1.Forward\n",
        "  Y_preds=linear_model(X_train)\n",
        "\n",
        "  #2.Loss calculation\n",
        "  loss=loss_fn(Y_preds,Y_train)\n",
        "\n",
        "  #3.Zero gradiant the optimizer\n",
        "  optimizer.zero_grad()\n",
        "\n",
        "\n",
        "  #4.backpropgation\n",
        "  loss.backward()\n",
        "\n",
        "  #5.step the optimizer\n",
        "  optimizer.step()\n",
        "\n",
        "\n",
        "  ###Testing\n",
        "\n",
        "  linear_model.eval()     #Sets all parameters require_grad to false  (Dropout/Batchout)\n",
        "  with torch.inference_mode():\n",
        "    #1.Forward pass\n",
        "    test_pred=linear_model(X_test)\n",
        "\n",
        "\n",
        "    #2.loss function\n",
        "\n",
        "    test_loss=loss_fn(test_pred,Y_test)\n",
        "\n",
        "\n",
        "    if epoch %10==0:\n",
        "      epoch_count.append(epoch)\n",
        "      train_loss_value.append(loss)\n",
        "      test_loss_values.append(test_loss)\n",
        "      print(f\"epoch{epoch} | Loss: {loss} | Test_loss:{test_loss}\")\n",
        "\n",
        "\n"
      ]
    },
    {
      "cell_type": "code",
      "execution_count": null,
      "metadata": {
        "colab": {
          "base_uri": "https://localhost:8080/",
          "height": 489
        },
        "id": "gC4E_sAER4SH",
        "outputId": "9d6d0268-4417-46e4-d32f-00c6fa5a2d33"
      },
      "outputs": [
        {
          "output_type": "execute_result",
          "data": {
            "text/plain": [
              "<matplotlib.legend.Legend at 0x782f36422d70>"
            ]
          },
          "metadata": {},
          "execution_count": 54
        },
        {
          "output_type": "display_data",
          "data": {
            "text/plain": [
              "<Figure size 640x480 with 1 Axes>"
            ],
            "image/png": "[encoded data removed]"
          },
          "metadata": {}
        }
      ],
      "source": [
        "#plot the loss curve\n",
        "import numpy as np\n",
        "\n",
        "plt.plot(epoch_count,np.array(torch.tensor(train_loss_value).numpy()), label=\"Train loss\")\n",
        "plt.plot(epoch_count,test_loss_values,label=\"Test loss\")\n",
        "plt.xlabel(\"Epoch\")\n",
        "plt.ylabel(\"loss\")\n",
        "plt.title(\"Loss curve of training and testing\")\n",
        "plt.legend()"
      ]
    },
    {
      "cell_type": "code",
      "execution_count": null,
      "metadata": {
        "colab": {
          "base_uri": "https://localhost:8080/",
          "height": 773
        },
        "id": "KJ22QzE4DnZG",
        "outputId": "21d558d0-5b01-45ad-fa9d-1184a9d278ff"
      },
      "outputs": [
        {
          "output_type": "stream",
          "name": "stdout",
          "text": [
            "tensor([[0.3982],\n",
            "        [0.4049],\n",
            "        [0.4116],\n",
            "        [0.4184],\n",
            "        [0.4251],\n",
            "        [0.4318],\n",
            "        [0.4386],\n",
            "        [0.4453],\n",
            "        [0.4520],\n",
            "        [0.4588]])\n"
          ]
        },
        {
          "output_type": "display_data",
          "data": {
            "text/plain": [
              "<Figure size 1000x700 with 1 Axes>"
            ],
            "image/png": "[encoded data removed]"
          },
          "metadata": {}
        }
      ],
      "source": [
        "print(Y_pred)\n",
        "plot_predictions(prediction =Y_pred)"
      ]
    },
    {
      "cell_type": "code",
      "execution_count": null,
      "metadata": {
        "colab": {
          "base_uri": "https://localhost:8080/"
        },
        "id": "R5G82DHtDnWr",
        "outputId": "a5cafd1b-51db-42db-c3b9-eeaa26e93b95"
      },
      "outputs": [
        {
          "output_type": "stream",
          "name": "stdout",
          "text": [
            "tensor([[0.7784],\n",
            "        [0.7883],\n",
            "        [0.7981],\n",
            "        [0.8079],\n",
            "        [0.8178],\n",
            "        [0.8276],\n",
            "        [0.8375],\n",
            "        [0.8473],\n",
            "        [0.8571],\n",
            "        [0.8670]])\n"
          ]
        }
      ],
      "source": [
        "\n",
        "\n",
        "with torch.inference_mode():\n",
        "  Y_preds_new=linear_model(X_test)\n",
        "\n",
        "print(Y_preds_new)\n"
      ]
    },
    {
      "cell_type": "code",
      "execution_count": null,
      "metadata": {
        "colab": {
          "base_uri": "https://localhost:8080/",
          "height": 616
        },
        "id": "gNZzFostDnUe",
        "outputId": "a8ad839b-e6ab-4461-bbae-27370792427e"
      },
      "outputs": [
        {
          "output_type": "stream",
          "name": "stdout",
          "text": [
            "OrderedDict([('weight', tensor([0.4920])), ('bias', tensor([0.3848]))])\n"
          ]
        },
        {
          "output_type": "display_data",
          "data": {
            "text/plain": [
              "<Figure size 1000x700 with 1 Axes>"
            ],
            "image/png": "[encoded data removed]"
          },
          "metadata": {}
        }
      ],
      "source": [
        "plot_predictions(prediction=Y_preds_new)\n",
        "\n",
        "\n",
        "print(linear_model.state_dict())"
      ]
    },
    {
      "cell_type": "markdown",
      "metadata": {
        "id": "pAsHmCCptXd-"
      },
      "source": [
        "### saving a model in python\n"
      ]
    },
    {
      "cell_type": "code",
      "execution_count": null,
      "metadata": {
        "colab": {
          "base_uri": "https://localhost:8080/"
        },
        "id": "8Hsbsw7dDnP_",
        "outputId": "e0ef4cf6-0387-4217-fc84-a8104b561a3f"
      },
      "outputs": [
        {
          "output_type": "stream",
          "name": "stdout",
          "text": [
            "Saving the model tomodel/01_linear_reg.pt\n"
          ]
        }
      ],
      "source": [
        "#saving our pytorch model\n",
        "\n",
        "from pathlib import Path\n",
        "\n",
        "#1. Create models directory\n",
        "\n",
        "MODEL_PATH = Path(\"model\")\n",
        "MODEL_PATH.mkdir(parents=True,exist_ok=True)\n",
        "\n",
        "\n",
        "#2.Create model save path\n",
        "MODEL_NAME=\"01_linear_reg.pt\"\n",
        "MODEL_SAVE_PATH=MODEL_PATH/MODEL_NAME\n",
        "\n",
        "#3.Save the Model\n",
        "print(f\"Saving the model to{MODEL_SAVE_PATH}\")\n",
        "torch.save(linear_model.state_dict(),MODEL_SAVE_PATH)\n"
      ]
    },
    {
      "cell_type": "code",
      "execution_count": null,
      "metadata": {
        "colab": {
          "base_uri": "https://localhost:8080/"
        },
        "id": "ntOT9DRZDnN0",
        "outputId": "51fc0423-2124-4f2d-870b-b2ac79f2ff86"
      },
      "outputs": [
        {
          "output_type": "stream",
          "name": "stdout",
          "text": [
            "/\n"
          ]
        }
      ],
      "source": [
        "cd .."
      ]
    },
    {
      "cell_type": "code",
      "execution_count": null,
      "metadata": {
        "colab": {
          "base_uri": "https://localhost:8080/"
        },
        "id": "gN1EzDErgDwr",
        "outputId": "eb071573-b5f7-42d0-e8f6-197689364b88"
      },
      "outputs": [
        {
          "output_type": "stream",
          "name": "stdout",
          "text": [
            "total 4\n",
            "-rw-r--r-- 1 root root 1532 May 28 10:26 01_linear_reg.pt\n"
          ]
        }
      ],
      "source": [
        "ls -l model"
      ]
    },
    {
      "cell_type": "markdown",
      "metadata": {
        "id": "a5R7m5i4hxhN"
      },
      "source": [
        "\n",
        "# loading a pytorch model\n",
        "\n"
      ]
    },
    {
      "cell_type": "code",
      "execution_count": null,
      "metadata": {
        "colab": {
          "base_uri": "https://localhost:8080/"
        },
        "id": "5d4184iIhxUX",
        "outputId": "33c3fbf5-f357-472e-9cb0-b884b292dd06"
      },
      "outputs": [
        {
          "output_type": "execute_result",
          "data": {
            "text/plain": [
              "<All keys matched successfully>"
            ]
          },
          "metadata": {},
          "execution_count": 61
        }
      ],
      "source": [
        "#to load we have to create a new instance if the class\n",
        "\n",
        "loaded_linear_model=LinearRegressionModel()\n",
        "\n",
        "loaded_linear_model.load_state_dict(torch.load(MODEL_SAVE_PATH))"
      ]
    },
    {
      "cell_type": "code",
      "execution_count": null,
      "metadata": {
        "colab": {
          "base_uri": "https://localhost:8080/"
        },
        "id": "k9fs4f4whxQv",
        "outputId": "8becebdf-9acc-4e8b-fc04-9b2ba56ea25c"
      },
      "outputs": [
        {
          "output_type": "execute_result",
          "data": {
            "text/plain": [
              "tensor([[0.7784],\n",
              "        [0.7883],\n",
              "        [0.7981],\n",
              "        [0.8079],\n",
              "        [0.8178],\n",
              "        [0.8276],\n",
              "        [0.8375],\n",
              "        [0.8473],\n",
              "        [0.8571],\n",
              "        [0.8670]])"
            ]
          },
          "metadata": {},
          "execution_count": 62
        }
      ],
      "source": [
        "#lets predict with our model\n",
        "\n",
        "loaded_linear_model.eval()\n",
        "with torch.inference_mode():\n",
        "  loaded_pred=loaded_linear_model(X_test)\n",
        "\n",
        "loaded_pred"
      ]
    },
    {
      "cell_type": "code",
      "execution_count": null,
      "metadata": {
        "colab": {
          "base_uri": "https://localhost:8080/"
        },
        "id": "FdUUKG7QhxOr",
        "outputId": "6604e406-a3cb-47c4-c107-70e366798891"
      },
      "outputs": [
        {
          "output_type": "execute_result",
          "data": {
            "text/plain": [
              "tensor([[True],\n",
              "        [True],\n",
              "        [True],\n",
              "        [True],\n",
              "        [True],\n",
              "        [True],\n",
              "        [True],\n",
              "        [True],\n",
              "        [True],\n",
              "        [True]])"
            ]
          },
          "metadata": {},
          "execution_count": 63
        }
      ],
      "source": [
        "linear_model.eval()\n",
        "\n",
        "with torch.inference_mode():\n",
        "  Y_pred=linear_model(X_test)\n",
        "\n",
        "\n",
        "\n",
        "loaded_pred==Y_pred"
      ]
    },
    {
      "cell_type": "code",
      "execution_count": null,
      "metadata": {
        "colab": {
          "base_uri": "https://localhost:8080/"
        },
        "id": "nRG86cmkhxNB",
        "outputId": "50df6993-c9b3-4b39-b7fd-406710ae00cb"
      },
      "outputs": [
        {
          "output_type": "execute_result",
          "data": {
            "text/plain": [
              "tensor([[False],\n",
              "        [False],\n",
              "        [False],\n",
              "        [False],\n",
              "        [False],\n",
              "        [False],\n",
              "        [False],\n",
              "        [False],\n",
              "        [False],\n",
              "        [False]])"
            ]
          },
          "metadata": {},
          "execution_count": 64
        }
      ],
      "source": [
        "loaded=LinearRegressionModel()\n",
        "Y_p=loaded(X_test)\n",
        "Y_p==Y_pred"
      ]
    },
    {
      "cell_type": "code",
      "execution_count": null,
      "metadata": {
        "colab": {
          "base_uri": "https://localhost:8080/"
        },
        "id": "dHaPOpHhhxLL",
        "outputId": "3a42d2bf-9cda-4fa3-cd5f-998c17b39f85"
      },
      "outputs": [
        {
          "output_type": "execute_result",
          "data": {
            "text/plain": [
              "(tensor([[0.0000],\n",
              "         [0.0200],\n",
              "         [0.0400],\n",
              "         [0.0600],\n",
              "         [0.0800],\n",
              "         [0.1000],\n",
              "         [0.1200],\n",
              "         [0.1400],\n",
              "         [0.1600],\n",
              "         [0.1800],\n",
              "         [0.2000],\n",
              "         [0.2200],\n",
              "         [0.2400],\n",
              "         [0.2600],\n",
              "         [0.2800],\n",
              "         [0.3000],\n",
              "         [0.3200],\n",
              "         [0.3400],\n",
              "         [0.3600],\n",
              "         [0.3800],\n",
              "         [0.4000],\n",
              "         [0.4200],\n",
              "         [0.4400],\n",
              "         [0.4600],\n",
              "         [0.4800],\n",
              "         [0.5000],\n",
              "         [0.5200],\n",
              "         [0.5400],\n",
              "         [0.5600],\n",
              "         [0.5800],\n",
              "         [0.6000],\n",
              "         [0.6200],\n",
              "         [0.6400],\n",
              "         [0.6600],\n",
              "         [0.6800],\n",
              "         [0.7000],\n",
              "         [0.7200],\n",
              "         [0.7400],\n",
              "         [0.7600],\n",
              "         [0.7800],\n",
              "         [0.8000],\n",
              "         [0.8200],\n",
              "         [0.8400],\n",
              "         [0.8600],\n",
              "         [0.8800],\n",
              "         [0.9000],\n",
              "         [0.9200],\n",
              "         [0.9400],\n",
              "         [0.9600],\n",
              "         [0.9800]]),\n",
              " tensor([[0.5000],\n",
              "         [0.5180],\n",
              "         [0.5360],\n",
              "         [0.5540],\n",
              "         [0.5720],\n",
              "         [0.5900],\n",
              "         [0.6080],\n",
              "         [0.6260],\n",
              "         [0.6440],\n",
              "         [0.6620],\n",
              "         [0.6800],\n",
              "         [0.6980],\n",
              "         [0.7160],\n",
              "         [0.7340],\n",
              "         [0.7520],\n",
              "         [0.7700],\n",
              "         [0.7880],\n",
              "         [0.8060],\n",
              "         [0.8240],\n",
              "         [0.8420],\n",
              "         [0.8600],\n",
              "         [0.8780],\n",
              "         [0.8960],\n",
              "         [0.9140],\n",
              "         [0.9320],\n",
              "         [0.9500],\n",
              "         [0.9680],\n",
              "         [0.9860],\n",
              "         [1.0040],\n",
              "         [1.0220],\n",
              "         [1.0400],\n",
              "         [1.0580],\n",
              "         [1.0760],\n",
              "         [1.0940],\n",
              "         [1.1120],\n",
              "         [1.1300],\n",
              "         [1.1480],\n",
              "         [1.1660],\n",
              "         [1.1840],\n",
              "         [1.2020],\n",
              "         [1.2200],\n",
              "         [1.2380],\n",
              "         [1.2560],\n",
              "         [1.2740],\n",
              "         [1.2920],\n",
              "         [1.3100],\n",
              "         [1.3280],\n",
              "         [1.3460],\n",
              "         [1.3640],\n",
              "         [1.3820]]))"
            ]
          },
          "metadata": {},
          "execution_count": 65
        }
      ],
      "source": [
        "# known data\n",
        "import torch\n",
        "weight=0.9\n",
        "bias=0.5\n",
        "\n",
        "# preparing the Data\n",
        "\n",
        "start=0\n",
        "step=0.02\n",
        "end=1\n",
        "\n",
        "X=torch.arange(start,end,step).unsqueeze(dim=1)\n",
        "Y=weight*X + bias\n",
        "\n",
        "X,Y\n"
      ]
    },
    {
      "cell_type": "code",
      "execution_count": null,
      "metadata": {
        "colab": {
          "base_uri": "https://localhost:8080/"
        },
        "id": "MhyLdMJHmf2C",
        "outputId": "c0795d59-805a-4203-972c-8c755a734594"
      },
      "outputs": [
        {
          "output_type": "stream",
          "name": "stdout",
          "text": [
            "10 10\n"
          ]
        }
      ],
      "source": [
        "#creating test and training split\n",
        "import torch.nn as nn\n",
        "split=int(0.8*len(X))\n",
        "\n",
        "X_train,Y_train=X[:split],Y[:split]\n",
        "X_test,Y_test=X[split:],Y[split:]\n",
        "\n",
        "print(len(X_test),len(Y_test))"
      ]
    },
    {
      "cell_type": "code",
      "execution_count": null,
      "metadata": {
        "id": "-uukjR7FmfuV"
      },
      "outputs": [],
      "source": [
        "import matplotlib.pyplot as plt\n",
        "\n",
        "def plot_pred(train_data=X_train,\n",
        "              train_label=Y_train,\n",
        "              test_data=X_test,\n",
        "              test_label=Y_test,\n",
        "              prediction =None):\n",
        "  plt.scatter(train_data,train_label,c=\"b\",s=5,label=\"Traing_data\")\n",
        "\n",
        "  plt.scatter(test_data,test_label,c=\"g\",s=5,label=\"Test_data\")\n",
        "\n",
        "  if prediction is not None:\n",
        "    plt.scatter(test_data,prediction,c=\"r\",s=5,label=\"prediction data\")\n",
        "\n",
        "\n",
        "  plt.legend(prop={\"size\":14})\n"
      ]
    },
    {
      "cell_type": "code",
      "execution_count": null,
      "metadata": {
        "id": "jdyNufkQmfoq"
      },
      "outputs": [],
      "source": [
        "loss_fn=nn.L1Loss()    #loss function which is also mse(Mean Absolute Error)\n",
        "loss_fn\n",
        "\n",
        "optimizer=torch.optim.SGD(params=model_1.parameters(),\n",
        "                          lr=0.01)"
      ]
    },
    {
      "cell_type": "code",
      "execution_count": null,
      "metadata": {
        "id": "Y1Al5QHjyw4H"
      },
      "outputs": [],
      "source": []
    },
    {
      "cell_type": "code",
      "execution_count": null,
      "metadata": {
        "id": "UCFgc4IMhxJF"
      },
      "outputs": [],
      "source": []
    },
    {
      "cell_type": "code",
      "execution_count": null,
      "metadata": {
        "colab": {
          "base_uri": "https://localhost:8080/"
        },
        "id": "2C8IFM7QxQn6",
        "outputId": "467188eb-aed8-4228-ab51-1d6eab025d78"
      },
      "outputs": [
        {
          "output_type": "execute_result",
          "data": {
            "text/plain": [
              "(NewLinearReg(\n",
              "   (linear_para): Linear(in_features=1, out_features=1, bias=True)\n",
              " ),\n",
              " OrderedDict([('linear_para.weight', tensor([[0.7645]])),\n",
              "              ('linear_para.bias', tensor([0.8300]))]))"
            ]
          },
          "metadata": {},
          "execution_count": 86
        }
      ],
      "source": [
        "# using the nn model to create a linear regression without using the nn.parameter\n",
        "\n",
        "torch.manual_seed(42)\n",
        "\n",
        "class NewLinearReg(nn.Module):\n",
        "  def __init__(self):\n",
        "    super().__init__()\n",
        "    #using the nn.linear for creating the model parameter\n",
        "    self.linear_para=nn.Linear(in_features=1,\n",
        "                               out_features=1)    #1 refers to the one value of X corresponds to the One value of Y\n",
        "\n",
        "  def forward(self,x:torch.Tensor)->torch.Tensor:\n",
        "    return self.linear_para(x)\n",
        "\n",
        "\n",
        "\n",
        "model_1=NewLinearReg()\n",
        "\n",
        "model_1,model_1.state_dict()\n"
      ]
    },
    {
      "cell_type": "code",
      "execution_count": null,
      "metadata": {
        "colab": {
          "base_uri": "https://localhost:8080/"
        },
        "id": "YA6DuLgNyJL2",
        "outputId": "eaf4ed14-f6b8-4662-f4b1-6a4020e8efb6"
      },
      "outputs": [
        {
          "output_type": "execute_result",
          "data": {
            "text/plain": [
              "device(type='cpu')"
            ]
          },
          "metadata": {},
          "execution_count": 70
        }
      ],
      "source": [
        "next(model_1.parameters()).device"
      ]
    },
    {
      "cell_type": "code",
      "execution_count": null,
      "metadata": {
        "colab": {
          "base_uri": "https://localhost:8080/",
          "height": 321
        },
        "id": "4XGlrYpfyJIk",
        "outputId": "c8c9c339-3b81-4001-c769-bff9867c1797"
      },
      "outputs": [
        {
          "output_type": "error",
          "ename": "RuntimeError",
          "evalue": "Found no NVIDIA driver on your system. Please check that you have an NVIDIA GPU and installed a driver from http://www.nvidia.com/Download/index.aspx",
          "traceback": [
            "\u001b[0;31m---------------------------------------------------------------------------\u001b[0m",
            "\u001b[0;31mRuntimeError\u001b[0m                              Traceback (most recent call last)",
            "\u001b[0;32m<ipython-input-71-f578aaf39700>\u001b[0m in \u001b[0;36m<cell line: 1>\u001b[0;34m()\u001b[0m\n\u001b[0;32m----> 1\u001b[0;31m \u001b[0mmodel_1\u001b[0m\u001b[0;34m.\u001b[0m\u001b[0mto\u001b[0m\u001b[0;34m(\u001b[0m\u001b[0;34m\"cuda\"\u001b[0m\u001b[0;34m)\u001b[0m\u001b[0;34m\u001b[0m\u001b[0;34m\u001b[0m\u001b[0m\n\u001b[0m\u001b[1;32m      2\u001b[0m \u001b[0mnext\u001b[0m\u001b[0;34m(\u001b[0m\u001b[0mmodel_1\u001b[0m\u001b[0;34m.\u001b[0m\u001b[0mparameters\u001b[0m\u001b[0;34m(\u001b[0m\u001b[0;34m)\u001b[0m\u001b[0;34m)\u001b[0m\u001b[0;34m.\u001b[0m\u001b[0mdevice\u001b[0m\u001b[0;34m\u001b[0m\u001b[0;34m\u001b[0m\u001b[0m\n",
            "\u001b[0;32m/usr/local/lib/python3.10/dist-packages/torch/nn/modules/module.py\u001b[0m in \u001b[0;36mto\u001b[0;34m(self, *args, **kwargs)\u001b[0m\n\u001b[1;32m   1171\u001b[0m                     \u001b[0;32mraise\u001b[0m\u001b[0;34m\u001b[0m\u001b[0;34m\u001b[0m\u001b[0m\n\u001b[1;32m   1172\u001b[0m \u001b[0;34m\u001b[0m\u001b[0m\n\u001b[0;32m-> 1173\u001b[0;31m         \u001b[0;32mreturn\u001b[0m \u001b[0mself\u001b[0m\u001b[0;34m.\u001b[0m\u001b[0m_apply\u001b[0m\u001b[0;34m(\u001b[0m\u001b[0mconvert\u001b[0m\u001b[0;34m)\u001b[0m\u001b[0;34m\u001b[0m\u001b[0;34m\u001b[0m\u001b[0m\n\u001b[0m\u001b[1;32m   1174\u001b[0m \u001b[0;34m\u001b[0m\u001b[0m\n\u001b[1;32m   1175\u001b[0m     def register_full_backward_pre_hook(\n",
            "\u001b[0;32m/usr/local/lib/python3.10/dist-packages/torch/nn/modules/module.py\u001b[0m in \u001b[0;36m_apply\u001b[0;34m(self, fn, recurse)\u001b[0m\n\u001b[1;32m    777\u001b[0m         \u001b[0;32mif\u001b[0m \u001b[0mrecurse\u001b[0m\u001b[0;34m:\u001b[0m\u001b[0;34m\u001b[0m\u001b[0;34m\u001b[0m\u001b[0m\n\u001b[1;32m    778\u001b[0m             \u001b[0;32mfor\u001b[0m \u001b[0mmodule\u001b[0m \u001b[0;32min\u001b[0m \u001b[0mself\u001b[0m\u001b[0;34m.\u001b[0m\u001b[0mchildren\u001b[0m\u001b[0;34m(\u001b[0m\u001b[0;34m)\u001b[0m\u001b[0;34m:\u001b[0m\u001b[0;34m\u001b[0m\u001b[0;34m\u001b[0m\u001b[0m\n\u001b[0;32m--> 779\u001b[0;31m                 \u001b[0mmodule\u001b[0m\u001b[0;34m.\u001b[0m\u001b[0m_apply\u001b[0m\u001b[0;34m(\u001b[0m\u001b[0mfn\u001b[0m\u001b[0;34m)\u001b[0m\u001b[0;34m\u001b[0m\u001b[0;34m\u001b[0m\u001b[0m\n\u001b[0m\u001b[1;32m    780\u001b[0m \u001b[0;34m\u001b[0m\u001b[0m\n\u001b[1;32m    781\u001b[0m         \u001b[0;32mdef\u001b[0m \u001b[0mcompute_should_use_set_data\u001b[0m\u001b[0;34m(\u001b[0m\u001b[0mtensor\u001b[0m\u001b[0;34m,\u001b[0m \u001b[0mtensor_applied\u001b[0m\u001b[0;34m)\u001b[0m\u001b[0;34m:\u001b[0m\u001b[0;34m\u001b[0m\u001b[0;34m\u001b[0m\u001b[0m\n",
            "\u001b[0;32m/usr/local/lib/python3.10/dist-packages/torch/nn/modules/module.py\u001b[0m in \u001b[0;36m_apply\u001b[0;34m(self, fn, recurse)\u001b[0m\n\u001b[1;32m    802\u001b[0m             \u001b[0;31m# `with torch.no_grad():`\u001b[0m\u001b[0;34m\u001b[0m\u001b[0;34m\u001b[0m\u001b[0m\n\u001b[1;32m    803\u001b[0m             \u001b[0;32mwith\u001b[0m \u001b[0mtorch\u001b[0m\u001b[0;34m.\u001b[0m\u001b[0mno_grad\u001b[0m\u001b[0;34m(\u001b[0m\u001b[0;34m)\u001b[0m\u001b[0;34m:\u001b[0m\u001b[0;34m\u001b[0m\u001b[0;34m\u001b[0m\u001b[0m\n\u001b[0;32m--> 804\u001b[0;31m                 \u001b[0mparam_applied\u001b[0m \u001b[0;34m=\u001b[0m \u001b[0mfn\u001b[0m\u001b[0;34m(\u001b[0m\u001b[0mparam\u001b[0m\u001b[0;34m)\u001b[0m\u001b[0;34m\u001b[0m\u001b[0;34m\u001b[0m\u001b[0m\n\u001b[0m\u001b[1;32m    805\u001b[0m             \u001b[0mp_should_use_set_data\u001b[0m \u001b[0;34m=\u001b[0m \u001b[0mcompute_should_use_set_data\u001b[0m\u001b[0;34m(\u001b[0m\u001b[0mparam\u001b[0m\u001b[0;34m,\u001b[0m \u001b[0mparam_applied\u001b[0m\u001b[0;34m)\u001b[0m\u001b[0;34m\u001b[0m\u001b[0;34m\u001b[0m\u001b[0m\n\u001b[1;32m    806\u001b[0m \u001b[0;34m\u001b[0m\u001b[0m\n",
            "\u001b[0;32m/usr/local/lib/python3.10/dist-packages/torch/nn/modules/module.py\u001b[0m in \u001b[0;36mconvert\u001b[0;34m(t)\u001b[0m\n\u001b[1;32m   1157\u001b[0m                         \u001b[0mmemory_format\u001b[0m\u001b[0;34m=\u001b[0m\u001b[0mconvert_to_format\u001b[0m\u001b[0;34m,\u001b[0m\u001b[0;34m\u001b[0m\u001b[0;34m\u001b[0m\u001b[0m\n\u001b[1;32m   1158\u001b[0m                     )\n\u001b[0;32m-> 1159\u001b[0;31m                 return t.to(\n\u001b[0m\u001b[1;32m   1160\u001b[0m                     \u001b[0mdevice\u001b[0m\u001b[0;34m,\u001b[0m\u001b[0;34m\u001b[0m\u001b[0;34m\u001b[0m\u001b[0m\n\u001b[1;32m   1161\u001b[0m                     \u001b[0mdtype\u001b[0m \u001b[0;32mif\u001b[0m \u001b[0mt\u001b[0m\u001b[0;34m.\u001b[0m\u001b[0mis_floating_point\u001b[0m\u001b[0;34m(\u001b[0m\u001b[0;34m)\u001b[0m \u001b[0;32mor\u001b[0m \u001b[0mt\u001b[0m\u001b[0;34m.\u001b[0m\u001b[0mis_complex\u001b[0m\u001b[0;34m(\u001b[0m\u001b[0;34m)\u001b[0m \u001b[0;32melse\u001b[0m \u001b[0;32mNone\u001b[0m\u001b[0;34m,\u001b[0m\u001b[0;34m\u001b[0m\u001b[0;34m\u001b[0m\u001b[0m\n",
            "\u001b[0;32m/usr/local/lib/python3.10/dist-packages/torch/cuda/__init__.py\u001b[0m in \u001b[0;36m_lazy_init\u001b[0;34m()\u001b[0m\n\u001b[1;32m    291\u001b[0m         \u001b[0;32mif\u001b[0m \u001b[0;34m\"CUDA_MODULE_LOADING\"\u001b[0m \u001b[0;32mnot\u001b[0m \u001b[0;32min\u001b[0m \u001b[0mos\u001b[0m\u001b[0;34m.\u001b[0m\u001b[0menviron\u001b[0m\u001b[0;34m:\u001b[0m\u001b[0;34m\u001b[0m\u001b[0;34m\u001b[0m\u001b[0m\n\u001b[1;32m    292\u001b[0m             \u001b[0mos\u001b[0m\u001b[0;34m.\u001b[0m\u001b[0menviron\u001b[0m\u001b[0;34m[\u001b[0m\u001b[0;34m\"CUDA_MODULE_LOADING\"\u001b[0m\u001b[0;34m]\u001b[0m \u001b[0;34m=\u001b[0m \u001b[0;34m\"LAZY\"\u001b[0m\u001b[0;34m\u001b[0m\u001b[0;34m\u001b[0m\u001b[0m\n\u001b[0;32m--> 293\u001b[0;31m         \u001b[0mtorch\u001b[0m\u001b[0;34m.\u001b[0m\u001b[0m_C\u001b[0m\u001b[0;34m.\u001b[0m\u001b[0m_cuda_init\u001b[0m\u001b[0;34m(\u001b[0m\u001b[0;34m)\u001b[0m\u001b[0;34m\u001b[0m\u001b[0;34m\u001b[0m\u001b[0m\n\u001b[0m\u001b[1;32m    294\u001b[0m         \u001b[0;31m# Some of the queued calls may reentrantly call _lazy_init();\u001b[0m\u001b[0;34m\u001b[0m\u001b[0;34m\u001b[0m\u001b[0m\n\u001b[1;32m    295\u001b[0m         \u001b[0;31m# we need to just return without initializing in that case.\u001b[0m\u001b[0;34m\u001b[0m\u001b[0;34m\u001b[0m\u001b[0m\n",
            "\u001b[0;31mRuntimeError\u001b[0m: Found no NVIDIA driver on your system. Please check that you have an NVIDIA GPU and installed a driver from http://www.nvidia.com/Download/index.aspx"
          ]
        }
      ],
      "source": [
        "model_1.to(\"cuda\")\n",
        "next(model_1.parameters()).device"
      ]
    },
    {
      "cell_type": "code",
      "execution_count": null,
      "metadata": {
        "id": "JlgRHDjmyJEw"
      },
      "outputs": [],
      "source": [
        "device=\"cuda\""
      ]
    },
    {
      "cell_type": "code",
      "execution_count": null,
      "metadata": {
        "id": "ZQCnec-tyJCi"
      },
      "outputs": [],
      "source": [
        "X_train=X_train.to(device)\n",
        "X_test=X_test.to(device)\n",
        "Y_train=Y_train.to(device)\n",
        "Y_test=Y_test.to(device)"
      ]
    },
    {
      "cell_type": "code",
      "source": [
        "loss_fn=nn.L1Loss()    #loss function which is also mse(Mean Absolute Error)\n",
        "loss_fn\n",
        "\n",
        "optimizer=torch.optim.SGD(params=model_1.parameters(),\n",
        "                          lr=0.01)"
      ],
      "metadata": {
        "id": "JiZEmUec68sH"
      },
      "execution_count": null,
      "outputs": []
    },
    {
      "cell_type": "code",
      "execution_count": null,
      "metadata": {
        "id": "OSrN1sxUvqJK"
      },
      "outputs": [],
      "source": [
        "# creating the trainig and testing loop for the the model\n",
        "\n",
        "\n",
        "##assigning the value to the epochs\n",
        "epochs=200\n",
        "\n",
        "for epoch in range(epochs):\n",
        "  model_1.train()\n",
        "\n",
        "  #1.farword pass\n",
        "  Y_pred=model_1(X_train)\n",
        "\n",
        "  #2.impelemt the loss function\n",
        "  loss=loss_fn(Y_pred,Y_train)\n",
        "\n",
        "  #3.zero_grad\n",
        "  optimizer.zero_grad()\n",
        "\n",
        "  #4.Backpropagation\n",
        "  loss.backward()\n",
        "\n",
        "  #5.step the model\n",
        "  optimizer.step()\n",
        "\n",
        "  #testing loop\n",
        "  model_1.eval()\n",
        "  test_res=model_1(X_test)\n",
        "\n",
        "  #loss calcuation\n",
        "  test_loss=loss_fn(test_res,Y_test)"
      ]
    },
    {
      "cell_type": "code",
      "execution_count": null,
      "metadata": {
        "id": "_-J8v3FAwByM"
      },
      "outputs": [],
      "source": [
        "with torch.inference_mode():\n",
        "  Y_pr=model_1(X_test)"
      ]
    },
    {
      "cell_type": "code",
      "source": [
        "model_1.state_dict()"
      ],
      "metadata": {
        "colab": {
          "base_uri": "https://localhost:8080/"
        },
        "id": "GHABcAon0KXA",
        "outputId": "b12712bd-b137-42f2-f706-37ac61568632"
      },
      "execution_count": null,
      "outputs": [
        {
          "output_type": "execute_result",
          "data": {
            "text/plain": [
              "OrderedDict([('linear_para.weight', tensor([[0.8981]])),\n",
              "             ('linear_para.bias', tensor([0.5098]))])"
            ]
          },
          "metadata": {},
          "execution_count": 97
        }
      ]
    },
    {
      "cell_type": "code",
      "source": [
        "plot_pred(prediction=Y_pr.cpu())"
      ],
      "metadata": {
        "colab": {
          "base_uri": "https://localhost:8080/",
          "height": 430
        },
        "id": "mevsuzuF8I38",
        "outputId": "a517fcce-806c-4464-ee0e-725df0b4c949"
      },
      "execution_count": null,
      "outputs": [
        {
          "output_type": "display_data",
          "data": {
            "text/plain": [
              "<Figure size 640x480 with 1 Axes>"
            ],
            "image/png": "[encoded data removed]"
          },
          "metadata": {}
        }
      ]
    },
    {
      "cell_type": "code",
      "source": [
        "\n",
        "\n",
        "\n",
        "#1.Create models directory\n",
        "MODEL_PATH = Path(\"model\")\n",
        "MODEL_PATH.mkdir(parents=True,exist_ok=True)\n",
        "\n",
        "\n",
        "#2.Create a model save path\n",
        "MODEL_NAME= \"01_workflow.pth\"\n",
        "MODEL_SAVE_PATH= MODEL_PATH / MODEL_NAME\n",
        "\n",
        "#3.Save the Model state dict\n",
        "\n",
        "print(f\"Saving the path to {MODEL_SAVE_PATH}\")\n",
        "torch.save(model_1.state_dict(),\n",
        "           MODEL_SAVE_PATH)"
      ],
      "metadata": {
        "colab": {
          "base_uri": "https://localhost:8080/"
        },
        "id": "Q6ThhtZu8OxM",
        "outputId": "d298f935-b714-45ec-dc74-edd633f4ae74"
      },
      "execution_count": null,
      "outputs": [
        {
          "output_type": "stream",
          "name": "stdout",
          "text": [
            "Saving the path to model/01_workflow.pth\n"
          ]
        }
      ]
    },
    {
      "cell_type": "code",
      "source": [
        "#loading the model\n",
        "\n",
        "#creating a new instance of linear regression model v2\n",
        "loaded_model=NewLinearReg()\n",
        "\n",
        "loaded_model.load_state_dict(torch.load(MODEL_SAVE_PATH))\n",
        "loaded_model.to(\"cpu\")"
      ],
      "metadata": {
        "id": "gcwykv-Huk83",
        "colab": {
          "base_uri": "https://localhost:8080/"
        },
        "outputId": "f12a297b-c5e4-47b1-d535-60f437eda3d4"
      },
      "execution_count": null,
      "outputs": [
        {
          "output_type": "execute_result",
          "data": {
            "text/plain": [
              "NewLinearReg(\n",
              "  (linear_para): Linear(in_features=1, out_features=1, bias=True)\n",
              ")"
            ]
          },
          "metadata": {},
          "execution_count": 95
        }
      ]
    },
    {
      "cell_type": "code",
      "source": [
        "loaded_model.state_dict()"
      ],
      "metadata": {
        "colab": {
          "base_uri": "https://localhost:8080/"
        },
        "id": "NSOm2BJQzX1A",
        "outputId": "49ddd73e-b0e5-4d84-d7de-d9e0ead91490"
      },
      "execution_count": null,
      "outputs": [
        {
          "output_type": "execute_result",
          "data": {
            "text/plain": [
              "OrderedDict([('linear_para.weight', tensor([[0.8981]])),\n",
              "             ('linear_para.bias', tensor([0.5098]))])"
            ]
          },
          "metadata": {},
          "execution_count": 96
        }
      ]
    },
    {
      "cell_type": "code",
      "source": [
        "loaded_model.eval()\n",
        "with torch.inference_mode():\n",
        "  loaded_model_Ypreds=loaded_model(X_test)\n",
        "\n",
        "\n",
        "Y_pr==loaded_model_Ypreds"
      ],
      "metadata": {
        "colab": {
          "base_uri": "https://localhost:8080/"
        },
        "id": "haVQk72n0RXc",
        "outputId": "d8f9593c-70af-4801-b398-b5012aaff49e"
      },
      "execution_count": null,
      "outputs": [
        {
          "output_type": "execute_result",
          "data": {
            "text/plain": [
              "tensor([[True],\n",
              "        [True],\n",
              "        [True],\n",
              "        [True],\n",
              "        [True],\n",
              "        [True],\n",
              "        [True],\n",
              "        [True],\n",
              "        [True],\n",
              "        [True]])"
            ]
          },
          "metadata": {},
          "execution_count": 99
        }
      ]
    },
    {
      "cell_type": "code",
      "source": [],
      "metadata": {
        "id": "QVV2ono50RUH"
      },
      "execution_count": null,
      "outputs": []
    },
    {
      "cell_type": "code",
      "source": [],
      "metadata": {
        "id": "OMXADcoj0RSg"
      },
      "execution_count": null,
      "outputs": []
    },
    {
      "cell_type": "code",
      "source": [],
      "metadata": {
        "id": "jbZ-sgsW0RQa"
      },
      "execution_count": null,
      "outputs": []
    },
    {
      "cell_type": "code",
      "source": [],
      "metadata": {
        "id": "Uz0BSYbh0ROV"
      },
      "execution_count": null,
      "outputs": []
    },
    {
      "cell_type": "code",
      "source": [],
      "metadata": {
        "id": "_sTjRfn0z_7n"
      },
      "execution_count": null,
      "outputs": []
    }
  ],
  "metadata": {
    "accelerator": "GPU",
    "colab": {
      "gpuType": "T4",
      "provenance": [],
      "authorship_tag": "ABX9TyNpWEh7wF9wEiDbcc3MVyQM",
      "include_colab_link": true
    },
    "kernelspec": {
      "display_name": "Python 3",
      "name": "python3"
    },
    "language_info": {
      "name": "python"
    }
  },
  "nbformat": 4,
  "nbformat_minor": 0
}