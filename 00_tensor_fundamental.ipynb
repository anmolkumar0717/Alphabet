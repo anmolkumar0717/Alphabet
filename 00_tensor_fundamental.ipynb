{
  "cells": [
    {
      "cell_type": "markdown",
      "metadata": {
        "id": "view-in-github",
        "colab_type": "text"
      },
      "source": [
        "<a href=\"https://colab.research.google.com/github/anmolkumar0717/pyTorch/blob/main/00_tensor_fundamental.ipynb\" target=\"_parent\"><img src=\"https://colab.research.google.com/assets/colab-badge.svg\" alt=\"Open In Colab\"/></a>"
      ]
    },
    {
      "cell_type": "code",
      "execution_count": null,
      "metadata": {
        "colab": {
          "background_save": true,
          "base_uri": "https://localhost:8080/"
        },
        "id": "hU4393nd6VEV",
        "outputId": "246d390f-2a2f-40cc-b141-f983ed48f57d"
      },
      "outputs": [
        {
          "name": "stdout",
          "output_type": "stream",
          "text": [
            "hello\n"
          ]
        }
      ],
      "source": [
        "print(\"hello\")"
      ]
    },
    {
      "cell_type": "code",
      "execution_count": null,
      "metadata": {
        "colab": {
          "base_uri": "https://localhost:8080/"
        },
        "id": "YTqP9gLN6Y0J",
        "outputId": "9e9c9a98-255e-4a9e-d233-bed9ddc38b20"
      },
      "outputs": [
        {
          "name": "stdout",
          "output_type": "stream",
          "text": [
            "Sat May 11 05:24:24 2024       \n",
            "+---------------------------------------------------------------------------------------+\n",
            "| NVIDIA-SMI 535.104.05             Driver Version: 535.104.05   CUDA Version: 12.2     |\n",
            "|-----------------------------------------+----------------------+----------------------+\n",
            "| GPU  Name                 Persistence-M | Bus-Id        Disp.A | Volatile Uncorr. ECC |\n",
            "| Fan  Temp   Perf          Pwr:Usage/Cap |         Memory-Usage | GPU-Util  Compute M. |\n",
            "|                                         |                      |               MIG M. |\n",
            "|=========================================+======================+======================|\n",
            "|   0  Tesla T4                       Off | 00000000:00:04.0 Off |                    0 |\n",
            "| N/A   46C    P0              26W /  70W |    151MiB / 15360MiB |      0%      Default |\n",
            "|                                         |                      |                  N/A |\n",
            "+-----------------------------------------+----------------------+----------------------+\n",
            "                                                                                         \n",
            "+---------------------------------------------------------------------------------------+\n",
            "| Processes:                                                                            |\n",
            "|  GPU   GI   CI        PID   Type   Process name                            GPU Memory |\n",
            "|        ID   ID                                                             Usage      |\n",
            "|=======================================================================================|\n",
            "+---------------------------------------------------------------------------------------+\n"
          ]
        }
      ],
      "source": [
        "!nvidia-smi\n"
      ]
    },
    {
      "cell_type": "code",
      "execution_count": null,
      "metadata": {
        "colab": {
          "base_uri": "https://localhost:8080/"
        },
        "id": "8lWt_QBD7twf",
        "outputId": "7a67a383-9633-40f7-f278-90d109e51cbd"
      },
      "outputs": [
        {
          "name": "stdout",
          "output_type": "stream",
          "text": [
            "2.2.1+cu121\n"
          ]
        }
      ],
      "source": [
        "import torch\n",
        "import pandas as pd\n",
        "import matplotlib.pyplot as plt\n",
        "import numpy as np\n",
        "print(torch.__version__)"
      ]
    },
    {
      "cell_type": "code",
      "execution_count": null,
      "metadata": {
        "colab": {
          "base_uri": "https://localhost:8080/"
        },
        "id": "9TDJg70M9Tld",
        "outputId": "2c64fbe8-5d24-4198-bb5b-e8299b8d5467"
      },
      "outputs": [
        {
          "data": {
            "text/plain": [
              "tensor(7)"
            ]
          },
          "execution_count": 100,
          "metadata": {},
          "output_type": "execute_result"
        }
      ],
      "source": [
        "#scaler\n",
        "scaler=torch.tensor(7)\n",
        "scaler"
      ]
    },
    {
      "cell_type": "code",
      "execution_count": null,
      "metadata": {
        "colab": {
          "base_uri": "https://localhost:8080/"
        },
        "id": "xaPjVnsu-vCL",
        "outputId": "43576624-4d72-4f94-c54f-190edde03e86"
      },
      "outputs": [
        {
          "data": {
            "text/plain": [
              "0"
            ]
          },
          "execution_count": 101,
          "metadata": {},
          "output_type": "execute_result"
        }
      ],
      "source": [
        "scaler.ndim"
      ]
    },
    {
      "cell_type": "code",
      "execution_count": null,
      "metadata": {
        "colab": {
          "base_uri": "https://localhost:8080/"
        },
        "id": "qai1Z6oC_A2H",
        "outputId": "ce5536c1-a99d-4467-8971-1143118b126e"
      },
      "outputs": [
        {
          "data": {
            "text/plain": [
              "7"
            ]
          },
          "execution_count": 102,
          "metadata": {},
          "output_type": "execute_result"
        }
      ],
      "source": [
        "scaler.item()"
      ]
    },
    {
      "cell_type": "code",
      "execution_count": null,
      "metadata": {
        "colab": {
          "base_uri": "https://localhost:8080/"
        },
        "id": "Zyd6tmUb_Njh",
        "outputId": "9bec14b4-0b23-468a-c3b6-3f84181f9c62"
      },
      "outputs": [
        {
          "data": {
            "text/plain": [
              "tensor([7, 7])"
            ]
          },
          "execution_count": 103,
          "metadata": {},
          "output_type": "execute_result"
        }
      ],
      "source": [
        "#vector\n",
        "\n",
        "vector=torch.tensor([7,7])\n",
        "vector"
      ]
    },
    {
      "cell_type": "code",
      "execution_count": null,
      "metadata": {
        "colab": {
          "base_uri": "https://localhost:8080/"
        },
        "id": "k-WMdGbp_jWU",
        "outputId": "5715b9e0-1838-4f73-848b-c152bc57d749"
      },
      "outputs": [
        {
          "data": {
            "text/plain": [
              "1"
            ]
          },
          "execution_count": 104,
          "metadata": {},
          "output_type": "execute_result"
        }
      ],
      "source": [
        "vector.ndim"
      ]
    },
    {
      "cell_type": "code",
      "execution_count": null,
      "metadata": {
        "colab": {
          "base_uri": "https://localhost:8080/"
        },
        "id": "5Hz8r8aI_m5b",
        "outputId": "1683f48e-c2e9-40ce-f1a3-4c45b3ee7976"
      },
      "outputs": [
        {
          "data": {
            "text/plain": [
              "torch.Size([2])"
            ]
          },
          "execution_count": 105,
          "metadata": {},
          "output_type": "execute_result"
        }
      ],
      "source": [
        "vector.shape"
      ]
    },
    {
      "cell_type": "code",
      "execution_count": null,
      "metadata": {
        "colab": {
          "base_uri": "https://localhost:8080/"
        },
        "id": "kXR0jGDf_q6S",
        "outputId": "3fbb45aa-1888-475d-e84e-778367493a1a"
      },
      "outputs": [
        {
          "data": {
            "text/plain": [
              "tensor([[ 7,  8],\n",
              "        [ 9, 10]])"
            ]
          },
          "execution_count": 106,
          "metadata": {},
          "output_type": "execute_result"
        }
      ],
      "source": [
        "\n",
        "#MATRIX\n",
        "MATRIX=torch.tensor([[7,8],\n",
        "                     [9,10]])\n",
        "MATRIX"
      ]
    },
    {
      "cell_type": "code",
      "execution_count": null,
      "metadata": {
        "colab": {
          "base_uri": "https://localhost:8080/"
        },
        "id": "SxwD133A_6P0",
        "outputId": "8f67c975-2c42-4cbc-a1e1-957e5fb45026"
      },
      "outputs": [
        {
          "data": {
            "text/plain": [
              "torch.Size([2, 2])"
            ]
          },
          "execution_count": 107,
          "metadata": {},
          "output_type": "execute_result"
        }
      ],
      "source": [
        "MATRIX.shape"
      ]
    },
    {
      "cell_type": "code",
      "execution_count": null,
      "metadata": {
        "colab": {
          "base_uri": "https://localhost:8080/"
        },
        "id": "Ty4xgDUMAAB9",
        "outputId": "efc76307-c8db-4217-a408-b7949a175402"
      },
      "outputs": [
        {
          "data": {
            "text/plain": [
              "2"
            ]
          },
          "execution_count": 108,
          "metadata": {},
          "output_type": "execute_result"
        }
      ],
      "source": [
        "MATRIX.ndim"
      ]
    },
    {
      "cell_type": "code",
      "execution_count": null,
      "metadata": {
        "colab": {
          "base_uri": "https://localhost:8080/"
        },
        "id": "WL5lHE_SAIoZ",
        "outputId": "e6042f87-e4fc-4754-f82e-3c95ae2f92cb"
      },
      "outputs": [
        {
          "data": {
            "text/plain": [
              "tensor([[[1, 2, 3],\n",
              "         [3, 4, 5],\n",
              "         [3, 2, 4]]])"
            ]
          },
          "execution_count": 109,
          "metadata": {},
          "output_type": "execute_result"
        }
      ],
      "source": [
        "#TENSOR\n",
        "TENSOR=torch.tensor([[[1,2,3],\n",
        "                      [3,4,5],\n",
        "                      [3,2,4]]])\n",
        "TENSOR\n"
      ]
    },
    {
      "cell_type": "code",
      "execution_count": null,
      "metadata": {
        "colab": {
          "base_uri": "https://localhost:8080/"
        },
        "id": "N2PVp6WLA2qF",
        "outputId": "dcdca590-dcb0-4a33-dbac-1cffbd664faa"
      },
      "outputs": [
        {
          "data": {
            "text/plain": [
              "torch.Size([1, 3, 3])"
            ]
          },
          "execution_count": 110,
          "metadata": {},
          "output_type": "execute_result"
        }
      ],
      "source": [
        "TENSOR.shape\n"
      ]
    },
    {
      "cell_type": "code",
      "execution_count": null,
      "metadata": {
        "colab": {
          "base_uri": "https://localhost:8080/"
        },
        "id": "40NBqtliA7wo",
        "outputId": "74f7647c-57a9-4db7-bea8-741a72ca1926"
      },
      "outputs": [
        {
          "data": {
            "text/plain": [
              "tensor([[[[[[[[[[[[[1, 2, 3, 4],\n",
              "                   [8, 9, 9, 8]]]]]]]]]]]]])"
            ]
          },
          "execution_count": 111,
          "metadata": {},
          "output_type": "execute_result"
        }
      ],
      "source": [
        "a=torch.tensor([[[[[[[[[[[[[1,2,3,4],\n",
        " [8,9,9,8]]]]]]]]]]]]])\n",
        "a"
      ]
    },
    {
      "cell_type": "code",
      "execution_count": null,
      "metadata": {
        "colab": {
          "base_uri": "https://localhost:8080/"
        },
        "id": "-SLdiom6Bi9c",
        "outputId": "5d7ececb-059f-4f98-f492-c531cb6bdaac"
      },
      "outputs": [
        {
          "data": {
            "text/plain": [
              "torch.Size([1, 1, 1, 1, 1, 1, 1, 1, 1, 1, 1, 2, 4])"
            ]
          },
          "execution_count": 112,
          "metadata": {},
          "output_type": "execute_result"
        }
      ],
      "source": [
        "a.shape\n"
      ]
    },
    {
      "cell_type": "code",
      "execution_count": null,
      "metadata": {
        "colab": {
          "base_uri": "https://localhost:8080/"
        },
        "id": "QaNXG4XiCU-m",
        "outputId": "4b2de271-52f9-4872-b4c4-340376ac294a"
      },
      "outputs": [
        {
          "data": {
            "text/plain": [
              "13"
            ]
          },
          "execution_count": 113,
          "metadata": {},
          "output_type": "execute_result"
        }
      ],
      "source": [
        "a.ndim"
      ]
    },
    {
      "cell_type": "markdown",
      "metadata": {
        "id": "vq8JUbCaCyy2"
      },
      "source": [
        "### Create a random tensor"
      ]
    },
    {
      "cell_type": "code",
      "execution_count": null,
      "metadata": {
        "colab": {
          "base_uri": "https://localhost:8080/"
        },
        "id": "-7ai0SB10HRD",
        "outputId": "380247b1-4887-46c0-bea6-7e6adfae7eb1"
      },
      "outputs": [
        {
          "data": {
            "text/plain": [
              "tensor([[0.8549, 0.5509, 0.2868, 0.2063],\n",
              "        [0.4451, 0.3593, 0.7204, 0.0731],\n",
              "        [0.9699, 0.1078, 0.8829, 0.4132]])"
            ]
          },
          "execution_count": 114,
          "metadata": {},
          "output_type": "execute_result"
        }
      ],
      "source": [
        "random_tensor=torch.rand(3,4)\n",
        "random_tensor"
      ]
    },
    {
      "cell_type": "code",
      "execution_count": null,
      "metadata": {
        "colab": {
          "base_uri": "https://localhost:8080/"
        },
        "id": "Q7bAG8IZz30z",
        "outputId": "969ebb1a-6357-4b7c-ceff-81cdd3379cff"
      },
      "outputs": [
        {
          "name": "stdout",
          "output_type": "stream",
          "text": [
            "torch.Size([3, 224, 224]) dimension =  3\n"
          ]
        }
      ],
      "source": [
        "# create a randome tensor with similar shape to an image tensor\n",
        "randome_image_size_tensor=torch.rand(size=(3,224,224))\n",
        "print(randome_image_size_tensor.shape,\"dimension = \",randome_image_size_tensor.ndim)"
      ]
    },
    {
      "cell_type": "code",
      "execution_count": null,
      "metadata": {
        "colab": {
          "base_uri": "https://localhost:8080/"
        },
        "id": "WWES4_eV149_",
        "outputId": "3a12a24e-df10-45f6-846a-7cdaa4bc1ae7"
      },
      "outputs": [
        {
          "name": "stdout",
          "output_type": "stream",
          "text": [
            "tensor([[[0.3430, 0.6513, 0.9604],\n",
            "         [0.8022, 0.7766, 0.4986],\n",
            "         [0.7709, 0.9642, 0.0956],\n",
            "         [0.8524, 0.5605, 0.5408]],\n",
            "\n",
            "        [[0.8122, 0.1871, 0.8872],\n",
            "         [0.6552, 0.7493, 0.8087],\n",
            "         [0.0901, 0.6159, 0.3060],\n",
            "         [0.1290, 0.9871, 0.1484]],\n",
            "\n",
            "        [[0.4072, 0.8050, 0.4766],\n",
            "         [0.9552, 0.3343, 0.7156],\n",
            "         [0.7815, 0.4973, 0.8199],\n",
            "         [0.8321, 0.1745, 0.6312]]])\n",
            "3\n"
          ]
        }
      ],
      "source": [
        "random_tensor1=torch.rand(3,4,3)\n",
        "print(random_tensor1)\n",
        "print(random_tensor1.ndim)"
      ]
    },
    {
      "cell_type": "markdown",
      "metadata": {
        "id": "ZiXu14-d6KmF"
      },
      "source": [
        "### Zeros and Ones Tensor"
      ]
    },
    {
      "cell_type": "code",
      "execution_count": null,
      "metadata": {
        "colab": {
          "base_uri": "https://localhost:8080/"
        },
        "id": "jJ-RxLRA2jQa",
        "outputId": "6ce6a456-7363-4ff0-d0e7-a6d648d71f1c"
      },
      "outputs": [
        {
          "data": {
            "text/plain": [
              "tensor([[0., 0., 0.],\n",
              "        [0., 0., 0.],\n",
              "        [0., 0., 0.],\n",
              "        [0., 0., 0.]])"
            ]
          },
          "execution_count": 117,
          "metadata": {},
          "output_type": "execute_result"
        }
      ],
      "source": [
        "zeros=torch.zeros(size=(4,3))\n",
        "zeros"
      ]
    },
    {
      "cell_type": "code",
      "execution_count": null,
      "metadata": {
        "colab": {
          "base_uri": "https://localhost:8080/"
        },
        "id": "IVpS3vva6jhh",
        "outputId": "922629de-6906-468c-bc47-5bf7bc65ee93"
      },
      "outputs": [
        {
          "data": {
            "text/plain": [
              "tensor([[[0., 0., 0.],\n",
              "         [0., 0., 0.],\n",
              "         [0., 0., 0.],\n",
              "         [0., 0., 0.]],\n",
              "\n",
              "        [[0., 0., 0.],\n",
              "         [0., 0., 0.],\n",
              "         [0., 0., 0.],\n",
              "         [0., 0., 0.]],\n",
              "\n",
              "        [[0., 0., 0.],\n",
              "         [0., 0., 0.],\n",
              "         [0., 0., 0.],\n",
              "         [0., 0., 0.]]])"
            ]
          },
          "execution_count": 118,
          "metadata": {},
          "output_type": "execute_result"
        }
      ],
      "source": [
        "zeros*random_tensor1"
      ]
    },
    {
      "cell_type": "code",
      "execution_count": null,
      "metadata": {
        "colab": {
          "base_uri": "https://localhost:8080/"
        },
        "id": "S8yZFO1G6vp3",
        "outputId": "acb43182-e632-4192-8f8e-081b702ab06c"
      },
      "outputs": [
        {
          "data": {
            "text/plain": [
              "tensor([[[[[1., 1., 1., 1.],\n",
              "           [1., 1., 1., 1.],\n",
              "           [1., 1., 1., 1.]],\n",
              "\n",
              "          [[1., 1., 1., 1.],\n",
              "           [1., 1., 1., 1.],\n",
              "           [1., 1., 1., 1.]]],\n",
              "\n",
              "\n",
              "         [[[1., 1., 1., 1.],\n",
              "           [1., 1., 1., 1.],\n",
              "           [1., 1., 1., 1.]],\n",
              "\n",
              "          [[1., 1., 1., 1.],\n",
              "           [1., 1., 1., 1.],\n",
              "           [1., 1., 1., 1.]]],\n",
              "\n",
              "\n",
              "         [[[1., 1., 1., 1.],\n",
              "           [1., 1., 1., 1.],\n",
              "           [1., 1., 1., 1.]],\n",
              "\n",
              "          [[1., 1., 1., 1.],\n",
              "           [1., 1., 1., 1.],\n",
              "           [1., 1., 1., 1.]]]],\n",
              "\n",
              "\n",
              "\n",
              "        [[[[1., 1., 1., 1.],\n",
              "           [1., 1., 1., 1.],\n",
              "           [1., 1., 1., 1.]],\n",
              "\n",
              "          [[1., 1., 1., 1.],\n",
              "           [1., 1., 1., 1.],\n",
              "           [1., 1., 1., 1.]]],\n",
              "\n",
              "\n",
              "         [[[1., 1., 1., 1.],\n",
              "           [1., 1., 1., 1.],\n",
              "           [1., 1., 1., 1.]],\n",
              "\n",
              "          [[1., 1., 1., 1.],\n",
              "           [1., 1., 1., 1.],\n",
              "           [1., 1., 1., 1.]]],\n",
              "\n",
              "\n",
              "         [[[1., 1., 1., 1.],\n",
              "           [1., 1., 1., 1.],\n",
              "           [1., 1., 1., 1.]],\n",
              "\n",
              "          [[1., 1., 1., 1.],\n",
              "           [1., 1., 1., 1.],\n",
              "           [1., 1., 1., 1.]]]],\n",
              "\n",
              "\n",
              "\n",
              "        [[[[1., 1., 1., 1.],\n",
              "           [1., 1., 1., 1.],\n",
              "           [1., 1., 1., 1.]],\n",
              "\n",
              "          [[1., 1., 1., 1.],\n",
              "           [1., 1., 1., 1.],\n",
              "           [1., 1., 1., 1.]]],\n",
              "\n",
              "\n",
              "         [[[1., 1., 1., 1.],\n",
              "           [1., 1., 1., 1.],\n",
              "           [1., 1., 1., 1.]],\n",
              "\n",
              "          [[1., 1., 1., 1.],\n",
              "           [1., 1., 1., 1.],\n",
              "           [1., 1., 1., 1.]]],\n",
              "\n",
              "\n",
              "         [[[1., 1., 1., 1.],\n",
              "           [1., 1., 1., 1.],\n",
              "           [1., 1., 1., 1.]],\n",
              "\n",
              "          [[1., 1., 1., 1.],\n",
              "           [1., 1., 1., 1.],\n",
              "           [1., 1., 1., 1.]]]]])"
            ]
          },
          "execution_count": 119,
          "metadata": {},
          "output_type": "execute_result"
        }
      ],
      "source": [
        "#creating a tensor of all ones\n",
        "ones=torch.ones(size=(3,3,2,3,4))\n",
        "ones"
      ]
    },
    {
      "cell_type": "code",
      "execution_count": null,
      "metadata": {
        "colab": {
          "base_uri": "https://localhost:8080/"
        },
        "id": "qsQn7R9a7GKp",
        "outputId": "8710661f-8efe-4601-ecf7-1f2c78487d5f"
      },
      "outputs": [
        {
          "data": {
            "text/plain": [
              "torch.float32"
            ]
          },
          "execution_count": 120,
          "metadata": {},
          "output_type": "execute_result"
        }
      ],
      "source": [
        "ones.dtype"
      ]
    },
    {
      "cell_type": "markdown",
      "metadata": {
        "id": "QrgAlCpe7I-y"
      },
      "source": [
        "### creating a range of ternsors and tensor_like"
      ]
    },
    {
      "cell_type": "code",
      "execution_count": null,
      "metadata": {
        "colab": {
          "base_uri": "https://localhost:8080/"
        },
        "id": "qVZaWIyb8pK6",
        "outputId": "55071c48-51e5-450c-e666-01f44333f13b"
      },
      "outputs": [
        {
          "data": {
            "text/plain": [
              "tensor([2, 5, 8])"
            ]
          },
          "execution_count": 121,
          "metadata": {},
          "output_type": "execute_result"
        }
      ],
      "source": [
        "#use torch .rande()\n",
        "one_2_ten=torch.arange(2,11,3)\n",
        "one_2_ten"
      ]
    },
    {
      "cell_type": "code",
      "execution_count": null,
      "metadata": {
        "colab": {
          "base_uri": "https://localhost:8080/"
        },
        "id": "l0ZrHEJf8o8j",
        "outputId": "8cdb5380-09dd-493f-dbb1-53952bb386c3"
      },
      "outputs": [
        {
          "data": {
            "text/plain": [
              "tensor([0, 0, 0])"
            ]
          },
          "execution_count": 122,
          "metadata": {},
          "output_type": "execute_result"
        }
      ],
      "source": [
        "#creating tensors like\n",
        "\n",
        "ten_zeros=torch.zeros_like(input=one_2_ten)\n",
        "ten_zeros"
      ]
    },
    {
      "cell_type": "code",
      "execution_count": null,
      "metadata": {
        "colab": {
          "base_uri": "https://localhost:8080/"
        },
        "id": "FbYNhzdb9sfD",
        "outputId": "2658d6b6-1927-4d73-cb97-a0ef51db30d0"
      },
      "outputs": [
        {
          "data": {
            "text/plain": [
              "tensor([1, 1, 1])"
            ]
          },
          "execution_count": 123,
          "metadata": {},
          "output_type": "execute_result"
        }
      ],
      "source": [
        "ten_one=torch.ones_like(input=ten_zeros)\n",
        "ten_one"
      ]
    },
    {
      "cell_type": "markdown",
      "metadata": {
        "id": "RAc8S0WF-Dyj"
      },
      "source": [
        "### tensor Data type"
      ]
    },
    {
      "cell_type": "code",
      "execution_count": null,
      "metadata": {
        "colab": {
          "base_uri": "https://localhost:8080/"
        },
        "id": "r40mAzUi-zQS",
        "outputId": "45819fee-80da-4041-99b7-606e88d5913d"
      },
      "outputs": [
        {
          "data": {
            "text/plain": [
              "tensor([  1.,   2.,   3.,   3., 423.], dtype=torch.float16)"
            ]
          },
          "execution_count": 124,
          "metadata": {},
          "output_type": "execute_result"
        }
      ],
      "source": [
        "#float 32 tensor\n",
        "float_32_tensor=torch.tensor([1,2,3,3,423],\n",
        "                             dtype=torch.float16,\n",
        "                             device=\"cpu\",\n",
        "                             requires_grad=False)\n",
        "float_32_tensor"
      ]
    },
    {
      "cell_type": "code",
      "execution_count": null,
      "metadata": {
        "colab": {
          "base_uri": "https://localhost:8080/"
        },
        "id": "ob_x6cOM-z8j",
        "outputId": "5717b8f5-b7a7-4bdf-d8cf-894ebf765d94"
      },
      "outputs": [
        {
          "data": {
            "text/plain": [
              "tensor([ 1,  2,  3,  4,  5, 67,  8], dtype=torch.uint8)"
            ]
          },
          "execution_count": 125,
          "metadata": {},
          "output_type": "execute_result"
        }
      ],
      "source": [
        "unsinged_integer=torch.tensor([1,2,3,4,5,67,8],\n",
        "                              dtype=torch.uint8,\n",
        "                              device='cpu',\n",
        "                              requires_grad=False)\n",
        "unsinged_integer"
      ]
    },
    {
      "cell_type": "code",
      "execution_count": null,
      "metadata": {
        "colab": {
          "base_uri": "https://localhost:8080/"
        },
        "id": "3Bqane7k-z5N",
        "outputId": "f119ae19-d595-41d5-eae4-f54bf25afc23"
      },
      "outputs": [
        {
          "data": {
            "text/plain": [
              "torch.uint8"
            ]
          },
          "execution_count": 126,
          "metadata": {},
          "output_type": "execute_result"
        }
      ],
      "source": [
        "unsinged_integer.dtype"
      ]
    },
    {
      "cell_type": "code",
      "execution_count": null,
      "metadata": {
        "colab": {
          "base_uri": "https://localhost:8080/"
        },
        "id": "lHGG_mcOC95a",
        "outputId": "02029502-a3e5-480a-b230-7a62dd7ea851"
      },
      "outputs": [
        {
          "data": {
            "text/plain": [
              "tensor([1, 1, 1, 1, 1, 1, 1, 1, 1, 1])"
            ]
          },
          "execution_count": 127,
          "metadata": {},
          "output_type": "execute_result"
        }
      ],
      "source": [
        "one_ten=torch.ones_like(input=torch.arange(0,10))\n",
        "one_ten"
      ]
    },
    {
      "cell_type": "code",
      "execution_count": null,
      "metadata": {
        "id": "_UYmMv0l5UYF"
      },
      "outputs": [],
      "source": [
        "tensor_16_float=torch.tensor([1,2,32,430],\n",
        "                            dtype=torch.float16,\n",
        "                            device=None,\n",
        "                            requires_grad=False\n",
        "                            )"
      ]
    },
    {
      "cell_type": "code",
      "execution_count": null,
      "metadata": {
        "id": "mg3KvdIm5UfZ"
      },
      "outputs": [],
      "source": [
        "tensor_32_float=torch.tensor([1,2,32,430],\n",
        "                            dtype=torch.float32,\n",
        "                            device=None,\n",
        "                            requires_grad=False\n",
        "                            )"
      ]
    },
    {
      "cell_type": "code",
      "execution_count": null,
      "metadata": {
        "colab": {
          "base_uri": "https://localhost:8080/"
        },
        "id": "ZjFHofc65Uh2",
        "outputId": "73b6f409-44ac-48ef-cf70-19ae62b8e099"
      },
      "outputs": [
        {
          "data": {
            "text/plain": [
              "tensor([1.0000e+00, 4.0000e+00, 1.0240e+03, 1.8490e+05])"
            ]
          },
          "execution_count": 130,
          "metadata": {},
          "output_type": "execute_result"
        }
      ],
      "source": [
        "tensor_16_float*tensor_32_float"
      ]
    },
    {
      "cell_type": "code",
      "execution_count": null,
      "metadata": {
        "id": "SPtKHQSy5UkQ"
      },
      "outputs": [],
      "source": [
        "integer_tensor=torch.tensor([1,23,2,212],\n",
        "                            dtype=torch.int32)"
      ]
    },
    {
      "cell_type": "code",
      "execution_count": null,
      "metadata": {
        "colab": {
          "base_uri": "https://localhost:8080/"
        },
        "id": "bwInU3Ks5Umm",
        "outputId": "19f10edd-c3ec-4eab-ac42-cc9041f4179d"
      },
      "outputs": [
        {
          "data": {
            "text/plain": [
              "tensor([ 1., 46., 64., inf], dtype=torch.float16)"
            ]
          },
          "execution_count": 132,
          "metadata": {},
          "output_type": "execute_result"
        }
      ],
      "source": [
        "integer_tensor*tensor_16_float"
      ]
    },
    {
      "cell_type": "code",
      "execution_count": null,
      "metadata": {
        "colab": {
          "base_uri": "https://localhost:8080/"
        },
        "id": "9rfdLh5K5UoY",
        "outputId": "31a63ff2-0ea6-4e87-f94a-b96ee200ecd3"
      },
      "outputs": [
        {
          "data": {
            "text/plain": [
              "tensor([[0.1756, 0.4514, 0.2251, 0.4832],\n",
              "        [0.8088, 0.7560, 0.1387, 0.4443],\n",
              "        [0.6465, 0.7125, 0.5824, 0.3138]])"
            ]
          },
          "execution_count": 133,
          "metadata": {},
          "output_type": "execute_result"
        }
      ],
      "source": [
        "some_tensor=torch.rand(3,4)\n",
        "some_tensor"
      ]
    },
    {
      "cell_type": "code",
      "execution_count": null,
      "metadata": {
        "id": "Vh56VI9-5Uqe"
      },
      "outputs": [],
      "source": [
        "some_tensor=some_tensor.type(torch.float16)"
      ]
    },
    {
      "cell_type": "code",
      "execution_count": null,
      "metadata": {
        "colab": {
          "base_uri": "https://localhost:8080/"
        },
        "id": "W3d-4gTl5UtS",
        "outputId": "1b598802-2dd1-40ee-eb00-dba8b62ad758"
      },
      "outputs": [
        {
          "name": "stdout",
          "output_type": "stream",
          "text": [
            "Data Type of the tensor is:-torch.float16\n",
            "Device of the Tensor is :-cpu\n",
            "Size of the tensor:-torch.Size([3, 4])\n",
            "Dimension of the tensor is:-2\n"
          ]
        }
      ],
      "source": [
        "print(f\"Data Type of the tensor is:-{some_tensor.dtype}\")\n",
        "print(f\"Device of the Tensor is :-{some_tensor.device}\")\n",
        "print(f\"Size of the tensor:-{some_tensor.size()}\")\n",
        "print(f\"Dimension of the tensor is:-{some_tensor.ndim}\")"
      ]
    },
    {
      "cell_type": "code",
      "execution_count": null,
      "metadata": {
        "id": "UzNnYNGy5UwT"
      },
      "outputs": [],
      "source": [
        "device=torch.device(\"cuda\")"
      ]
    },
    {
      "cell_type": "code",
      "execution_count": null,
      "metadata": {
        "id": "AP7Lv8ZwD05-"
      },
      "outputs": [],
      "source": [
        "#error because we are using cpu insted of gpu \"cuda is a gpu device not a cpu device\"\n",
        "\n",
        "some_tensor=some_tensor.to(device)"
      ]
    },
    {
      "cell_type": "code",
      "execution_count": null,
      "metadata": {
        "colab": {
          "base_uri": "https://localhost:8080/"
        },
        "id": "YP9qbAYvD6Mf",
        "outputId": "f1492e56-b8f8-4e6d-e40f-225dcac5ae34"
      },
      "outputs": [
        {
          "data": {
            "text/plain": [
              "device(type='cuda', index=0)"
            ]
          },
          "execution_count": 138,
          "metadata": {},
          "output_type": "execute_result"
        }
      ],
      "source": [
        "some_tensor.device"
      ]
    },
    {
      "cell_type": "code",
      "execution_count": null,
      "metadata": {
        "colab": {
          "base_uri": "https://localhost:8080/"
        },
        "id": "UQyiQrImD9Hs",
        "outputId": "04dfb2ed-9865-4c85-bfe3-80646887a64e"
      },
      "outputs": [
        {
          "name": "stdout",
          "output_type": "stream",
          "text": [
            "CPU times: user 921 µs, sys: 18 µs, total: 939 µs\n",
            "Wall time: 2.24 ms\n"
          ]
        },
        {
          "data": {
            "text/plain": [
              "tensor([[137, 115,  28],\n",
              "        [185, 157,  42]])"
            ]
          },
          "execution_count": 139,
          "metadata": {},
          "output_type": "execute_result"
        }
      ],
      "source": [
        "#matrix multiplocation\n",
        "%%time\n",
        "mat1=torch.tensor([[1,2,3],\n",
        "                   [2,3,4]])\n",
        "mat2=torch.tensor([[2,3,4],\n",
        "                   [3,5,6],\n",
        "                   [43,34,4]])\n",
        "\n",
        "torch.matmul(mat1,mat2)\n"
      ]
    },
    {
      "cell_type": "code",
      "execution_count": null,
      "metadata": {
        "colab": {
          "base_uri": "https://localhost:8080/"
        },
        "id": "qLfIzutWE646",
        "outputId": "6de115d8-d0ab-4458-edd9-9c380d62de5e"
      },
      "outputs": [
        {
          "data": {
            "text/plain": [
              "tensor([ 1, 11, 21, 31, 41, 51, 61, 71, 81, 91])"
            ]
          },
          "execution_count": 140,
          "metadata": {},
          "output_type": "execute_result"
        }
      ],
      "source": [
        "x=torch.arange(1,100,10)\n",
        "x"
      ]
    },
    {
      "cell_type": "code",
      "execution_count": null,
      "metadata": {
        "colab": {
          "base_uri": "https://localhost:8080/"
        },
        "id": "KWArnXq6s7F6",
        "outputId": "bc4bbca1-a768-494c-94ae-a5dd487f19c2"
      },
      "outputs": [
        {
          "data": {
            "text/plain": [
              "tensor(0)"
            ]
          },
          "execution_count": 141,
          "metadata": {},
          "output_type": "execute_result"
        }
      ],
      "source": [
        "#to find the positon of the min element in the tensor\n",
        "x.argmin()"
      ]
    },
    {
      "cell_type": "code",
      "execution_count": null,
      "metadata": {
        "colab": {
          "base_uri": "https://localhost:8080/"
        },
        "id": "bNkkAlbBtLyG",
        "outputId": "c38b01e7-a520-4628-a4d3-e9fcfc8156bd"
      },
      "outputs": [
        {
          "data": {
            "text/plain": [
              "tensor(9)"
            ]
          },
          "execution_count": 142,
          "metadata": {},
          "output_type": "execute_result"
        }
      ],
      "source": [
        "#to find the positon of the min element in the tensor\n",
        "x.argmax()"
      ]
    },
    {
      "cell_type": "code",
      "execution_count": null,
      "metadata": {
        "colab": {
          "base_uri": "https://localhost:8080/"
        },
        "id": "XyJb3C1_-gQx",
        "outputId": "e3d304db-eee4-4525-ad02-732c28f7045d"
      },
      "outputs": [
        {
          "name": "stdout",
          "output_type": "stream",
          "text": [
            "tensor([ 0.,  1.,  2.,  3.,  4.,  5.,  6.,  7.,  8.,  9., 10., 11., 12., 13.,\n",
            "        14., 15., 16., 17., 18., 19., 20., 21., 22., 23.]) torch.Size([24])\n"
          ]
        }
      ],
      "source": [
        "#respahing the tensor\n",
        "\n",
        "#we have to take care about the dimension.when we change the shape we have to take care about its number of the elements\n",
        "\n",
        "import torch\n",
        "x=torch.arange(0.,24.)\n",
        "print(x,x.shape)"
      ]
    },
    {
      "cell_type": "code",
      "execution_count": null,
      "metadata": {
        "colab": {
          "base_uri": "https://localhost:8080/"
        },
        "id": "Uc4ZV3p2NkmA",
        "outputId": "c7bac545-a78f-44e3-c154-4049cf5ddb7d"
      },
      "outputs": [
        {
          "data": {
            "text/plain": [
              "tensor([[[ 0.,  1.,  2.,  3.,  4.,  5.],\n",
              "         [ 6.,  7.,  8.,  9., 10., 11.]],\n",
              "\n",
              "        [[12., 13., 14., 15., 16., 17.],\n",
              "         [18., 19., 20., 21., 22., 23.]]])"
            ]
          },
          "execution_count": 144,
          "metadata": {},
          "output_type": "execute_result"
        }
      ],
      "source": [
        "#respahing the tensor\n",
        "x_reshaped=x.reshape(2,2,6)\n",
        "x_reshaped"
      ]
    },
    {
      "cell_type": "code",
      "execution_count": null,
      "metadata": {
        "colab": {
          "base_uri": "https://localhost:8080/"
        },
        "id": "KaAFkCfFPhix",
        "outputId": "31eb98ab-f66c-42c8-9847-607fa69083d4"
      },
      "outputs": [
        {
          "name": "stdout",
          "output_type": "stream",
          "text": [
            "tensor([[[ 0.,  1.],\n",
            "         [ 2.,  3.],\n",
            "         [ 4.,  5.],\n",
            "         [ 6.,  7.],\n",
            "         [ 8.,  9.],\n",
            "         [10., 11.]],\n",
            "\n",
            "        [[12., 13.],\n",
            "         [14., 15.],\n",
            "         [16., 17.],\n",
            "         [18., 19.],\n",
            "         [20., 21.],\n",
            "         [22., 23.]]])\n"
          ]
        }
      ],
      "source": [
        "#Changing the view\n",
        "\n",
        "#it can't change the orignal\n",
        "\n",
        "#if we changes z then x will changes because views shares same memory with the original tensor\n",
        "\n",
        "z=x.view(2,6,2)\n",
        "print(z)"
      ]
    },
    {
      "cell_type": "code",
      "execution_count": null,
      "metadata": {
        "colab": {
          "base_uri": "https://localhost:8080/"
        },
        "id": "r7MhzGy8Phyb",
        "outputId": "d523bb99-daba-4112-c7bc-bac009677704"
      },
      "outputs": [
        {
          "name": "stdout",
          "output_type": "stream",
          "text": [
            "tensor([ 0.,  9.,  2.,  3.,  4.,  5.,  6.,  7.,  8.,  9., 10., 11., 12., 13.,\n",
            "        14., 15., 16., 17., 18., 19., 20., 21., 22., 23.])\n"
          ]
        }
      ],
      "source": [
        "#here we changes the value of z and we observe that the memory of x automatically changes.\n",
        "#they share same memory thats why when we change the monory of z ,x(original memory var) value also changes.\n",
        "\n",
        "z[0][0][1]=9\n",
        "print(x)"
      ]
    },
    {
      "cell_type": "code",
      "execution_count": null,
      "metadata": {
        "colab": {
          "base_uri": "https://localhost:8080/"
        },
        "id": "fSA376BtRGAO",
        "outputId": "b5b4b396-1fcb-4dc0-d11e-a650f952e0b1"
      },
      "outputs": [
        {
          "data": {
            "text/plain": [
              "2"
            ]
          },
          "execution_count": 147,
          "metadata": {},
          "output_type": "execute_result"
        }
      ],
      "source": [
        "#stack tensor on the top of each other\n",
        "new_x=torch.tensor([[1,2,3],\n",
        "                    [3,45,6],\n",
        "                    [4,3,5]])\n",
        "\n",
        "new_x.ndim"
      ]
    },
    {
      "cell_type": "code",
      "execution_count": null,
      "metadata": {
        "colab": {
          "base_uri": "https://localhost:8080/"
        },
        "id": "nfk4E88lRGLV",
        "outputId": "a9ed89ae-6984-48fa-dc7d-30834a653099"
      },
      "outputs": [
        {
          "data": {
            "text/plain": [
              "tensor([[[ 1,  2,  3]],\n",
              "\n",
              "        [[ 3, 45,  6]],\n",
              "\n",
              "        [[ 4,  3,  5]]])"
            ]
          },
          "execution_count": 148,
          "metadata": {},
          "output_type": "execute_result"
        }
      ],
      "source": [
        "new_x_stacked=torch.stack([new_x],dim=-2)\n",
        "new_x_stacked"
      ]
    },
    {
      "cell_type": "code",
      "execution_count": null,
      "metadata": {
        "colab": {
          "base_uri": "https://localhost:8080/"
        },
        "id": "_e4HX-ZqthKC",
        "outputId": "9dafad12-c45b-41d3-e67b-bf0342c8fd73"
      },
      "outputs": [
        {
          "data": {
            "text/plain": [
              "tensor([[ 1,  2,  3,  4],\n",
              "        [ 5,  3,  2,  1],\n",
              "        [ 3,  3,  2,  1],\n",
              "        [ 2,  3,  4,  5],\n",
              "        [ 6,  7,  7,  8],\n",
              "        [ 9,  3, 21,  1],\n",
              "        [ 2,  3,  1,  3]])"
            ]
          },
          "execution_count": 149,
          "metadata": {},
          "output_type": "execute_result"
        }
      ],
      "source": [
        "#Stacking :-\n",
        "#1.vstack(verical stack):-it add the second tensor in vericaly\n",
        "\n",
        "tensor1=torch.tensor([[1,2,3,4],\n",
        "                      [5,3,2,1],\n",
        "                      [3,3,2,1]]\n",
        "                     )\n",
        "tensor2=torch.tensor([[2,3,4,5],\n",
        "                      [6,7,7,8],\n",
        "                      [9,3,21,1],\n",
        "                      [2,3,1,3]]\n",
        "                     )\n",
        "torch.vstack((tensor1,tensor2))"
      ]
    },
    {
      "cell_type": "code",
      "execution_count": null,
      "metadata": {
        "id": "bDY7DzgiPft6"
      },
      "outputs": [],
      "source": []
    },
    {
      "cell_type": "code",
      "execution_count": null,
      "metadata": {
        "colab": {
          "base_uri": "https://localhost:8080/"
        },
        "id": "vihMMOd2thVa",
        "outputId": "71151a77-fd77-43ee-96ec-af9d90dca935"
      },
      "outputs": [
        {
          "data": {
            "text/plain": [
              "tensor([[ 5,  4,  3,  1,  4,  3,  5, 12],\n",
              "        [ 3,  4,  5,  6,  4,  5,  6,  7]])"
            ]
          },
          "execution_count": 150,
          "metadata": {},
          "output_type": "execute_result"
        }
      ],
      "source": [
        "#Hstack(horizontal stack):-To add the second tensor in the horizontal direction\n",
        "tensor3=torch.tensor([[5,4,3,1],\n",
        "                      [3,4,5,6]])\n",
        "\n",
        "tensor4=torch.tensor([[4,3,5,12],\n",
        "                      [4,5,6,7]])\n",
        "\n",
        "torch.hstack((tensor3,tensor4))"
      ]
    },
    {
      "cell_type": "code",
      "execution_count": null,
      "metadata": {
        "colab": {
          "base_uri": "https://localhost:8080/"
        },
        "id": "NYuQh0VGthXp",
        "outputId": "e5d80cb8-b4aa-4bc2-e8a8-2e3272bb96ed"
      },
      "outputs": [
        {
          "name": "stdout",
          "output_type": "stream",
          "text": [
            "size of the tensor before squeez methodtensor([[[[[0., 0., 0.]],\n",
            "\n",
            "          [[0., 0., 0.]]]],\n",
            "\n",
            "\n",
            "\n",
            "        [[[[0., 0., 0.]],\n",
            "\n",
            "          [[0., 0., 0.]]]]])\n",
            "size of the tensor before squeez methodtensor([[[0., 0., 0.],\n",
            "         [0., 0., 0.]],\n",
            "\n",
            "        [[0., 0., 0.],\n",
            "         [0., 0., 0.]]])\n"
          ]
        }
      ],
      "source": [
        "#torch.squeeze() - remove all the single dimension from a targert tensor\n",
        "\n",
        "torch_noname=torch.zeros(2,1,2,1,3)\n",
        "print(f\"size of the tensor before squeez method{torch_noname}\")\n",
        "y=torch.squeeze(torch_noname)\n",
        "print(f\"size of the tensor before squeez method{y}\")"
      ]
    },
    {
      "cell_type": "code",
      "execution_count": null,
      "metadata": {
        "colab": {
          "base_uri": "https://localhost:8080/"
        },
        "id": "VNyWQeGZthZg",
        "outputId": "e93a36a1-bee0-4fca-baf7-69ddc343fb97"
      },
      "outputs": [
        {
          "name": "stdout",
          "output_type": "stream",
          "text": [
            "before parameter(tensor([[[[[0., 0., 0.]],\n",
            "\n",
            "          [[0., 0., 0.]]]],\n",
            "\n",
            "\n",
            "\n",
            "        [[[[0., 0., 0.]],\n",
            "\n",
            "          [[0., 0., 0.]]]]]), torch.Size([2, 1, 2, 1, 3]))\n",
            "y1 when parameter passes as 1 output will be torch.Size([2, 2, 1, 3])\n"
          ]
        }
      ],
      "source": [
        "y1=torch.squeeze(torch_noname,1)\n",
        "print(f\"before parameter{torch_noname,torch_noname.size()}\")\n",
        "print(f\"y1 when parameter passes as 1 output will be {y1.size()}\")"
      ]
    },
    {
      "cell_type": "code",
      "execution_count": null,
      "metadata": {
        "colab": {
          "base_uri": "https://localhost:8080/"
        },
        "id": "kYEhoWUOthbs",
        "outputId": "01b04b40-15c1-47e3-c4c4-22f1fc429ace"
      },
      "outputs": [
        {
          "name": "stdout",
          "output_type": "stream",
          "text": [
            "y2 value when patameter is 0torch.Size([2, 2, 1, 3])\n"
          ]
        }
      ],
      "source": [
        "y2=torch.squeeze(torch_noname,1)\n",
        "print(f\"y2 value when patameter is 0{y2.size()}\")"
      ]
    },
    {
      "cell_type": "code",
      "execution_count": null,
      "metadata": {
        "id": "B3wrK55dtheJ"
      },
      "outputs": [],
      "source": [
        "#torch.unsqueeze()- add one dimension at the a specific location in the targeted tensor"
      ]
    },
    {
      "cell_type": "code",
      "execution_count": null,
      "metadata": {
        "colab": {
          "base_uri": "https://localhost:8080/"
        },
        "id": "hwuFZsrethgG",
        "outputId": "b09ef403-db9a-4093-ed90-3e57fab3d7d8"
      },
      "outputs": [
        {
          "name": "stdout",
          "output_type": "stream",
          "text": [
            "before parameter(tensor([[[[[0., 0., 0.]],\n",
            "\n",
            "          [[0., 0., 0.]]]],\n",
            "\n",
            "\n",
            "\n",
            "        [[[[0., 0., 0.]],\n",
            "\n",
            "          [[0., 0., 0.]]]]]), torch.Size([2, 1, 2, 1, 3]))\n",
            "The usqueezed tensor is (tensor([[[[[0., 0., 0.]],\n",
            "\n",
            "          [[0., 0., 0.]]]],\n",
            "\n",
            "\n",
            "\n",
            "        [[[[0., 0., 0.]],\n",
            "\n",
            "          [[0., 0., 0.]]]]]), torch.Size([2, 1, 2, 1, 3]))\n"
          ]
        }
      ],
      "source": [
        "y_unsqueezed=y2.unsqueeze(dim=1)\n",
        "print(f\"before parameter{torch_noname,torch_noname.size()}\")\n",
        "print(f\"The usqueezed tensor is {y_unsqueezed,y_unsqueezed.size()}\")"
      ]
    },
    {
      "cell_type": "code",
      "execution_count": null,
      "metadata": {
        "colab": {
          "base_uri": "https://localhost:8080/"
        },
        "id": "WYpOnrgMthhx",
        "outputId": "de5d0c02-0eb0-4064-8b3a-7e4003d3e900"
      },
      "outputs": [
        {
          "data": {
            "text/plain": [
              "torch.Size([1, 2])"
            ]
          },
          "execution_count": 156,
          "metadata": {},
          "output_type": "execute_result"
        }
      ],
      "source": [
        "y1=torch.zeros([2])\n",
        "y2=y1.unsqueeze(dim=0)\n",
        "y2.size()"
      ]
    },
    {
      "cell_type": "code",
      "execution_count": null,
      "metadata": {
        "colab": {
          "base_uri": "https://localhost:8080/"
        },
        "id": "pWz9KePWthk8",
        "outputId": "2d8a92ef-3efd-4b6c-a244-688a9fe257fa"
      },
      "outputs": [
        {
          "name": "stdout",
          "output_type": "stream",
          "text": [
            "before tensor is tensor([[[[1., 1., 1.],\n",
            "          [1., 1., 1.],\n",
            "          [1., 1., 1.]]],\n",
            "\n",
            "\n",
            "        [[[1., 1., 1.],\n",
            "          [1., 1., 1.],\n",
            "          [1., 1., 1.]]]]) size of the tensor is torch.Size([2, 1, 3, 3])\n",
            "permuted tensor is tensor([[[[1.],\n",
            "          [1.]],\n",
            "\n",
            "         [[1.],\n",
            "          [1.]],\n",
            "\n",
            "         [[1.],\n",
            "          [1.]]],\n",
            "\n",
            "\n",
            "        [[[1.],\n",
            "          [1.]],\n",
            "\n",
            "         [[1.],\n",
            "          [1.]],\n",
            "\n",
            "         [[1.],\n",
            "          [1.]]],\n",
            "\n",
            "\n",
            "        [[[1.],\n",
            "          [1.]],\n",
            "\n",
            "         [[1.],\n",
            "          [1.]],\n",
            "\n",
            "         [[1.],\n",
            "          [1.]]]]) size of the tensor is torch.Size([3, 3, 2, 1])\n"
          ]
        }
      ],
      "source": [
        "#torch.permute()-rearranges the dimensions of a target tensor in a specified order\n",
        "\n",
        "tensor_per=torch.ones([2,1,3,3])\n",
        "print(f\"before tensor is {tensor_per} size of the tensor is {tensor_per.size()}\")\n",
        "permuted_tensor=torch.permute(tensor_per,(2,3,0,1))\n",
        "# in the above tensor the first dim is changes with the 2nd dim of the inintial tensor and the first dim is changes with the div 3 and the third tensor is changes with the zeroth dim vice varsa\n",
        "print(f\"permuted tensor is {permuted_tensor} size of the tensor is {permuted_tensor.size()}\")\n"
      ]
    },
    {
      "cell_type": "markdown",
      "metadata": {
        "id": "R_dq4jmXVZpd"
      },
      "source": []
    },
    {
      "cell_type": "code",
      "execution_count": null,
      "metadata": {
        "colab": {
          "base_uri": "https://localhost:8080/"
        },
        "id": "K7x_zcajVcMA",
        "outputId": "09a67e8b-a83e-497d-d262-ae0f8f8c7c92"
      },
      "outputs": [
        {
          "name": "stdout",
          "output_type": "stream",
          "text": [
            "tensor([[[1, 2, 3],\n",
            "         [4, 5, 6],\n",
            "         [7, 8, 9]]])\n"
          ]
        },
        {
          "data": {
            "text/plain": [
              "tensor([1, 2, 3])"
            ]
          },
          "execution_count": 158,
          "metadata": {},
          "output_type": "execute_result"
        }
      ],
      "source": [
        "tensor_indexing=torch.arange(1,10).reshape(1,3,3)\n",
        "print(tensor_indexing)\n",
        "tensor_indexing[0,0,:]"
      ]
    },
    {
      "cell_type": "code",
      "execution_count": null,
      "metadata": {
        "colab": {
          "base_uri": "https://localhost:8080/"
        },
        "id": "vNAZILxpVcIc",
        "outputId": "32920a70-2a06-405a-f247-8a45c1ad34f9"
      },
      "outputs": [
        {
          "data": {
            "text/plain": [
              "tensor([[1, 4, 7]])"
            ]
          },
          "execution_count": 159,
          "metadata": {},
          "output_type": "execute_result"
        }
      ],
      "source": [
        "tensor_indexing[:,:,0]"
      ]
    },
    {
      "cell_type": "code",
      "execution_count": null,
      "metadata": {
        "id": "mKNYdh0DVcGT"
      },
      "outputs": [],
      "source": [
        "## TENSORS with NumPy Arrays"
      ]
    },
    {
      "cell_type": "code",
      "execution_count": null,
      "metadata": {
        "colab": {
          "base_uri": "https://localhost:8080/"
        },
        "id": "A_pUYD7yVcD3",
        "outputId": "edb92f6a-239a-4cde-d189-e3ce5fbe2863"
      },
      "outputs": [
        {
          "name": "stdout",
          "output_type": "stream",
          "text": [
            "array is [1. 2. 3. 4. 5. 6. 7. 8.] and type is float64\n",
            "tensor using np array tensor([1., 2., 3., 4., 5., 6., 7., 8.], dtype=torch.float64)\n"
          ]
        }
      ],
      "source": [
        "import numpy as np\n",
        "array=np.arange(1.0,9.0)\n",
        "print(f\"array is {array} and type is {array.dtype}\")\n",
        "tensor_Arr=torch.from_numpy(array)\n",
        "print(f\"tensor using np array {tensor_Arr}\")"
      ]
    },
    {
      "cell_type": "code",
      "execution_count": null,
      "metadata": {
        "colab": {
          "base_uri": "https://localhost:8080/"
        },
        "id": "6UrV5Zt6g35Q",
        "outputId": "5cfe6b1e-71fc-41e4-8fda-d7b5a8491bea"
      },
      "outputs": [
        {
          "name": "stdout",
          "output_type": "stream",
          "text": [
            "Array is [2. 3. 4. 5. 6. 7. 8. 9.]\n",
            "tensor =tensor([1., 2., 3., 4., 5., 6., 7., 8.], dtype=torch.float64)\n"
          ]
        }
      ],
      "source": [
        "# if we change the value of the array to something else then it cant effect the tensor\n",
        "array=array+1\n",
        "print(f\"Array is {array}\")\n",
        "print(f\"tensor ={tensor_Arr}\")"
      ]
    },
    {
      "cell_type": "code",
      "execution_count": null,
      "metadata": {
        "colab": {
          "base_uri": "https://localhost:8080/"
        },
        "id": "AEYnH0hEVcBU",
        "outputId": "91617847-376f-422a-8b02-252d078b5b45"
      },
      "outputs": [
        {
          "name": "stdout",
          "output_type": "stream",
          "text": [
            "tensor dtype is torch.float32\n",
            "the numpy tensor is [[0. 0. 0.]] and the size of the numpy tensor is float32\n"
          ]
        }
      ],
      "source": [
        "#tensor to Numpy\n",
        "\n",
        "tensor=torch.zeros(1,3)\n",
        "print(f\"tensor dtype is {tensor.dtype}\")\n",
        "numpy_tensor=tensor.numpy()\n",
        "print(f\"the numpy tensor is {numpy_tensor} and the size of the numpy tensor is {numpy_tensor.dtype}\")"
      ]
    },
    {
      "cell_type": "code",
      "execution_count": null,
      "metadata": {
        "colab": {
          "base_uri": "https://localhost:8080/"
        },
        "id": "1XaqgtivVb_O",
        "outputId": "39875482-cb39-4a48-a0aa-5157415713fe"
      },
      "outputs": [
        {
          "name": "stdout",
          "output_type": "stream",
          "text": [
            "tensor([[1., 1., 1.]])\n",
            "tensor after numpy[[0. 0. 0.]]\n"
          ]
        }
      ],
      "source": [
        "tensor=tensor+1\n",
        "\n",
        "print(tensor)\n",
        "\n",
        "print(f\"tensor after numpy{numpy_tensor}\")\n"
      ]
    },
    {
      "cell_type": "code",
      "execution_count": null,
      "metadata": {
        "colab": {
          "base_uri": "https://localhost:8080/"
        },
        "id": "Ged6G9CtVb9F",
        "outputId": "ef67deb7-620d-405c-9074-02b18228e71c"
      },
      "outputs": [
        {
          "name": "stdout",
          "output_type": "stream",
          "text": [
            "tensor([[0.7448, 0.3783, 0.9414, 0.6474],\n",
            "        [0.6234, 0.5790, 0.2778, 0.1297],\n",
            "        [0.1720, 0.0913, 0.3035, 0.6541]])\n",
            "tensor([[0.0325, 0.2897, 0.3572, 0.1267],\n",
            "        [0.3263, 0.4092, 0.5813, 0.3729],\n",
            "        [0.7374, 0.2611, 0.3989, 0.8837]])\n",
            "tensor([[False, False, False, False],\n",
            "        [False, False, False, False],\n",
            "        [False, False, False, False]])\n"
          ]
        }
      ],
      "source": [
        "import torch\n",
        "random_tensor1=torch.rand(3,4)\n",
        "random_tensor2=torch.rand(3,4)\n",
        "print(random_tensor1)\n",
        "print(random_tensor2)\n",
        "print(random_tensor1==random_tensor2)\n"
      ]
    },
    {
      "cell_type": "code",
      "execution_count": null,
      "metadata": {
        "colab": {
          "base_uri": "https://localhost:8080/"
        },
        "id": "BX59pe4pyLG9",
        "outputId": "56ecad83-51ba-4e94-ebc6-95a130e7a247"
      },
      "outputs": [
        {
          "name": "stdout",
          "output_type": "stream",
          "text": [
            "tensor([[[0.8823, 0.9150, 0.3829, 0.9593, 0.3904, 0.6009],\n",
            "         [0.2566, 0.7936, 0.9408, 0.1332, 0.9346, 0.5936],\n",
            "         [0.8694, 0.5677, 0.7411, 0.4294, 0.8854, 0.5739],\n",
            "         [0.2666, 0.6274, 0.2696, 0.4414, 0.2969, 0.8317]],\n",
            "\n",
            "        [[0.1053, 0.2695, 0.3588, 0.1994, 0.5472, 0.0062],\n",
            "         [0.9516, 0.0753, 0.8860, 0.5832, 0.3376, 0.8090],\n",
            "         [0.5779, 0.9040, 0.5547, 0.3423, 0.6343, 0.3644],\n",
            "         [0.7104, 0.9464, 0.7890, 0.2814, 0.7886, 0.5895]],\n",
            "\n",
            "        [[0.7539, 0.1952, 0.0050, 0.3068, 0.1165, 0.9103],\n",
            "         [0.6440, 0.7071, 0.6581, 0.4913, 0.8913, 0.1447],\n",
            "         [0.5315, 0.1587, 0.6542, 0.3278, 0.6532, 0.3958],\n",
            "         [0.9147, 0.2036, 0.2018, 0.2018, 0.9497, 0.6666]]])\n",
            "tensor([[[0.8823, 0.9150, 0.3829, 0.9593, 0.3904, 0.6009],\n",
            "         [0.2566, 0.7936, 0.9408, 0.1332, 0.9346, 0.5936],\n",
            "         [0.8694, 0.5677, 0.7411, 0.4294, 0.8854, 0.5739],\n",
            "         [0.2666, 0.6274, 0.2696, 0.4414, 0.2969, 0.8317]],\n",
            "\n",
            "        [[0.1053, 0.2695, 0.3588, 0.1994, 0.5472, 0.0062],\n",
            "         [0.9516, 0.0753, 0.8860, 0.5832, 0.3376, 0.8090],\n",
            "         [0.5779, 0.9040, 0.5547, 0.3423, 0.6343, 0.3644],\n",
            "         [0.7104, 0.9464, 0.7890, 0.2814, 0.7886, 0.5895]],\n",
            "\n",
            "        [[0.7539, 0.1952, 0.0050, 0.3068, 0.1165, 0.9103],\n",
            "         [0.6440, 0.7071, 0.6581, 0.4913, 0.8913, 0.1447],\n",
            "         [0.5315, 0.1587, 0.6542, 0.3278, 0.6532, 0.3958],\n",
            "         [0.9147, 0.2036, 0.2018, 0.2018, 0.9497, 0.6666]]])\n",
            "tensor([[[True, True, True, True, True, True],\n",
            "         [True, True, True, True, True, True],\n",
            "         [True, True, True, True, True, True],\n",
            "         [True, True, True, True, True, True]],\n",
            "\n",
            "        [[True, True, True, True, True, True],\n",
            "         [True, True, True, True, True, True],\n",
            "         [True, True, True, True, True, True],\n",
            "         [True, True, True, True, True, True]],\n",
            "\n",
            "        [[True, True, True, True, True, True],\n",
            "         [True, True, True, True, True, True],\n",
            "         [True, True, True, True, True, True],\n",
            "         [True, True, True, True, True, True]]])\n"
          ]
        }
      ],
      "source": [
        "# lets make some random but reproducible tensor\n",
        "import torch\n",
        "\n",
        "#Set the random seed\n",
        "RANDOM_SEED=42\n",
        "torch.manual_seed(RANDOM_SEED)\n",
        "random_tensor_a=torch.rand(3,4,6)\n",
        "torch.manual_seed(RANDOM_SEED)\n",
        "random_tensor_b=torch.rand(3,4,6)\n",
        "print(random_tensor_a)\n",
        "print(random_tensor_b)\n",
        "print(random_tensor_a==random_tensor_b)\n"
      ]
    },
    {
      "cell_type": "code",
      "execution_count": null,
      "metadata": {
        "colab": {
          "base_uri": "https://localhost:8080/"
        },
        "id": "PH4Q44tMyLEn",
        "outputId": "c889cdcc-3e18-4065-e29f-e7aa2ac116ee"
      },
      "outputs": [
        {
          "name": "stdout",
          "output_type": "stream",
          "text": [
            "tensor([[[0.5596, 0.5591, 0.0915, 0.2100],\n",
            "         [0.0072, 0.0390, 0.9929, 0.9131],\n",
            "         [0.6186, 0.9744, 0.3189, 0.2148]],\n",
            "\n",
            "        [[0.9263, 0.4735, 0.5949, 0.7956],\n",
            "         [0.7635, 0.2137, 0.3066, 0.0386],\n",
            "         [0.5220, 0.3207, 0.6074, 0.5233]]])\n",
            "tensor([[[0.5596, 0.5591, 0.0915, 0.2100],\n",
            "         [0.0072, 0.0390, 0.9929, 0.9131],\n",
            "         [0.6186, 0.9744, 0.3189, 0.2148]],\n",
            "\n",
            "        [[0.9263, 0.4735, 0.5949, 0.7956],\n",
            "         [0.7635, 0.2137, 0.3066, 0.0386],\n",
            "         [0.5220, 0.3207, 0.6074, 0.5233]]])\n",
            "tensor([[[True, True, True, True],\n",
            "         [True, True, True, True],\n",
            "         [True, True, True, True]],\n",
            "\n",
            "        [[True, True, True, True],\n",
            "         [True, True, True, True],\n",
            "         [True, True, True, True]]])\n"
          ]
        }
      ],
      "source": [
        "torch.manual_seed(4)\n",
        "tensor=torch.rand(2,3,4)\n",
        "torch.manual_seed(4)\n",
        "tensor1=torch.rand(2,3,4)\n",
        "print(tensor)\n",
        "print(tensor1)\n",
        "print(tensor==tensor1)"
      ]
    },
    {
      "cell_type": "markdown",
      "metadata": {
        "id": "GRtduleBum6a"
      },
      "source": [
        "## random seeds:-\n",
        "\n",
        "if we set seed to 42 then it store or hold the value of the random number and when we the use the same when we call the random seed as the next squence ."
      ]
    },
    {
      "cell_type": "code",
      "execution_count": null,
      "metadata": {
        "id": "APXfFfhPyLBM"
      },
      "outputs": [],
      "source": [
        "## Runing tensor and pytorch object on the GPUs (and working faster computation)\n",
        "\n",
        "#GPUs = Faster computation 0n numbers thanks to cuda+Nvidia +pytorch working behind the scenex-s to make everything hunky donky(good).\n"
      ]
    },
    {
      "cell_type": "code",
      "execution_count": null,
      "metadata": {
        "id": "-DSVKmtYyK-1"
      },
      "outputs": [],
      "source": [
        "#Getting a GPU\n",
        "\n",
        "#1... Easiest  - use google colob for a free gpu.\n",
        "#2..."
      ]
    },
    {
      "cell_type": "code",
      "execution_count": null,
      "metadata": {
        "colab": {
          "base_uri": "https://localhost:8080/"
        },
        "id": "DVMIK7t4yK8a",
        "outputId": "741987b7-7220-41cb-da1b-22cb45a18b04"
      },
      "outputs": [
        {
          "name": "stdout",
          "output_type": "stream",
          "text": [
            "Sat May 11 05:24:24 2024       \n",
            "+---------------------------------------------------------------------------------------+\n",
            "| NVIDIA-SMI 535.104.05             Driver Version: 535.104.05   CUDA Version: 12.2     |\n",
            "|-----------------------------------------+----------------------+----------------------+\n",
            "| GPU  Name                 Persistence-M | Bus-Id        Disp.A | Volatile Uncorr. ECC |\n",
            "| Fan  Temp   Perf          Pwr:Usage/Cap |         Memory-Usage | GPU-Util  Compute M. |\n",
            "|                                         |                      |               MIG M. |\n",
            "|=========================================+======================+======================|\n",
            "|   0  Tesla T4                       Off | 00000000:00:04.0 Off |                    0 |\n",
            "| N/A   46C    P0              26W /  70W |    151MiB / 15360MiB |      0%      Default |\n",
            "|                                         |                      |                  N/A |\n",
            "+-----------------------------------------+----------------------+----------------------+\n",
            "                                                                                         \n",
            "+---------------------------------------------------------------------------------------+\n",
            "| Processes:                                                                            |\n",
            "|  GPU   GI   CI        PID   Type   Process name                            GPU Memory |\n",
            "|        ID   ID                                                             Usage      |\n",
            "|=======================================================================================|\n",
            "+---------------------------------------------------------------------------------------+\n"
          ]
        }
      ],
      "source": [
        "!nvidia-smi"
      ]
    },
    {
      "cell_type": "code",
      "execution_count": null,
      "metadata": {
        "colab": {
          "base_uri": "https://localhost:8080/"
        },
        "id": "6aec66G1yK5W",
        "outputId": "b57f13ac-aa52-4fa3-9502-4154a265bfea"
      },
      "outputs": [
        {
          "data": {
            "text/plain": [
              "True"
            ]
          },
          "execution_count": 171,
          "metadata": {},
          "output_type": "execute_result"
        }
      ],
      "source": [
        "import torch\n",
        "torch.cuda.is_available()"
      ]
    },
    {
      "cell_type": "code",
      "execution_count": null,
      "metadata": {
        "colab": {
          "base_uri": "https://localhost:8080/",
          "height": 35
        },
        "id": "HhketmZ6yK13",
        "outputId": "402b18d8-307c-407c-be11-479ba19f0f27"
      },
      "outputs": [
        {
          "data": {
            "application/vnd.google.colaboratory.intrinsic+json": {
              "type": "string"
            },
            "text/plain": [
              "'cuda'"
            ]
          },
          "execution_count": 172,
          "metadata": {},
          "output_type": "execute_result"
        }
      ],
      "source": [
        "#if there are gpu the use the gpu if not then use the cpu\n",
        "\n",
        "device=\"cuda\" if torch.cuda.is_available() else \"cpu\"\n",
        "device"
      ]
    },
    {
      "cell_type": "code",
      "execution_count": null,
      "metadata": {
        "colab": {
          "base_uri": "https://localhost:8080/"
        },
        "id": "YZv854TVyKy7",
        "outputId": "13aa0292-6bcb-43d2-c486-06c304e8c640"
      },
      "outputs": [
        {
          "data": {
            "text/plain": [
              "1"
            ]
          },
          "execution_count": 173,
          "metadata": {},
          "output_type": "execute_result"
        }
      ],
      "source": [
        "#counting the number of devices\n",
        "torch.cuda.device_count()"
      ]
    },
    {
      "cell_type": "code",
      "execution_count": null,
      "metadata": {
        "id": "St9NqhQBtQlW"
      },
      "outputs": [],
      "source": [
        "##putting tensors (and models) on the gpu\n"
      ]
    },
    {
      "cell_type": "code",
      "execution_count": null,
      "metadata": {
        "colab": {
          "base_uri": "https://localhost:8080/"
        },
        "id": "5OhP7orGII-6",
        "outputId": "6318e039-f0eb-4146-d895-21c2e529f78a"
      },
      "outputs": [
        {
          "name": "stdout",
          "output_type": "stream",
          "text": [
            "tensor([1, 2, 3, 4]) cpu\n"
          ]
        }
      ],
      "source": [
        "#create a tensor (default on the cpu)\n",
        "\n",
        "tensor =torch.tensor([1,2,3,4])\n",
        "print(tensor ,tensor.device)"
      ]
    },
    {
      "cell_type": "code",
      "execution_count": null,
      "metadata": {
        "colab": {
          "base_uri": "https://localhost:8080/"
        },
        "id": "9k7Y_axAII7V",
        "outputId": "57fe3ce6-83b0-4cc9-8a6a-12f9c572cecb"
      },
      "outputs": [
        {
          "name": "stdout",
          "output_type": "stream",
          "text": [
            "tensor([1, 2, 3, 4], device='cuda:0')\n"
          ]
        }
      ],
      "source": [
        "tensor_on_gpu=tensor.to(device)\n",
        "print(tensor_on_gpu)"
      ]
    },
    {
      "cell_type": "code",
      "execution_count": null,
      "metadata": {
        "colab": {
          "base_uri": "https://localhost:8080/"
        },
        "id": "GYPRH5v9II5I",
        "outputId": "8ddbf6e1-ea40-4b79-cdd8-da4d0ed6b37e"
      },
      "outputs": [
        {
          "data": {
            "text/plain": [
              "array([1, 2, 3, 4])"
            ]
          },
          "execution_count": 177,
          "metadata": {},
          "output_type": "execute_result"
        }
      ],
      "source": [
        "#if we want to use numpy then we have to change the device type to cpu\n",
        "tensor_on_cpu=tensor_on_gpu.cpu().numpy()\n",
        "tensor_on_cpu"
      ]
    },
    {
      "cell_type": "code",
      "execution_count": null,
      "metadata": {
        "colab": {
          "base_uri": "https://localhost:8080/"
        },
        "id": "x6QH1VGSII3K",
        "outputId": "4f13e742-60bd-4611-855e-e355528100ac"
      },
      "outputs": [
        {
          "name": "stdout",
          "output_type": "stream",
          "text": [
            "tensor([[9.2627e-01, 5.4306e-01, 7.5057e-01, 6.5778e-01, 9.4361e-01, 2.9215e-01,\n",
            "         9.1749e-01],\n",
            "        [8.5862e-01, 3.0044e-01, 8.0649e-01, 9.6225e-01, 2.1729e-01, 3.0497e-01,\n",
            "         8.4205e-01],\n",
            "        [9.0316e-01, 6.3190e-01, 6.5354e-01, 8.7033e-01, 9.3819e-01, 1.8377e-01,\n",
            "         2.9433e-01],\n",
            "        [9.2098e-01, 7.7006e-01, 2.6540e-01, 3.3035e-01, 9.8522e-01, 1.8684e-01,\n",
            "         8.2164e-01],\n",
            "        [7.9014e-01, 2.0476e-02, 8.7905e-04, 6.6599e-01, 7.4532e-01, 9.4320e-01,\n",
            "         5.6163e-01],\n",
            "        [8.3921e-01, 1.4466e-01, 7.9846e-01, 1.8326e-02, 8.2572e-01, 5.5421e-01,\n",
            "         8.0885e-01],\n",
            "        [6.9751e-01, 1.5410e-01, 5.0519e-01, 5.6324e-01, 5.7188e-01, 6.2222e-02,\n",
            "         2.4745e-01]])\n"
          ]
        }
      ],
      "source": [
        " #2.Create a random tensor with shape (7, 7).\n",
        "\n",
        " import torch\n",
        " tensor_random=torch.rand([7,7])\n",
        " print(tensor_random)"
      ]
    },
    {
      "cell_type": "code",
      "execution_count": null,
      "metadata": {
        "colab": {
          "base_uri": "https://localhost:8080/"
        },
        "id": "Zhmr2h_yII0r",
        "outputId": "630e8fea-4de6-4fd1-ec4a-86a9bf7beb18"
      },
      "outputs": [
        {
          "name": "stdout",
          "output_type": "stream",
          "text": [
            "tensor([[1.7051]])\n"
          ]
        }
      ],
      "source": [
        "#3.Perform a matrix multiplication on the tensor from 2 with another random tensor with shape (1, 7)\n",
        "#(hint: you may have to transpose the second tensor).\n",
        "\n",
        "first_tensor=torch.rand([1,7])\n",
        "second_tensor=torch.rand([1,7])\n",
        "\n",
        "y=torch.transpose(second_tensor,0,1)\n",
        "\n",
        "matrix_multiplication=torch.matmul(first_tensor,y)\n",
        "print(matrix_multiplication)"
      ]
    },
    {
      "cell_type": "code",
      "execution_count": null,
      "metadata": {
        "colab": {
          "base_uri": "https://localhost:8080/"
        },
        "id": "L8zVLY6dIIyI",
        "outputId": "be2c51f4-e0bb-436d-fb2d-9cb1dfa1e0b3"
      },
      "outputs": [
        {
          "name": "stdout",
          "output_type": "stream",
          "text": [
            "tensor([[0.4963, 0.7682, 0.0885, 0.1320, 0.3074, 0.6341, 0.4901],\n",
            "        [0.8964, 0.4556, 0.6323, 0.3489, 0.4017, 0.0223, 0.1689],\n",
            "        [0.2939, 0.5185, 0.6977, 0.8000, 0.1610, 0.2823, 0.6816],\n",
            "        [0.9152, 0.3971, 0.8742, 0.4194, 0.5529, 0.9527, 0.0362],\n",
            "        [0.1852, 0.3734, 0.3051, 0.9320, 0.1759, 0.2698, 0.1507],\n",
            "        [0.0317, 0.2081, 0.9298, 0.7231, 0.7423, 0.5263, 0.2437],\n",
            "        [0.5846, 0.0332, 0.1387, 0.2422, 0.8155, 0.7932, 0.2783]])\n",
            "tensor([[1.5985]])\n",
            "tensor 1 is :-tensor([[0.4963, 0.7682, 0.0885, 0.1320, 0.3074, 0.6341, 0.4901]]) and tensor 2 is tensor([[0.4963],\n",
            "        [0.7682],\n",
            "        [0.0885],\n",
            "        [0.1320],\n",
            "        [0.3074],\n",
            "        [0.6341],\n",
            "        [0.4901]])\n"
          ]
        }
      ],
      "source": [
        "#Set the random seed to 0 and do exercises 2 & 3 over again\n",
        "\n",
        "import torch\n",
        "\n",
        "random_seed=0\n",
        "torch.manual_seed(random_seed)\n",
        "tensor_random=torch.rand([7,7])\n",
        "print(tensor_random)\n",
        "torch.manual_seed(random_seed)\n",
        "first_tensor=torch.rand([1,7])\n",
        "torch.manual_seed(random_seed)\n",
        "second_tensor=torch.rand([1,7])\n",
        "\n",
        "y=torch.transpose(second_tensor,0,1)\n",
        "\n",
        "matrix_multiplication=torch.matmul(first_tensor,y)\n",
        "print(matrix_multiplication)\n",
        "print(f\"tensor 1 is :-{first_tensor} and tensor 2 is {y}\")\n",
        "\n",
        "\n"
      ]
    },
    {
      "cell_type": "code",
      "execution_count": null,
      "metadata": {
        "colab": {
          "base_uri": "https://localhost:8080/"
        },
        "id": "ZDi-yQtDIInc",
        "outputId": "45534003-1259-44ce-af10-8328d9eafdda"
      },
      "outputs": [
        {
          "name": "stdout",
          "output_type": "stream",
          "text": [
            "tensor([[0.3990, 0.5167, 0.0249],\n",
            "        [0.9401, 0.9459, 0.7967],\n",
            "        [0.4150, 0.8203, 0.2290]], device='cuda:0') tensor([[0.8964, 0.4556, 0.6323],\n",
            "        [0.3489, 0.4017, 0.0223],\n",
            "        [0.1689, 0.2939, 0.5185]], device='cuda:0')\n"
          ]
        }
      ],
      "source": [
        "#Speaking of random seeds, we saw how to set it with torch.manual_seed() but is there a GPU equivalent?\n",
        "#(hint: you'll need to look into the documentation for torch.cuda for this one). If there is, set the GPU random seed to 1234\n",
        "\n",
        "import torch\n",
        "\n",
        "random_seed=1234\n",
        "\n",
        "tensor1=torch.rand([3,3],device=\"cuda\")\n",
        "torch.cuda.manual_seed(random_seed)\n",
        "tensor2=torch.rand([3,3]).to(device)\n",
        "\n",
        "print(tensor1,tensor2)"
      ]
    },
    {
      "cell_type": "code",
      "execution_count": null,
      "metadata": {
        "colab": {
          "base_uri": "https://localhost:8080/"
        },
        "id": "vYX-Q9nWM-TR",
        "outputId": "2d007e4a-9eff-4068-dc01-2c5be4723c44"
      },
      "outputs": [
        {
          "name": "stdout",
          "output_type": "stream",
          "text": [
            "tensor([[1.0439, 1.1538],\n",
            "        [1.0918, 0.8386]], device='cuda:0')\n"
          ]
        }
      ],
      "source": [
        "#Create two random tensors of shape (2, 3) and send them both to the GPU (you'll need access to a GPU for this).\n",
        "#Set torch.manual_seed(1234) when creating the tensors (this doesn't have to be the GPU random seed).\n",
        "\n",
        "import torch\n",
        "random_seed=1234\n",
        "torch.cuda.manual_seed(random_seed)\n",
        "tensor_1=torch.rand([2,3]).to(device)\n",
        "tensor_2=torch.rand([2,3]).to(device)\n",
        "\n",
        "new_tensor=torch.transpose(tensor_2,0,1)\n",
        "res=torch.matmul(tensor_1,new_tensor)\n",
        "print(res)\n",
        "\n"
      ]
    },
    {
      "cell_type": "code",
      "execution_count": null,
      "metadata": {
        "colab": {
          "base_uri": "https://localhost:8080/"
        },
        "id": "VekZIT-EM-P2",
        "outputId": "cd52294b-b1b3-4d64-f809-36de9f3b29f8"
      },
      "outputs": [
        {
          "data": {
            "text/plain": [
              "tensor(0.8386, device='cuda:0')"
            ]
          },
          "execution_count": 183,
          "metadata": {},
          "output_type": "execute_result"
        }
      ],
      "source": [
        "res.min()"
      ]
    },
    {
      "cell_type": "code",
      "execution_count": null,
      "metadata": {
        "colab": {
          "base_uri": "https://localhost:8080/"
        },
        "id": "VUWSsxXXM-N8",
        "outputId": "e1f3d6ce-fecd-49e3-98f5-8e0297069b57"
      },
      "outputs": [
        {
          "data": {
            "text/plain": [
              "tensor(1.1538, device='cuda:0')"
            ]
          },
          "execution_count": 184,
          "metadata": {},
          "output_type": "execute_result"
        }
      ],
      "source": [
        "res.max()"
      ]
    },
    {
      "cell_type": "code",
      "execution_count": null,
      "metadata": {
        "colab": {
          "base_uri": "https://localhost:8080/"
        },
        "id": "Ne_DgHF1M-Lz",
        "outputId": "a90e602f-ab95-4634-e283-55326ad0bbaf"
      },
      "outputs": [
        {
          "data": {
            "text/plain": [
              "tensor([0, 1], device='cuda:0')"
            ]
          },
          "execution_count": 185,
          "metadata": {},
          "output_type": "execute_result"
        }
      ],
      "source": [
        "res.argmin(dim=0)"
      ]
    },
    {
      "cell_type": "code",
      "execution_count": null,
      "metadata": {
        "colab": {
          "base_uri": "https://localhost:8080/"
        },
        "id": "lvqDFJdWM-JP",
        "outputId": "edd8f2df-c4dd-4bee-b382-10a77e617f14"
      },
      "outputs": [
        {
          "data": {
            "text/plain": [
              "tensor([1, 0], device='cuda:0')"
            ]
          },
          "execution_count": 186,
          "metadata": {},
          "output_type": "execute_result"
        }
      ],
      "source": [
        "res.argmax(dim=0)"
      ]
    },
    {
      "cell_type": "code",
      "execution_count": null,
      "metadata": {
        "colab": {
          "base_uri": "https://localhost:8080/"
        },
        "id": "4eluzwqVdrP1",
        "outputId": "a201f04d-55c3-4456-eec6-f1047aef7034"
      },
      "outputs": [
        {
          "data": {
            "text/plain": [
              "tensor(1.0439, device='cuda:0')"
            ]
          },
          "execution_count": 187,
          "metadata": {},
          "output_type": "execute_result"
        }
      ],
      "source": [
        "res[0,0]"
      ]
    },
    {
      "cell_type": "code",
      "execution_count": null,
      "metadata": {
        "id": "EnjB-1vMd685"
      },
      "outputs": [],
      "source": [
        "#10..... Make a random tensor with shape (1, 1, 1, 10) and then create a new tensor with all the\n",
        "#1 dimensions removed to be left with a tensor of shape (10). Set the seed to 7 when you create it and print out the first tensor and\n",
        "#it's shape as well as the second tensor and it's shape"
      ]
    },
    {
      "cell_type": "code",
      "execution_count": null,
      "metadata": {
        "colab": {
          "base_uri": "https://localhost:8080/"
        },
        "id": "Z3HIuh5f6IiL",
        "outputId": "f2020f17-9d31-4598-b7eb-3e2b9d502396"
      },
      "outputs": [
        {
          "name": "stdout",
          "output_type": "stream",
          "text": [
            "First tensor is tensor([[[[0.5349, 0.1988, 0.6592, 0.6569, 0.2328, 0.4251, 0.2071, 0.6297,\n",
            "           0.3653, 0.8513]]]]) and its shape istorch.Size([1, 1, 1, 10])\n",
            "After the removal of the all 1 dim in the tensor tensor istensor([0.5349, 0.1988, 0.6592, 0.6569, 0.2328, 0.4251, 0.2071, 0.6297, 0.3653,\n",
            "        0.8513]) and its shape is torch.Size([10])\n"
          ]
        }
      ],
      "source": [
        "import torch\n",
        "random_seed=7\n",
        "torch.manual_seed(random_seed)\n",
        "random_tensor=torch.rand([1,1,1,10])\n",
        "new_random_tensor=torch.squeeze(random_tensor)\n",
        "print(f\"First tensor is {random_tensor} and its shape is{random_tensor.shape}\")\n",
        "print(f\"After the removal of the all 1 dim in the tensor tensor is{new_random_tensor} and its shape is {new_random_tensor.shape}\")\n",
        "\n"
      ]
    },
    {
      "cell_type": "code",
      "execution_count": null,
      "metadata": {
        "colab": {
          "base_uri": "https://localhost:8080/"
        },
        "id": "UuJCWrYF6Iep",
        "outputId": "f7e12e4e-c7d9-42f3-c3dc-c6aa27ffb656"
      },
      "outputs": [
        {
          "data": {
            "text/plain": [
              "1"
            ]
          },
          "execution_count": 190,
          "metadata": {},
          "output_type": "execute_result"
        }
      ],
      "source": [
        "tensor=torch.tensor([7,7,7])\n",
        "tensor.ndim"
      ]
    },
    {
      "cell_type": "code",
      "execution_count": null,
      "metadata": {
        "id": "BKgDxrWK6IcO"
      },
      "outputs": [],
      "source": []
    },
    {
      "cell_type": "code",
      "execution_count": null,
      "metadata": {
        "id": "buLza4Ce6IZ8"
      },
      "outputs": [],
      "source": []
    },
    {
      "cell_type": "code",
      "execution_count": null,
      "metadata": {
        "id": "QtJSec0P6IRU"
      },
      "outputs": [],
      "source": []
    },
    {
      "cell_type": "code",
      "execution_count": null,
      "metadata": {
        "id": "PFDcxlsE6IEz"
      },
      "outputs": [],
      "source": []
    }
  ],
  "metadata": {
    "accelerator": "GPU",
    "colab": {
      "gpuType": "T4",
      "provenance": [],
      "authorship_tag": "ABX9TyOyCgThZOJ3JqgYNTc9E35/",
      "include_colab_link": true
    },
    "kernelspec": {
      "display_name": "Python 3",
      "name": "python3"
    },
    "language_info": {
      "name": "python"
    }
  },
  "nbformat": 4,
  "nbformat_minor": 0
}