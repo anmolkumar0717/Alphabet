{
  "nbformat": 4,
  "nbformat_minor": 0,
  "metadata": {
    "colab": {
      "provenance": [],
      "authorship_tag": "ABX9TyMahXsTF/MrSI2A+4p7N8dN",
      "include_colab_link": true
    },
    "kernelspec": {
      "name": "python3",
      "display_name": "Python 3"
    },
    "language_info": {
      "name": "python"
    }
  },
  "cells": [
    {
      "cell_type": "markdown",
      "metadata": {
        "id": "view-in-github",
        "colab_type": "text"
      },
      "source": [
        "<a href=\"https://colab.research.google.com/github/anmolkumar0717/pyTorch/blob/main/pytorch_1.ipynb\" target=\"_parent\"><img src=\"https://colab.research.google.com/assets/colab-badge.svg\" alt=\"Open In Colab\"/></a>"
      ]
    },
    {
      "cell_type": "code",
      "execution_count": 2,
      "metadata": {
        "colab": {
          "base_uri": "https://localhost:8080/"
        },
        "id": "hU4393nd6VEV",
        "outputId": "2b982728-9d84-4e1d-e169-c05ba4825db8"
      },
      "outputs": [
        {
          "output_type": "stream",
          "name": "stdout",
          "text": [
            "hello\n"
          ]
        }
      ],
      "source": [
        "print(\"hello\")"
      ]
    },
    {
      "cell_type": "code",
      "source": [
        "!nvidia-smi\n"
      ],
      "metadata": {
        "colab": {
          "base_uri": "https://localhost:8080/"
        },
        "id": "YTqP9gLN6Y0J",
        "outputId": "ada57ffc-c9b4-47b1-9dc8-984c924d0bb3"
      },
      "execution_count": 3,
      "outputs": [
        {
          "output_type": "stream",
          "name": "stdout",
          "text": [
            "/bin/bash: line 1: nvidia-smi: command not found\n"
          ]
        }
      ]
    },
    {
      "cell_type": "code",
      "source": [
        "import torch\n",
        "import pandas as pd\n",
        "import matplotlib.pyplot as plt\n",
        "import numpy as np\n",
        "print(torch.__version__)"
      ],
      "metadata": {
        "colab": {
          "base_uri": "https://localhost:8080/"
        },
        "id": "8lWt_QBD7twf",
        "outputId": "64c74dd5-de7b-4fc3-891b-c214a529139b"
      },
      "execution_count": 4,
      "outputs": [
        {
          "output_type": "stream",
          "name": "stdout",
          "text": [
            "2.2.1+cu121\n"
          ]
        }
      ]
    },
    {
      "cell_type": "code",
      "source": [
        "#scaler\n",
        "scaler=torch.tensor(7)\n",
        "scaler"
      ],
      "metadata": {
        "colab": {
          "base_uri": "https://localhost:8080/"
        },
        "id": "9TDJg70M9Tld",
        "outputId": "f20f45cb-4b15-4137-b276-0f1480ff1233"
      },
      "execution_count": 5,
      "outputs": [
        {
          "output_type": "execute_result",
          "data": {
            "text/plain": [
              "tensor(7)"
            ]
          },
          "metadata": {},
          "execution_count": 5
        }
      ]
    },
    {
      "cell_type": "code",
      "source": [
        "scaler.ndim"
      ],
      "metadata": {
        "colab": {
          "base_uri": "https://localhost:8080/"
        },
        "id": "xaPjVnsu-vCL",
        "outputId": "0cc806aa-64b9-4314-98cc-cdf0fe29d4d5"
      },
      "execution_count": 6,
      "outputs": [
        {
          "output_type": "execute_result",
          "data": {
            "text/plain": [
              "0"
            ]
          },
          "metadata": {},
          "execution_count": 6
        }
      ]
    },
    {
      "cell_type": "code",
      "source": [
        "scaler.item()"
      ],
      "metadata": {
        "colab": {
          "base_uri": "https://localhost:8080/"
        },
        "id": "qai1Z6oC_A2H",
        "outputId": "843dd57e-8606-4b07-a73b-7dfb434e6c59"
      },
      "execution_count": 7,
      "outputs": [
        {
          "output_type": "execute_result",
          "data": {
            "text/plain": [
              "7"
            ]
          },
          "metadata": {},
          "execution_count": 7
        }
      ]
    },
    {
      "cell_type": "code",
      "source": [
        "#vector\n",
        "\n",
        "vector=torch.tensor([7,7])\n",
        "vector"
      ],
      "metadata": {
        "colab": {
          "base_uri": "https://localhost:8080/"
        },
        "id": "Zyd6tmUb_Njh",
        "outputId": "967d71bd-f882-4b0a-cbdb-e6ec30588ebe"
      },
      "execution_count": 8,
      "outputs": [
        {
          "output_type": "execute_result",
          "data": {
            "text/plain": [
              "tensor([7, 7])"
            ]
          },
          "metadata": {},
          "execution_count": 8
        }
      ]
    },
    {
      "cell_type": "code",
      "source": [
        "vector.ndim"
      ],
      "metadata": {
        "colab": {
          "base_uri": "https://localhost:8080/"
        },
        "id": "k-WMdGbp_jWU",
        "outputId": "3a1d17ba-f1cd-4a5e-ef71-91e0fef7445d"
      },
      "execution_count": 9,
      "outputs": [
        {
          "output_type": "execute_result",
          "data": {
            "text/plain": [
              "1"
            ]
          },
          "metadata": {},
          "execution_count": 9
        }
      ]
    },
    {
      "cell_type": "code",
      "source": [
        "vector.shape"
      ],
      "metadata": {
        "colab": {
          "base_uri": "https://localhost:8080/"
        },
        "id": "5Hz8r8aI_m5b",
        "outputId": "b2a37aea-9625-4e25-f756-9e587a228703"
      },
      "execution_count": 10,
      "outputs": [
        {
          "output_type": "execute_result",
          "data": {
            "text/plain": [
              "torch.Size([2])"
            ]
          },
          "metadata": {},
          "execution_count": 10
        }
      ]
    },
    {
      "cell_type": "code",
      "source": [
        "\n",
        "#MATRIX\n",
        "MATRIX=torch.tensor([[7,8],\n",
        "                     [9,10]])\n",
        "MATRIX"
      ],
      "metadata": {
        "colab": {
          "base_uri": "https://localhost:8080/"
        },
        "id": "kXR0jGDf_q6S",
        "outputId": "5618d4d5-ab6e-40d1-dbbd-fd50f064e7e4"
      },
      "execution_count": 11,
      "outputs": [
        {
          "output_type": "execute_result",
          "data": {
            "text/plain": [
              "tensor([[ 7,  8],\n",
              "        [ 9, 10]])"
            ]
          },
          "metadata": {},
          "execution_count": 11
        }
      ]
    },
    {
      "cell_type": "code",
      "source": [
        "MATRIX.shape"
      ],
      "metadata": {
        "colab": {
          "base_uri": "https://localhost:8080/"
        },
        "id": "SxwD133A_6P0",
        "outputId": "b748d239-c8b1-4df2-f30f-9e436243ba59"
      },
      "execution_count": 12,
      "outputs": [
        {
          "output_type": "execute_result",
          "data": {
            "text/plain": [
              "torch.Size([2, 2])"
            ]
          },
          "metadata": {},
          "execution_count": 12
        }
      ]
    },
    {
      "cell_type": "code",
      "source": [
        "MATRIX.ndim"
      ],
      "metadata": {
        "colab": {
          "base_uri": "https://localhost:8080/"
        },
        "id": "Ty4xgDUMAAB9",
        "outputId": "2f8becdb-5fc4-40d7-ca11-b0e57223841a"
      },
      "execution_count": 13,
      "outputs": [
        {
          "output_type": "execute_result",
          "data": {
            "text/plain": [
              "2"
            ]
          },
          "metadata": {},
          "execution_count": 13
        }
      ]
    },
    {
      "cell_type": "code",
      "source": [
        "#TENSOR\n",
        "TENSOR=torch.tensor([[[1,2,3],\n",
        "                      [3,4,5],\n",
        "                      [3,2,4]]])\n",
        "TENSOR\n"
      ],
      "metadata": {
        "colab": {
          "base_uri": "https://localhost:8080/"
        },
        "id": "WL5lHE_SAIoZ",
        "outputId": "3abe823f-6609-45ce-855c-6a751798c5ed"
      },
      "execution_count": 14,
      "outputs": [
        {
          "output_type": "execute_result",
          "data": {
            "text/plain": [
              "tensor([[[1, 2, 3],\n",
              "         [3, 4, 5],\n",
              "         [3, 2, 4]]])"
            ]
          },
          "metadata": {},
          "execution_count": 14
        }
      ]
    },
    {
      "cell_type": "code",
      "source": [
        "TENSOR.shape\n"
      ],
      "metadata": {
        "colab": {
          "base_uri": "https://localhost:8080/"
        },
        "id": "N2PVp6WLA2qF",
        "outputId": "7724b086-2a25-48a2-f372-09742460fac2"
      },
      "execution_count": 15,
      "outputs": [
        {
          "output_type": "execute_result",
          "data": {
            "text/plain": [
              "torch.Size([1, 3, 3])"
            ]
          },
          "metadata": {},
          "execution_count": 15
        }
      ]
    },
    {
      "cell_type": "code",
      "source": [
        "a=torch.tensor([[[[[[[[[[[[[1,2,3,4],\n",
        " [8,9,9,8]]]]]]]]]]]]])\n",
        "a"
      ],
      "metadata": {
        "colab": {
          "base_uri": "https://localhost:8080/"
        },
        "id": "40NBqtliA7wo",
        "outputId": "8dd4b551-f287-4248-b9af-a93d281a0c61"
      },
      "execution_count": 16,
      "outputs": [
        {
          "output_type": "execute_result",
          "data": {
            "text/plain": [
              "tensor([[[[[[[[[[[[[1, 2, 3, 4],\n",
              "                   [8, 9, 9, 8]]]]]]]]]]]]])"
            ]
          },
          "metadata": {},
          "execution_count": 16
        }
      ]
    },
    {
      "cell_type": "code",
      "source": [
        "a.shape\n"
      ],
      "metadata": {
        "colab": {
          "base_uri": "https://localhost:8080/"
        },
        "id": "-SLdiom6Bi9c",
        "outputId": "06f0d9b8-6287-4587-de42-f46c306807a9"
      },
      "execution_count": 17,
      "outputs": [
        {
          "output_type": "execute_result",
          "data": {
            "text/plain": [
              "torch.Size([1, 1, 1, 1, 1, 1, 1, 1, 1, 1, 1, 2, 4])"
            ]
          },
          "metadata": {},
          "execution_count": 17
        }
      ]
    },
    {
      "cell_type": "code",
      "source": [
        "a.ndim"
      ],
      "metadata": {
        "colab": {
          "base_uri": "https://localhost:8080/"
        },
        "id": "QaNXG4XiCU-m",
        "outputId": "bfa396ab-6707-480d-8949-7a7a650f867e"
      },
      "execution_count": 18,
      "outputs": [
        {
          "output_type": "execute_result",
          "data": {
            "text/plain": [
              "13"
            ]
          },
          "metadata": {},
          "execution_count": 18
        }
      ]
    },
    {
      "cell_type": "markdown",
      "source": [
        "### Create a random tensor"
      ],
      "metadata": {
        "id": "vq8JUbCaCyy2"
      }
    },
    {
      "cell_type": "code",
      "source": [
        "random_tensor=torch.rand(3,4)\n",
        "random_tensor"
      ],
      "metadata": {
        "colab": {
          "base_uri": "https://localhost:8080/"
        },
        "id": "-7ai0SB10HRD",
        "outputId": "b00f2aa4-bd02-4424-ec5c-be1e62354c21"
      },
      "execution_count": 19,
      "outputs": [
        {
          "output_type": "execute_result",
          "data": {
            "text/plain": [
              "tensor([[0.4200, 0.8528, 0.2828, 0.4459],\n",
              "        [0.4598, 0.9486, 0.1943, 0.4973],\n",
              "        [0.9812, 0.9386, 0.4551, 0.5352]])"
            ]
          },
          "metadata": {},
          "execution_count": 19
        }
      ]
    },
    {
      "cell_type": "code",
      "source": [
        "# create a randome tensor with similar shape to an image tensor\n",
        "randome_image_size_tensor=torch.rand(size=(3,224,224))\n",
        "print(randome_image_size_tensor.shape,\"dimension = \",randome_image_size_tensor.ndim)"
      ],
      "metadata": {
        "colab": {
          "base_uri": "https://localhost:8080/"
        },
        "id": "Q7bAG8IZz30z",
        "outputId": "2b0758b3-47db-46a1-95bb-77842b3d869e"
      },
      "execution_count": 20,
      "outputs": [
        {
          "output_type": "stream",
          "name": "stdout",
          "text": [
            "torch.Size([3, 224, 224]) dimension =  3\n"
          ]
        }
      ]
    },
    {
      "cell_type": "code",
      "source": [
        "random_tensor1=torch.rand(3,4,3)\n",
        "print(random_tensor1)\n",
        "print(random_tensor1.ndim)"
      ],
      "metadata": {
        "colab": {
          "base_uri": "https://localhost:8080/"
        },
        "id": "WWES4_eV149_",
        "outputId": "0e39a5ea-d265-4327-f315-8e87c984b14e"
      },
      "execution_count": 21,
      "outputs": [
        {
          "output_type": "stream",
          "name": "stdout",
          "text": [
            "tensor([[[0.5979, 0.2102, 0.3922],\n",
            "         [0.6123, 0.1597, 0.8504],\n",
            "         [0.3103, 0.2107, 0.3327],\n",
            "         [0.6561, 0.8791, 0.3039]],\n",
            "\n",
            "        [[0.8730, 0.4067, 0.9417],\n",
            "         [0.9427, 0.7938, 0.6641],\n",
            "         [0.5908, 0.7166, 0.4009],\n",
            "         [0.1338, 0.3194, 0.3699]],\n",
            "\n",
            "        [[0.0362, 0.4561, 0.3255],\n",
            "         [0.6526, 0.3623, 0.0158],\n",
            "         [0.1124, 0.1033, 0.0883],\n",
            "         [0.3632, 0.5037, 0.9401]]])\n",
            "3\n"
          ]
        }
      ]
    },
    {
      "cell_type": "markdown",
      "source": [
        "### Zeros and Ones Tensor"
      ],
      "metadata": {
        "id": "ZiXu14-d6KmF"
      }
    },
    {
      "cell_type": "code",
      "source": [
        "zeros=torch.zeros(size=(4,3))\n",
        "zeros"
      ],
      "metadata": {
        "colab": {
          "base_uri": "https://localhost:8080/"
        },
        "id": "jJ-RxLRA2jQa",
        "outputId": "653d9391-9873-4944-9ae8-04cc8888e0b8"
      },
      "execution_count": 22,
      "outputs": [
        {
          "output_type": "execute_result",
          "data": {
            "text/plain": [
              "tensor([[0., 0., 0.],\n",
              "        [0., 0., 0.],\n",
              "        [0., 0., 0.],\n",
              "        [0., 0., 0.]])"
            ]
          },
          "metadata": {},
          "execution_count": 22
        }
      ]
    },
    {
      "cell_type": "code",
      "source": [
        "zeros*random_tensor1"
      ],
      "metadata": {
        "colab": {
          "base_uri": "https://localhost:8080/"
        },
        "id": "IVpS3vva6jhh",
        "outputId": "bb4d837d-50f0-4f30-df60-93376f6220e0"
      },
      "execution_count": 23,
      "outputs": [
        {
          "output_type": "execute_result",
          "data": {
            "text/plain": [
              "tensor([[[0., 0., 0.],\n",
              "         [0., 0., 0.],\n",
              "         [0., 0., 0.],\n",
              "         [0., 0., 0.]],\n",
              "\n",
              "        [[0., 0., 0.],\n",
              "         [0., 0., 0.],\n",
              "         [0., 0., 0.],\n",
              "         [0., 0., 0.]],\n",
              "\n",
              "        [[0., 0., 0.],\n",
              "         [0., 0., 0.],\n",
              "         [0., 0., 0.],\n",
              "         [0., 0., 0.]]])"
            ]
          },
          "metadata": {},
          "execution_count": 23
        }
      ]
    },
    {
      "cell_type": "code",
      "source": [
        "#creating a tensor of all ones\n",
        "ones=torch.ones(size=(3,3,2,3,4))\n",
        "ones"
      ],
      "metadata": {
        "colab": {
          "base_uri": "https://localhost:8080/"
        },
        "id": "S8yZFO1G6vp3",
        "outputId": "64686c1c-b753-4d36-897c-47911ea2a292"
      },
      "execution_count": 24,
      "outputs": [
        {
          "output_type": "execute_result",
          "data": {
            "text/plain": [
              "tensor([[[[[1., 1., 1., 1.],\n",
              "           [1., 1., 1., 1.],\n",
              "           [1., 1., 1., 1.]],\n",
              "\n",
              "          [[1., 1., 1., 1.],\n",
              "           [1., 1., 1., 1.],\n",
              "           [1., 1., 1., 1.]]],\n",
              "\n",
              "\n",
              "         [[[1., 1., 1., 1.],\n",
              "           [1., 1., 1., 1.],\n",
              "           [1., 1., 1., 1.]],\n",
              "\n",
              "          [[1., 1., 1., 1.],\n",
              "           [1., 1., 1., 1.],\n",
              "           [1., 1., 1., 1.]]],\n",
              "\n",
              "\n",
              "         [[[1., 1., 1., 1.],\n",
              "           [1., 1., 1., 1.],\n",
              "           [1., 1., 1., 1.]],\n",
              "\n",
              "          [[1., 1., 1., 1.],\n",
              "           [1., 1., 1., 1.],\n",
              "           [1., 1., 1., 1.]]]],\n",
              "\n",
              "\n",
              "\n",
              "        [[[[1., 1., 1., 1.],\n",
              "           [1., 1., 1., 1.],\n",
              "           [1., 1., 1., 1.]],\n",
              "\n",
              "          [[1., 1., 1., 1.],\n",
              "           [1., 1., 1., 1.],\n",
              "           [1., 1., 1., 1.]]],\n",
              "\n",
              "\n",
              "         [[[1., 1., 1., 1.],\n",
              "           [1., 1., 1., 1.],\n",
              "           [1., 1., 1., 1.]],\n",
              "\n",
              "          [[1., 1., 1., 1.],\n",
              "           [1., 1., 1., 1.],\n",
              "           [1., 1., 1., 1.]]],\n",
              "\n",
              "\n",
              "         [[[1., 1., 1., 1.],\n",
              "           [1., 1., 1., 1.],\n",
              "           [1., 1., 1., 1.]],\n",
              "\n",
              "          [[1., 1., 1., 1.],\n",
              "           [1., 1., 1., 1.],\n",
              "           [1., 1., 1., 1.]]]],\n",
              "\n",
              "\n",
              "\n",
              "        [[[[1., 1., 1., 1.],\n",
              "           [1., 1., 1., 1.],\n",
              "           [1., 1., 1., 1.]],\n",
              "\n",
              "          [[1., 1., 1., 1.],\n",
              "           [1., 1., 1., 1.],\n",
              "           [1., 1., 1., 1.]]],\n",
              "\n",
              "\n",
              "         [[[1., 1., 1., 1.],\n",
              "           [1., 1., 1., 1.],\n",
              "           [1., 1., 1., 1.]],\n",
              "\n",
              "          [[1., 1., 1., 1.],\n",
              "           [1., 1., 1., 1.],\n",
              "           [1., 1., 1., 1.]]],\n",
              "\n",
              "\n",
              "         [[[1., 1., 1., 1.],\n",
              "           [1., 1., 1., 1.],\n",
              "           [1., 1., 1., 1.]],\n",
              "\n",
              "          [[1., 1., 1., 1.],\n",
              "           [1., 1., 1., 1.],\n",
              "           [1., 1., 1., 1.]]]]])"
            ]
          },
          "metadata": {},
          "execution_count": 24
        }
      ]
    },
    {
      "cell_type": "code",
      "source": [
        "ones.dtype"
      ],
      "metadata": {
        "colab": {
          "base_uri": "https://localhost:8080/"
        },
        "id": "qsQn7R9a7GKp",
        "outputId": "a568c2b1-437b-4422-f2de-c72fc27aa1eb"
      },
      "execution_count": 25,
      "outputs": [
        {
          "output_type": "execute_result",
          "data": {
            "text/plain": [
              "torch.float32"
            ]
          },
          "metadata": {},
          "execution_count": 25
        }
      ]
    },
    {
      "cell_type": "markdown",
      "source": [
        "### creating a range of ternsors and tensor_like"
      ],
      "metadata": {
        "id": "QrgAlCpe7I-y"
      }
    },
    {
      "cell_type": "code",
      "source": [
        "#use torch .rande()\n",
        "one_2_ten=torch.arange(2,11,3)\n",
        "one_2_ten"
      ],
      "metadata": {
        "colab": {
          "base_uri": "https://localhost:8080/"
        },
        "id": "qVZaWIyb8pK6",
        "outputId": "18642d0c-a585-430a-fdc9-bd0b09de4c39"
      },
      "execution_count": 26,
      "outputs": [
        {
          "output_type": "execute_result",
          "data": {
            "text/plain": [
              "tensor([2, 5, 8])"
            ]
          },
          "metadata": {},
          "execution_count": 26
        }
      ]
    },
    {
      "cell_type": "code",
      "source": [
        "#creating tensors like\n",
        "\n",
        "ten_zeros=torch.zeros_like(input=one_2_ten)\n",
        "ten_zeros"
      ],
      "metadata": {
        "colab": {
          "base_uri": "https://localhost:8080/"
        },
        "id": "l0ZrHEJf8o8j",
        "outputId": "f006b0c1-4018-4413-87e9-a1e8314cac2b"
      },
      "execution_count": 27,
      "outputs": [
        {
          "output_type": "execute_result",
          "data": {
            "text/plain": [
              "tensor([0, 0, 0])"
            ]
          },
          "metadata": {},
          "execution_count": 27
        }
      ]
    },
    {
      "cell_type": "code",
      "source": [
        "ten_one=torch.ones_like(input=ten_zeros)\n",
        "ten_one"
      ],
      "metadata": {
        "colab": {
          "base_uri": "https://localhost:8080/"
        },
        "id": "FbYNhzdb9sfD",
        "outputId": "cab5a32c-879e-44e7-a1db-5819efcbb1f9"
      },
      "execution_count": 28,
      "outputs": [
        {
          "output_type": "execute_result",
          "data": {
            "text/plain": [
              "tensor([1, 1, 1])"
            ]
          },
          "metadata": {},
          "execution_count": 28
        }
      ]
    },
    {
      "cell_type": "markdown",
      "source": [
        "### tensor Data type"
      ],
      "metadata": {
        "id": "RAc8S0WF-Dyj"
      }
    },
    {
      "cell_type": "code",
      "source": [
        "#float 32 tensor\n",
        "float_32_tensor=torch.tensor([1,2,3,3,423],\n",
        "                             dtype=torch.float16,\n",
        "                             device=\"cpu\",\n",
        "                             requires_grad=False)\n",
        "float_32_tensor"
      ],
      "metadata": {
        "colab": {
          "base_uri": "https://localhost:8080/"
        },
        "id": "r40mAzUi-zQS",
        "outputId": "f73598d0-292b-4889-9e1f-55dc285f9f87"
      },
      "execution_count": 29,
      "outputs": [
        {
          "output_type": "execute_result",
          "data": {
            "text/plain": [
              "tensor([  1.,   2.,   3.,   3., 423.], dtype=torch.float16)"
            ]
          },
          "metadata": {},
          "execution_count": 29
        }
      ]
    },
    {
      "cell_type": "code",
      "source": [
        "unsinged_integer=torch.tensor([1,2,3,4,5,67,8],\n",
        "                              dtype=torch.uint8,\n",
        "                              device='cpu',\n",
        "                              requires_grad=False)\n",
        "unsinged_integer"
      ],
      "metadata": {
        "colab": {
          "base_uri": "https://localhost:8080/"
        },
        "id": "ob_x6cOM-z8j",
        "outputId": "0ea60934-d6c1-45ce-8d58-17e928793dec"
      },
      "execution_count": 30,
      "outputs": [
        {
          "output_type": "execute_result",
          "data": {
            "text/plain": [
              "tensor([ 1,  2,  3,  4,  5, 67,  8], dtype=torch.uint8)"
            ]
          },
          "metadata": {},
          "execution_count": 30
        }
      ]
    },
    {
      "cell_type": "code",
      "source": [
        "unsinged_integer.dtype"
      ],
      "metadata": {
        "colab": {
          "base_uri": "https://localhost:8080/"
        },
        "id": "3Bqane7k-z5N",
        "outputId": "335b7215-c9ea-4512-dc05-85de855cb8c9"
      },
      "execution_count": 31,
      "outputs": [
        {
          "output_type": "execute_result",
          "data": {
            "text/plain": [
              "torch.uint8"
            ]
          },
          "metadata": {},
          "execution_count": 31
        }
      ]
    },
    {
      "cell_type": "code",
      "source": [
        "one_ten=torch.ones_like(input=torch.arange(0,10))\n",
        "one_ten"
      ],
      "metadata": {
        "id": "lHGG_mcOC95a",
        "colab": {
          "base_uri": "https://localhost:8080/"
        },
        "outputId": "a59a7c6f-9623-4131-9a3e-f73463f0c8d9"
      },
      "execution_count": 32,
      "outputs": [
        {
          "output_type": "execute_result",
          "data": {
            "text/plain": [
              "tensor([1, 1, 1, 1, 1, 1, 1, 1, 1, 1])"
            ]
          },
          "metadata": {},
          "execution_count": 32
        }
      ]
    },
    {
      "cell_type": "code",
      "source": [
        "tensor_16_float=torch.tensor([1,2,32,430],\n",
        "                            dtype=torch.float16,\n",
        "                            device=None,\n",
        "                            requires_grad=False\n",
        "                            )"
      ],
      "metadata": {
        "id": "_UYmMv0l5UYF"
      },
      "execution_count": 33,
      "outputs": []
    },
    {
      "cell_type": "code",
      "source": [
        "tensor_32_float=torch.tensor([1,2,32,430],\n",
        "                            dtype=torch.float32,\n",
        "                            device=None,\n",
        "                            requires_grad=False\n",
        "                            )"
      ],
      "metadata": {
        "id": "mg3KvdIm5UfZ"
      },
      "execution_count": 34,
      "outputs": []
    },
    {
      "cell_type": "code",
      "source": [
        "tensor_16_float*tensor_32_float"
      ],
      "metadata": {
        "colab": {
          "base_uri": "https://localhost:8080/"
        },
        "id": "ZjFHofc65Uh2",
        "outputId": "06663185-6e5a-4fb3-f1ad-d06fffdfaff8"
      },
      "execution_count": 35,
      "outputs": [
        {
          "output_type": "execute_result",
          "data": {
            "text/plain": [
              "tensor([1.0000e+00, 4.0000e+00, 1.0240e+03, 1.8490e+05])"
            ]
          },
          "metadata": {},
          "execution_count": 35
        }
      ]
    },
    {
      "cell_type": "code",
      "source": [
        "integer_tensor=torch.tensor([1,23,2,212],\n",
        "                            dtype=torch.int32)"
      ],
      "metadata": {
        "id": "SPtKHQSy5UkQ"
      },
      "execution_count": 36,
      "outputs": []
    },
    {
      "cell_type": "code",
      "source": [
        "integer_tensor*tensor_16_float"
      ],
      "metadata": {
        "colab": {
          "base_uri": "https://localhost:8080/"
        },
        "id": "bwInU3Ks5Umm",
        "outputId": "2c72bef7-8955-4ce5-ce64-ad5167933123"
      },
      "execution_count": 37,
      "outputs": [
        {
          "output_type": "execute_result",
          "data": {
            "text/plain": [
              "tensor([ 1., 46., 64., inf], dtype=torch.float16)"
            ]
          },
          "metadata": {},
          "execution_count": 37
        }
      ]
    },
    {
      "cell_type": "code",
      "source": [
        "some_tensor=torch.rand(3,4)\n",
        "some_tensor"
      ],
      "metadata": {
        "colab": {
          "base_uri": "https://localhost:8080/"
        },
        "id": "9rfdLh5K5UoY",
        "outputId": "f87d84a1-2b00-4695-bef1-e2773dc867a8"
      },
      "execution_count": 38,
      "outputs": [
        {
          "output_type": "execute_result",
          "data": {
            "text/plain": [
              "tensor([[0.4981, 0.4786, 0.9602, 0.6382],\n",
              "        [0.3106, 0.8998, 0.8778, 0.0360],\n",
              "        [0.4294, 0.6778, 0.0694, 0.6343]])"
            ]
          },
          "metadata": {},
          "execution_count": 38
        }
      ]
    },
    {
      "cell_type": "code",
      "source": [
        "some_tensor=some_tensor.type(torch.float16)"
      ],
      "metadata": {
        "id": "Vh56VI9-5Uqe"
      },
      "execution_count": 39,
      "outputs": []
    },
    {
      "cell_type": "code",
      "source": [
        "print(f\"Data Type of the tensor is:-{some_tensor.dtype}\")\n",
        "print(f\"Device of the Tensor is :-{some_tensor.device}\")\n",
        "print(f\"Size of the tensor:-{some_tensor.size()}\")\n",
        "print(f\"Dimension of the tensor is:-{some_tensor.ndim}\")"
      ],
      "metadata": {
        "colab": {
          "base_uri": "https://localhost:8080/"
        },
        "id": "W3d-4gTl5UtS",
        "outputId": "38b2315f-f09b-4f63-a3aa-849aca9d6f5a"
      },
      "execution_count": 40,
      "outputs": [
        {
          "output_type": "stream",
          "name": "stdout",
          "text": [
            "Data Type of the tensor is:-torch.float16\n",
            "Device of the Tensor is :-cpu\n",
            "Size of the tensor:-torch.Size([3, 4])\n",
            "Dimension of the tensor is:-2\n"
          ]
        }
      ]
    },
    {
      "cell_type": "code",
      "source": [
        "device=torch.device(\"cuda\")"
      ],
      "metadata": {
        "id": "UzNnYNGy5UwT"
      },
      "execution_count": 41,
      "outputs": []
    },
    {
      "cell_type": "code",
      "source": [
        "#error because we are using cpu insted of gpu \"cuda is a gpu device not a cpu device\"\n",
        "\n",
        "some_tensor=some_tensor.to(device)"
      ],
      "metadata": {
        "colab": {
          "base_uri": "https://localhost:8080/",
          "height": 280
        },
        "id": "AP7Lv8ZwD05-",
        "outputId": "6187d440-6846-4346-f113-ebc1f93e34a2"
      },
      "execution_count": 42,
      "outputs": [
        {
          "output_type": "error",
          "ename": "RuntimeError",
          "evalue": "Found no NVIDIA driver on your system. Please check that you have an NVIDIA GPU and installed a driver from http://www.nvidia.com/Download/index.aspx",
          "traceback": [
            "\u001b[0;31m---------------------------------------------------------------------------\u001b[0m",
            "\u001b[0;31mRuntimeError\u001b[0m                              Traceback (most recent call last)",
            "\u001b[0;32m<ipython-input-42-b16847f33cef>\u001b[0m in \u001b[0;36m<cell line: 1>\u001b[0;34m()\u001b[0m\n\u001b[0;32m----> 1\u001b[0;31m \u001b[0msome_tensor\u001b[0m\u001b[0;34m=\u001b[0m\u001b[0msome_tensor\u001b[0m\u001b[0;34m.\u001b[0m\u001b[0mto\u001b[0m\u001b[0;34m(\u001b[0m\u001b[0mdevice\u001b[0m\u001b[0;34m)\u001b[0m\u001b[0;34m\u001b[0m\u001b[0;34m\u001b[0m\u001b[0m\n\u001b[0m",
            "\u001b[0;32m/usr/local/lib/python3.10/dist-packages/torch/cuda/__init__.py\u001b[0m in \u001b[0;36m_lazy_init\u001b[0;34m()\u001b[0m\n\u001b[1;32m    300\u001b[0m         \u001b[0;32mif\u001b[0m \u001b[0;34m\"CUDA_MODULE_LOADING\"\u001b[0m \u001b[0;32mnot\u001b[0m \u001b[0;32min\u001b[0m \u001b[0mos\u001b[0m\u001b[0;34m.\u001b[0m\u001b[0menviron\u001b[0m\u001b[0;34m:\u001b[0m\u001b[0;34m\u001b[0m\u001b[0;34m\u001b[0m\u001b[0m\n\u001b[1;32m    301\u001b[0m             \u001b[0mos\u001b[0m\u001b[0;34m.\u001b[0m\u001b[0menviron\u001b[0m\u001b[0;34m[\u001b[0m\u001b[0;34m\"CUDA_MODULE_LOADING\"\u001b[0m\u001b[0;34m]\u001b[0m \u001b[0;34m=\u001b[0m \u001b[0;34m\"LAZY\"\u001b[0m\u001b[0;34m\u001b[0m\u001b[0;34m\u001b[0m\u001b[0m\n\u001b[0;32m--> 302\u001b[0;31m         \u001b[0mtorch\u001b[0m\u001b[0;34m.\u001b[0m\u001b[0m_C\u001b[0m\u001b[0;34m.\u001b[0m\u001b[0m_cuda_init\u001b[0m\u001b[0;34m(\u001b[0m\u001b[0;34m)\u001b[0m\u001b[0;34m\u001b[0m\u001b[0;34m\u001b[0m\u001b[0m\n\u001b[0m\u001b[1;32m    303\u001b[0m         \u001b[0;31m# Some of the queued calls may reentrantly call _lazy_init();\u001b[0m\u001b[0;34m\u001b[0m\u001b[0;34m\u001b[0m\u001b[0m\n\u001b[1;32m    304\u001b[0m         \u001b[0;31m# we need to just return without initializing in that case.\u001b[0m\u001b[0;34m\u001b[0m\u001b[0;34m\u001b[0m\u001b[0m\n",
            "\u001b[0;31mRuntimeError\u001b[0m: Found no NVIDIA driver on your system. Please check that you have an NVIDIA GPU and installed a driver from http://www.nvidia.com/Download/index.aspx"
          ]
        }
      ]
    },
    {
      "cell_type": "code",
      "source": [
        "some_tensor.device"
      ],
      "metadata": {
        "id": "YP9qbAYvD6Mf"
      },
      "execution_count": null,
      "outputs": []
    },
    {
      "cell_type": "code",
      "source": [
        "#matrix multiplocation\n",
        "%%time\n",
        "mat1=torch.tensor([[1,2,3],\n",
        "                   [2,3,4]])\n",
        "mat2=torch.tensor([[2,3,4],\n",
        "                   [3,5,6],\n",
        "                   [43,34,4]])\n",
        "\n",
        "torch.matmul(mat1,mat2)\n"
      ],
      "metadata": {
        "colab": {
          "base_uri": "https://localhost:8080/"
        },
        "id": "UQyiQrImD9Hs",
        "outputId": "6419fcf4-d71a-42a2-bd01-6f192dfc86e6"
      },
      "execution_count": 43,
      "outputs": [
        {
          "output_type": "stream",
          "name": "stdout",
          "text": [
            "CPU times: user 1.46 ms, sys: 0 ns, total: 1.46 ms\n",
            "Wall time: 2.26 ms\n"
          ]
        },
        {
          "output_type": "execute_result",
          "data": {
            "text/plain": [
              "tensor([[137, 115,  28],\n",
              "        [185, 157,  42]])"
            ]
          },
          "metadata": {},
          "execution_count": 43
        }
      ]
    },
    {
      "cell_type": "code",
      "source": [
        "x=torch.arange(1,100,10)\n",
        "x"
      ],
      "metadata": {
        "colab": {
          "base_uri": "https://localhost:8080/"
        },
        "id": "qLfIzutWE646",
        "outputId": "84e15912-7b23-41a3-a72e-4ba2d94cdeb9"
      },
      "execution_count": 44,
      "outputs": [
        {
          "output_type": "execute_result",
          "data": {
            "text/plain": [
              "tensor([ 1, 11, 21, 31, 41, 51, 61, 71, 81, 91])"
            ]
          },
          "metadata": {},
          "execution_count": 44
        }
      ]
    },
    {
      "cell_type": "code",
      "source": [
        "#to find the positon of the min element in the tensor\n",
        "x.argmin()"
      ],
      "metadata": {
        "colab": {
          "base_uri": "https://localhost:8080/"
        },
        "id": "KWArnXq6s7F6",
        "outputId": "852670c3-21fc-4c43-c096-6b5c8c2019c3"
      },
      "execution_count": 49,
      "outputs": [
        {
          "output_type": "execute_result",
          "data": {
            "text/plain": [
              "tensor(0)"
            ]
          },
          "metadata": {},
          "execution_count": 49
        }
      ]
    },
    {
      "cell_type": "code",
      "source": [
        "#to find the positon of the min element in the tensor\n",
        "x.argmax()"
      ],
      "metadata": {
        "colab": {
          "base_uri": "https://localhost:8080/"
        },
        "id": "bNkkAlbBtLyG",
        "outputId": "c765630d-224e-407f-883c-66fc172f3f3c"
      },
      "execution_count": 48,
      "outputs": [
        {
          "output_type": "execute_result",
          "data": {
            "text/plain": [
              "tensor(9)"
            ]
          },
          "metadata": {},
          "execution_count": 48
        }
      ]
    },
    {
      "cell_type": "code",
      "source": [],
      "metadata": {
        "id": "XyJb3C1_-gQx"
      },
      "execution_count": null,
      "outputs": []
    },
    {
      "cell_type": "code",
      "source": [
        "#Stacking :-\n",
        "#1.vstack(verical stack):-it add the second tensor in vericaly\n",
        "\n",
        "tensor1=torch.tensor([[1,2,3,4],\n",
        "                      [5,3,2,1],\n",
        "                      [3,3,2,1]]\n",
        "                     )\n",
        "tensor2=torch.tensor([[2,3,4,5],\n",
        "                      [6,7,7,8],\n",
        "                      [9,3,21,1],\n",
        "                      [2,3,1,3]]\n",
        "                     )\n",
        "torch.vstack((tensor1,tensor2))"
      ],
      "metadata": {
        "colab": {
          "base_uri": "https://localhost:8080/"
        },
        "id": "_e4HX-ZqthKC",
        "outputId": "5c49d21e-e11e-4e73-efb6-1da0d168a879"
      },
      "execution_count": 53,
      "outputs": [
        {
          "output_type": "execute_result",
          "data": {
            "text/plain": [
              "tensor([[ 1,  2,  3,  4],\n",
              "        [ 5,  3,  2,  1],\n",
              "        [ 3,  3,  2,  1],\n",
              "        [ 2,  3,  4,  5],\n",
              "        [ 6,  7,  7,  8],\n",
              "        [ 9,  3, 21,  1],\n",
              "        [ 2,  3,  1,  3]])"
            ]
          },
          "metadata": {},
          "execution_count": 53
        }
      ]
    },
    {
      "cell_type": "code",
      "source": [
        "#Hstack(horizontal stack):-To add the second tensor in the horizontal direction\n",
        "tensor3=torch.tensor([[5,4,3,1],\n",
        "                      [3,4,5,6]])\n",
        "\n",
        "tensor4=torch.tensor([[4,3,5,12],\n",
        "                      [4,5,6,7]])\n",
        "\n",
        "torch.hstack((tensor3,tensor4))"
      ],
      "metadata": {
        "colab": {
          "base_uri": "https://localhost:8080/"
        },
        "id": "vihMMOd2thVa",
        "outputId": "606f5bcc-21d5-44a7-9fc6-c648c50eb117"
      },
      "execution_count": 54,
      "outputs": [
        {
          "output_type": "execute_result",
          "data": {
            "text/plain": [
              "tensor([[ 5,  4,  3,  1,  4,  3,  5, 12],\n",
              "        [ 3,  4,  5,  6,  4,  5,  6,  7]])"
            ]
          },
          "metadata": {},
          "execution_count": 54
        }
      ]
    },
    {
      "cell_type": "code",
      "source": [],
      "metadata": {
        "id": "NYuQh0VGthXp"
      },
      "execution_count": null,
      "outputs": []
    },
    {
      "cell_type": "code",
      "source": [],
      "metadata": {
        "id": "VNyWQeGZthZg"
      },
      "execution_count": null,
      "outputs": []
    },
    {
      "cell_type": "code",
      "source": [],
      "metadata": {
        "id": "kYEhoWUOthbs"
      },
      "execution_count": null,
      "outputs": []
    },
    {
      "cell_type": "code",
      "source": [],
      "metadata": {
        "id": "B3wrK55dtheJ"
      },
      "execution_count": null,
      "outputs": []
    },
    {
      "cell_type": "code",
      "source": [],
      "metadata": {
        "id": "hwuFZsrethgG"
      },
      "execution_count": null,
      "outputs": []
    },
    {
      "cell_type": "code",
      "source": [],
      "metadata": {
        "id": "WYpOnrgMthhx"
      },
      "execution_count": null,
      "outputs": []
    },
    {
      "cell_type": "code",
      "source": [],
      "metadata": {
        "id": "pWz9KePWthk8"
      },
      "execution_count": null,
      "outputs": []
    },
    {
      "cell_type": "code",
      "source": [],
      "metadata": {
        "id": "St9NqhQBtQlW"
      },
      "execution_count": null,
      "outputs": []
    }
  ]
}