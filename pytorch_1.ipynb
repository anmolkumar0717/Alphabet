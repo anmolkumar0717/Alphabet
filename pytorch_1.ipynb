{
  "nbformat": 4,
  "nbformat_minor": 0,
  "metadata": {
    "colab": {
      "provenance": [],
      "authorship_tag": "ABX9TyP3Ao3tn274ZOfM+1y6eD+c",
      "include_colab_link": true
    },
    "kernelspec": {
      "name": "python3",
      "display_name": "Python 3"
    },
    "language_info": {
      "name": "python"
    }
  },
  "cells": [
    {
      "cell_type": "markdown",
      "metadata": {
        "id": "view-in-github",
        "colab_type": "text"
      },
      "source": [
        "<a href=\"https://colab.research.google.com/github/anmolkumar0717/pyTorch/blob/main/pytorch_1.ipynb\" target=\"_parent\"><img src=\"https://colab.research.google.com/assets/colab-badge.svg\" alt=\"Open In Colab\"/></a>"
      ]
    },
    {
      "cell_type": "code",
      "execution_count": 77,
      "metadata": {
        "colab": {
          "base_uri": "https://localhost:8080/"
        },
        "id": "hU4393nd6VEV",
        "outputId": "dc6db059-dccd-4962-ad73-07271261512a"
      },
      "outputs": [
        {
          "output_type": "stream",
          "name": "stdout",
          "text": [
            "hello\n"
          ]
        }
      ],
      "source": [
        "print(\"hello\")"
      ]
    },
    {
      "cell_type": "code",
      "source": [
        "!nvidia-smi\n"
      ],
      "metadata": {
        "colab": {
          "base_uri": "https://localhost:8080/"
        },
        "id": "YTqP9gLN6Y0J",
        "outputId": "56e16190-e82e-4742-cd3a-2c8f14a2b48f"
      },
      "execution_count": 78,
      "outputs": [
        {
          "output_type": "stream",
          "name": "stdout",
          "text": [
            "/bin/bash: line 1: nvidia-smi: command not found\n"
          ]
        }
      ]
    },
    {
      "cell_type": "code",
      "source": [
        "import torch\n",
        "import pandas as pd\n",
        "import matplotlib.pyplot as plt\n",
        "import numpy as np\n",
        "print(torch.__version__)"
      ],
      "metadata": {
        "colab": {
          "base_uri": "https://localhost:8080/"
        },
        "id": "8lWt_QBD7twf",
        "outputId": "79d3cb7f-b6a9-4fa4-e35b-22cc0d3ffb4b"
      },
      "execution_count": 79,
      "outputs": [
        {
          "output_type": "stream",
          "name": "stdout",
          "text": [
            "2.2.1+cu121\n"
          ]
        }
      ]
    },
    {
      "cell_type": "code",
      "source": [
        "#scaler\n",
        "scaler=torch.tensor(7)\n",
        "scaler"
      ],
      "metadata": {
        "colab": {
          "base_uri": "https://localhost:8080/"
        },
        "id": "9TDJg70M9Tld",
        "outputId": "3b590dd6-89ee-4291-b609-37e469716398"
      },
      "execution_count": 80,
      "outputs": [
        {
          "output_type": "execute_result",
          "data": {
            "text/plain": [
              "tensor(7)"
            ]
          },
          "metadata": {},
          "execution_count": 80
        }
      ]
    },
    {
      "cell_type": "code",
      "source": [
        "scaler.ndim"
      ],
      "metadata": {
        "colab": {
          "base_uri": "https://localhost:8080/"
        },
        "id": "xaPjVnsu-vCL",
        "outputId": "bbe30ed2-8724-4ccb-ecc0-b5a79337a0d8"
      },
      "execution_count": 81,
      "outputs": [
        {
          "output_type": "execute_result",
          "data": {
            "text/plain": [
              "0"
            ]
          },
          "metadata": {},
          "execution_count": 81
        }
      ]
    },
    {
      "cell_type": "code",
      "source": [
        "scaler.item()"
      ],
      "metadata": {
        "colab": {
          "base_uri": "https://localhost:8080/"
        },
        "id": "qai1Z6oC_A2H",
        "outputId": "40235cac-82d8-484c-a244-3957f58b990c"
      },
      "execution_count": 82,
      "outputs": [
        {
          "output_type": "execute_result",
          "data": {
            "text/plain": [
              "7"
            ]
          },
          "metadata": {},
          "execution_count": 82
        }
      ]
    },
    {
      "cell_type": "code",
      "source": [
        "#vector\n",
        "\n",
        "vector=torch.tensor([7,7])\n",
        "vector"
      ],
      "metadata": {
        "colab": {
          "base_uri": "https://localhost:8080/"
        },
        "id": "Zyd6tmUb_Njh",
        "outputId": "bc714d78-cd44-4cac-8f44-1441839f0a09"
      },
      "execution_count": 83,
      "outputs": [
        {
          "output_type": "execute_result",
          "data": {
            "text/plain": [
              "tensor([7, 7])"
            ]
          },
          "metadata": {},
          "execution_count": 83
        }
      ]
    },
    {
      "cell_type": "code",
      "source": [
        "vector.ndim"
      ],
      "metadata": {
        "colab": {
          "base_uri": "https://localhost:8080/"
        },
        "id": "k-WMdGbp_jWU",
        "outputId": "269cc7a2-982d-44ec-dfdd-93bcdbe07d0a"
      },
      "execution_count": 84,
      "outputs": [
        {
          "output_type": "execute_result",
          "data": {
            "text/plain": [
              "1"
            ]
          },
          "metadata": {},
          "execution_count": 84
        }
      ]
    },
    {
      "cell_type": "code",
      "source": [
        "vector.shape"
      ],
      "metadata": {
        "colab": {
          "base_uri": "https://localhost:8080/"
        },
        "id": "5Hz8r8aI_m5b",
        "outputId": "68047236-6a2c-4896-fa9c-495eb1e52bcd"
      },
      "execution_count": 85,
      "outputs": [
        {
          "output_type": "execute_result",
          "data": {
            "text/plain": [
              "torch.Size([2])"
            ]
          },
          "metadata": {},
          "execution_count": 85
        }
      ]
    },
    {
      "cell_type": "code",
      "source": [
        "\n",
        "#MATRIX\n",
        "MATRIX=torch.tensor([[7,8],\n",
        "                     [9,10]])\n",
        "MATRIX"
      ],
      "metadata": {
        "colab": {
          "base_uri": "https://localhost:8080/"
        },
        "id": "kXR0jGDf_q6S",
        "outputId": "7cf130a4-5e5b-4b36-8099-8f3e4db17871"
      },
      "execution_count": 86,
      "outputs": [
        {
          "output_type": "execute_result",
          "data": {
            "text/plain": [
              "tensor([[ 7,  8],\n",
              "        [ 9, 10]])"
            ]
          },
          "metadata": {},
          "execution_count": 86
        }
      ]
    },
    {
      "cell_type": "code",
      "source": [
        "MATRIX.shape"
      ],
      "metadata": {
        "colab": {
          "base_uri": "https://localhost:8080/"
        },
        "id": "SxwD133A_6P0",
        "outputId": "7b9bea9e-fadb-4994-cdb8-7e09edafe97d"
      },
      "execution_count": 87,
      "outputs": [
        {
          "output_type": "execute_result",
          "data": {
            "text/plain": [
              "torch.Size([2, 2])"
            ]
          },
          "metadata": {},
          "execution_count": 87
        }
      ]
    },
    {
      "cell_type": "code",
      "source": [
        "MATRIX.ndim"
      ],
      "metadata": {
        "colab": {
          "base_uri": "https://localhost:8080/"
        },
        "id": "Ty4xgDUMAAB9",
        "outputId": "66277c91-0497-413e-8c21-fd04646e5007"
      },
      "execution_count": 88,
      "outputs": [
        {
          "output_type": "execute_result",
          "data": {
            "text/plain": [
              "2"
            ]
          },
          "metadata": {},
          "execution_count": 88
        }
      ]
    },
    {
      "cell_type": "code",
      "source": [
        "#TENSOR\n",
        "TENSOR=torch.tensor([[[1,2,3],\n",
        "                      [3,4,5],\n",
        "                      [3,2,4]]])\n",
        "TENSOR\n"
      ],
      "metadata": {
        "colab": {
          "base_uri": "https://localhost:8080/"
        },
        "id": "WL5lHE_SAIoZ",
        "outputId": "b76b1640-d97b-4861-cae7-bdf5f7cdde76"
      },
      "execution_count": 89,
      "outputs": [
        {
          "output_type": "execute_result",
          "data": {
            "text/plain": [
              "tensor([[[1, 2, 3],\n",
              "         [3, 4, 5],\n",
              "         [3, 2, 4]]])"
            ]
          },
          "metadata": {},
          "execution_count": 89
        }
      ]
    },
    {
      "cell_type": "code",
      "source": [
        "TENSOR.shape\n"
      ],
      "metadata": {
        "colab": {
          "base_uri": "https://localhost:8080/"
        },
        "id": "N2PVp6WLA2qF",
        "outputId": "9ae922d1-2672-4576-9454-502eba0b2a7e"
      },
      "execution_count": 90,
      "outputs": [
        {
          "output_type": "execute_result",
          "data": {
            "text/plain": [
              "torch.Size([1, 3, 3])"
            ]
          },
          "metadata": {},
          "execution_count": 90
        }
      ]
    },
    {
      "cell_type": "code",
      "source": [
        "a=torch.tensor([[[[[[[[[[[[[1,2,3,4],\n",
        " [8,9,9,8]]]]]]]]]]]]])\n",
        "a"
      ],
      "metadata": {
        "colab": {
          "base_uri": "https://localhost:8080/"
        },
        "id": "40NBqtliA7wo",
        "outputId": "8478ad31-9965-4e62-fbb4-11a72034a393"
      },
      "execution_count": 91,
      "outputs": [
        {
          "output_type": "execute_result",
          "data": {
            "text/plain": [
              "tensor([[[[[[[[[[[[[1, 2, 3, 4],\n",
              "                   [8, 9, 9, 8]]]]]]]]]]]]])"
            ]
          },
          "metadata": {},
          "execution_count": 91
        }
      ]
    },
    {
      "cell_type": "code",
      "source": [
        "a.shape\n"
      ],
      "metadata": {
        "colab": {
          "base_uri": "https://localhost:8080/"
        },
        "id": "-SLdiom6Bi9c",
        "outputId": "fc93f82a-58ea-428b-9962-9b1eddc5432f"
      },
      "execution_count": 92,
      "outputs": [
        {
          "output_type": "execute_result",
          "data": {
            "text/plain": [
              "torch.Size([1, 1, 1, 1, 1, 1, 1, 1, 1, 1, 1, 2, 4])"
            ]
          },
          "metadata": {},
          "execution_count": 92
        }
      ]
    },
    {
      "cell_type": "code",
      "source": [
        "a.ndim"
      ],
      "metadata": {
        "colab": {
          "base_uri": "https://localhost:8080/"
        },
        "id": "QaNXG4XiCU-m",
        "outputId": "9175d0e4-ac39-4dc5-e4c1-0acd2319f443"
      },
      "execution_count": 93,
      "outputs": [
        {
          "output_type": "execute_result",
          "data": {
            "text/plain": [
              "13"
            ]
          },
          "metadata": {},
          "execution_count": 93
        }
      ]
    },
    {
      "cell_type": "markdown",
      "source": [
        "### Create a random tensor"
      ],
      "metadata": {
        "id": "vq8JUbCaCyy2"
      }
    },
    {
      "cell_type": "code",
      "source": [
        "random_tensor=torch.rand(3,4)\n",
        "random_tensor"
      ],
      "metadata": {
        "colab": {
          "base_uri": "https://localhost:8080/"
        },
        "id": "-7ai0SB10HRD",
        "outputId": "0a95315b-15cc-4f23-bbcb-535bdec54c28"
      },
      "execution_count": 94,
      "outputs": [
        {
          "output_type": "execute_result",
          "data": {
            "text/plain": [
              "tensor([[0.1499, 0.0652, 0.5901, 0.2584],\n",
              "        [0.0911, 0.5484, 0.1068, 0.3594],\n",
              "        [0.9693, 0.3671, 0.1273, 0.7978]])"
            ]
          },
          "metadata": {},
          "execution_count": 94
        }
      ]
    },
    {
      "cell_type": "code",
      "source": [
        "# create a randome tensor with similar shape to an image tensor\n",
        "randome_image_size_tensor=torch.rand(size=(3,224,224))\n",
        "print(randome_image_size_tensor.shape,\"dimension = \",randome_image_size_tensor.ndim)"
      ],
      "metadata": {
        "colab": {
          "base_uri": "https://localhost:8080/"
        },
        "id": "Q7bAG8IZz30z",
        "outputId": "a21700ad-5869-4fda-c08c-853835ef88b9"
      },
      "execution_count": 95,
      "outputs": [
        {
          "output_type": "stream",
          "name": "stdout",
          "text": [
            "torch.Size([3, 224, 224]) dimension =  3\n"
          ]
        }
      ]
    },
    {
      "cell_type": "code",
      "source": [
        "random_tensor1=torch.rand(3,4,3)\n",
        "print(random_tensor1)\n",
        "print(random_tensor1.ndim)"
      ],
      "metadata": {
        "colab": {
          "base_uri": "https://localhost:8080/"
        },
        "id": "WWES4_eV149_",
        "outputId": "862b69d6-748c-425f-ffdd-ace4e54e3688"
      },
      "execution_count": 96,
      "outputs": [
        {
          "output_type": "stream",
          "name": "stdout",
          "text": [
            "tensor([[[0.3476, 0.2838, 0.8584],\n",
            "         [0.3513, 0.7813, 0.2531],\n",
            "         [0.3571, 0.2523, 0.9531],\n",
            "         [0.4362, 0.6242, 0.0281]],\n",
            "\n",
            "        [[0.2348, 0.4071, 0.8446],\n",
            "         [0.2554, 0.0972, 0.2751],\n",
            "         [0.0640, 0.2022, 0.4571],\n",
            "         [0.2307, 0.1363, 0.7514]],\n",
            "\n",
            "        [[0.1359, 0.6515, 0.0773],\n",
            "         [0.7275, 0.8269, 0.4231],\n",
            "         [0.1474, 0.0798, 0.8431],\n",
            "         [0.4616, 0.3638, 0.3426]]])\n",
            "3\n"
          ]
        }
      ]
    },
    {
      "cell_type": "markdown",
      "source": [
        "### Zeros and Ones Tensor"
      ],
      "metadata": {
        "id": "ZiXu14-d6KmF"
      }
    },
    {
      "cell_type": "code",
      "source": [
        "zeros=torch.zeros(size=(4,3))\n",
        "zeros"
      ],
      "metadata": {
        "colab": {
          "base_uri": "https://localhost:8080/"
        },
        "id": "jJ-RxLRA2jQa",
        "outputId": "20739924-819f-4fd0-a4d5-31e57b5652d4"
      },
      "execution_count": 97,
      "outputs": [
        {
          "output_type": "execute_result",
          "data": {
            "text/plain": [
              "tensor([[0., 0., 0.],\n",
              "        [0., 0., 0.],\n",
              "        [0., 0., 0.],\n",
              "        [0., 0., 0.]])"
            ]
          },
          "metadata": {},
          "execution_count": 97
        }
      ]
    },
    {
      "cell_type": "code",
      "source": [
        "zeros*random_tensor1"
      ],
      "metadata": {
        "colab": {
          "base_uri": "https://localhost:8080/"
        },
        "id": "IVpS3vva6jhh",
        "outputId": "78a5b853-df73-4543-9a4b-0686884ddbb4"
      },
      "execution_count": 98,
      "outputs": [
        {
          "output_type": "execute_result",
          "data": {
            "text/plain": [
              "tensor([[[0., 0., 0.],\n",
              "         [0., 0., 0.],\n",
              "         [0., 0., 0.],\n",
              "         [0., 0., 0.]],\n",
              "\n",
              "        [[0., 0., 0.],\n",
              "         [0., 0., 0.],\n",
              "         [0., 0., 0.],\n",
              "         [0., 0., 0.]],\n",
              "\n",
              "        [[0., 0., 0.],\n",
              "         [0., 0., 0.],\n",
              "         [0., 0., 0.],\n",
              "         [0., 0., 0.]]])"
            ]
          },
          "metadata": {},
          "execution_count": 98
        }
      ]
    },
    {
      "cell_type": "code",
      "source": [
        "#creating a tensor of all ones\n",
        "ones=torch.ones(size=(3,3,2,3,4))\n",
        "ones"
      ],
      "metadata": {
        "colab": {
          "base_uri": "https://localhost:8080/"
        },
        "id": "S8yZFO1G6vp3",
        "outputId": "4f879c9b-b9d8-4ed0-fafa-a9b4b3c39c82"
      },
      "execution_count": 99,
      "outputs": [
        {
          "output_type": "execute_result",
          "data": {
            "text/plain": [
              "tensor([[[[[1., 1., 1., 1.],\n",
              "           [1., 1., 1., 1.],\n",
              "           [1., 1., 1., 1.]],\n",
              "\n",
              "          [[1., 1., 1., 1.],\n",
              "           [1., 1., 1., 1.],\n",
              "           [1., 1., 1., 1.]]],\n",
              "\n",
              "\n",
              "         [[[1., 1., 1., 1.],\n",
              "           [1., 1., 1., 1.],\n",
              "           [1., 1., 1., 1.]],\n",
              "\n",
              "          [[1., 1., 1., 1.],\n",
              "           [1., 1., 1., 1.],\n",
              "           [1., 1., 1., 1.]]],\n",
              "\n",
              "\n",
              "         [[[1., 1., 1., 1.],\n",
              "           [1., 1., 1., 1.],\n",
              "           [1., 1., 1., 1.]],\n",
              "\n",
              "          [[1., 1., 1., 1.],\n",
              "           [1., 1., 1., 1.],\n",
              "           [1., 1., 1., 1.]]]],\n",
              "\n",
              "\n",
              "\n",
              "        [[[[1., 1., 1., 1.],\n",
              "           [1., 1., 1., 1.],\n",
              "           [1., 1., 1., 1.]],\n",
              "\n",
              "          [[1., 1., 1., 1.],\n",
              "           [1., 1., 1., 1.],\n",
              "           [1., 1., 1., 1.]]],\n",
              "\n",
              "\n",
              "         [[[1., 1., 1., 1.],\n",
              "           [1., 1., 1., 1.],\n",
              "           [1., 1., 1., 1.]],\n",
              "\n",
              "          [[1., 1., 1., 1.],\n",
              "           [1., 1., 1., 1.],\n",
              "           [1., 1., 1., 1.]]],\n",
              "\n",
              "\n",
              "         [[[1., 1., 1., 1.],\n",
              "           [1., 1., 1., 1.],\n",
              "           [1., 1., 1., 1.]],\n",
              "\n",
              "          [[1., 1., 1., 1.],\n",
              "           [1., 1., 1., 1.],\n",
              "           [1., 1., 1., 1.]]]],\n",
              "\n",
              "\n",
              "\n",
              "        [[[[1., 1., 1., 1.],\n",
              "           [1., 1., 1., 1.],\n",
              "           [1., 1., 1., 1.]],\n",
              "\n",
              "          [[1., 1., 1., 1.],\n",
              "           [1., 1., 1., 1.],\n",
              "           [1., 1., 1., 1.]]],\n",
              "\n",
              "\n",
              "         [[[1., 1., 1., 1.],\n",
              "           [1., 1., 1., 1.],\n",
              "           [1., 1., 1., 1.]],\n",
              "\n",
              "          [[1., 1., 1., 1.],\n",
              "           [1., 1., 1., 1.],\n",
              "           [1., 1., 1., 1.]]],\n",
              "\n",
              "\n",
              "         [[[1., 1., 1., 1.],\n",
              "           [1., 1., 1., 1.],\n",
              "           [1., 1., 1., 1.]],\n",
              "\n",
              "          [[1., 1., 1., 1.],\n",
              "           [1., 1., 1., 1.],\n",
              "           [1., 1., 1., 1.]]]]])"
            ]
          },
          "metadata": {},
          "execution_count": 99
        }
      ]
    },
    {
      "cell_type": "code",
      "source": [
        "ones.dtype"
      ],
      "metadata": {
        "colab": {
          "base_uri": "https://localhost:8080/"
        },
        "id": "qsQn7R9a7GKp",
        "outputId": "26f25680-a651-4dba-e030-93ed3bad071d"
      },
      "execution_count": 100,
      "outputs": [
        {
          "output_type": "execute_result",
          "data": {
            "text/plain": [
              "torch.float32"
            ]
          },
          "metadata": {},
          "execution_count": 100
        }
      ]
    },
    {
      "cell_type": "markdown",
      "source": [
        "### creating a range of ternsors and tensor_like"
      ],
      "metadata": {
        "id": "QrgAlCpe7I-y"
      }
    },
    {
      "cell_type": "code",
      "source": [
        "#use torch .rande()\n",
        "one_2_ten=torch.arange(2,11,3)\n",
        "one_2_ten"
      ],
      "metadata": {
        "colab": {
          "base_uri": "https://localhost:8080/"
        },
        "id": "qVZaWIyb8pK6",
        "outputId": "dea1ecd1-903c-4fda-f018-f3809ab1e091"
      },
      "execution_count": 101,
      "outputs": [
        {
          "output_type": "execute_result",
          "data": {
            "text/plain": [
              "tensor([2, 5, 8])"
            ]
          },
          "metadata": {},
          "execution_count": 101
        }
      ]
    },
    {
      "cell_type": "code",
      "source": [
        "#creating tensors like\n",
        "\n",
        "ten_zeros=torch.zeros_like(input=one_2_ten)\n",
        "ten_zeros"
      ],
      "metadata": {
        "colab": {
          "base_uri": "https://localhost:8080/"
        },
        "id": "l0ZrHEJf8o8j",
        "outputId": "01e176be-05b9-47a6-86c8-dc35fdcbc1fc"
      },
      "execution_count": 102,
      "outputs": [
        {
          "output_type": "execute_result",
          "data": {
            "text/plain": [
              "tensor([0, 0, 0])"
            ]
          },
          "metadata": {},
          "execution_count": 102
        }
      ]
    },
    {
      "cell_type": "code",
      "source": [
        "ten_one=torch.ones_like(input=ten_zeros)\n",
        "ten_one"
      ],
      "metadata": {
        "colab": {
          "base_uri": "https://localhost:8080/"
        },
        "id": "FbYNhzdb9sfD",
        "outputId": "dbf71d48-e34f-4ed1-d4b9-72fd95e8e1ef"
      },
      "execution_count": 103,
      "outputs": [
        {
          "output_type": "execute_result",
          "data": {
            "text/plain": [
              "tensor([1, 1, 1])"
            ]
          },
          "metadata": {},
          "execution_count": 103
        }
      ]
    },
    {
      "cell_type": "markdown",
      "source": [
        "### tensor Data type"
      ],
      "metadata": {
        "id": "RAc8S0WF-Dyj"
      }
    },
    {
      "cell_type": "code",
      "source": [
        "#float 32 tensor\n",
        "float_32_tensor=torch.tensor([1,2,3,3,423],\n",
        "                             dtype=torch.float16,\n",
        "                             device=\"cpu\",\n",
        "                             requires_grad=False)\n",
        "float_32_tensor"
      ],
      "metadata": {
        "colab": {
          "base_uri": "https://localhost:8080/"
        },
        "id": "r40mAzUi-zQS",
        "outputId": "2361cbd4-cd22-4cf0-db5b-0d7b0756fe15"
      },
      "execution_count": 104,
      "outputs": [
        {
          "output_type": "execute_result",
          "data": {
            "text/plain": [
              "tensor([  1.,   2.,   3.,   3., 423.], dtype=torch.float16)"
            ]
          },
          "metadata": {},
          "execution_count": 104
        }
      ]
    },
    {
      "cell_type": "code",
      "source": [
        "unsinged_integer=torch.tensor([1,2,3,4,5,67,8],\n",
        "                              dtype=torch.uint8,\n",
        "                              device='cpu',\n",
        "                              requires_grad=False)\n",
        "unsinged_integer"
      ],
      "metadata": {
        "colab": {
          "base_uri": "https://localhost:8080/"
        },
        "id": "ob_x6cOM-z8j",
        "outputId": "7c8045e9-7290-4c12-e62b-b548c85bb491"
      },
      "execution_count": 105,
      "outputs": [
        {
          "output_type": "execute_result",
          "data": {
            "text/plain": [
              "tensor([ 1,  2,  3,  4,  5, 67,  8], dtype=torch.uint8)"
            ]
          },
          "metadata": {},
          "execution_count": 105
        }
      ]
    },
    {
      "cell_type": "code",
      "source": [
        "unsinged_integer.dtype"
      ],
      "metadata": {
        "colab": {
          "base_uri": "https://localhost:8080/"
        },
        "id": "3Bqane7k-z5N",
        "outputId": "ab5846a1-c06a-4d7f-f4cf-fa7c26a1531c"
      },
      "execution_count": 106,
      "outputs": [
        {
          "output_type": "execute_result",
          "data": {
            "text/plain": [
              "torch.uint8"
            ]
          },
          "metadata": {},
          "execution_count": 106
        }
      ]
    },
    {
      "cell_type": "code",
      "source": [
        "one_ten=torch.ones_like(input=torch.arange(0,10))\n",
        "one_ten"
      ],
      "metadata": {
        "id": "lHGG_mcOC95a",
        "colab": {
          "base_uri": "https://localhost:8080/"
        },
        "outputId": "61477ddc-991c-4cee-f4f7-cfbce57f0bab"
      },
      "execution_count": 107,
      "outputs": [
        {
          "output_type": "execute_result",
          "data": {
            "text/plain": [
              "tensor([1, 1, 1, 1, 1, 1, 1, 1, 1, 1])"
            ]
          },
          "metadata": {},
          "execution_count": 107
        }
      ]
    },
    {
      "cell_type": "code",
      "source": [
        "tensor_16_float=torch.tensor([1,2,32,430],\n",
        "                            dtype=torch.float16,\n",
        "                            device=None,\n",
        "                            requires_grad=False\n",
        "                            )"
      ],
      "metadata": {
        "id": "_UYmMv0l5UYF"
      },
      "execution_count": 108,
      "outputs": []
    },
    {
      "cell_type": "code",
      "source": [
        "tensor_32_float=torch.tensor([1,2,32,430],\n",
        "                            dtype=torch.float32,\n",
        "                            device=None,\n",
        "                            requires_grad=False\n",
        "                            )"
      ],
      "metadata": {
        "id": "mg3KvdIm5UfZ"
      },
      "execution_count": 109,
      "outputs": []
    },
    {
      "cell_type": "code",
      "source": [
        "tensor_16_float*tensor_32_float"
      ],
      "metadata": {
        "colab": {
          "base_uri": "https://localhost:8080/"
        },
        "id": "ZjFHofc65Uh2",
        "outputId": "caa51601-4745-45f5-b685-ea2093040597"
      },
      "execution_count": 110,
      "outputs": [
        {
          "output_type": "execute_result",
          "data": {
            "text/plain": [
              "tensor([1.0000e+00, 4.0000e+00, 1.0240e+03, 1.8490e+05])"
            ]
          },
          "metadata": {},
          "execution_count": 110
        }
      ]
    },
    {
      "cell_type": "code",
      "source": [
        "integer_tensor=torch.tensor([1,23,2,212],\n",
        "                            dtype=torch.int32)"
      ],
      "metadata": {
        "id": "SPtKHQSy5UkQ"
      },
      "execution_count": 111,
      "outputs": []
    },
    {
      "cell_type": "code",
      "source": [
        "integer_tensor*tensor_16_float"
      ],
      "metadata": {
        "colab": {
          "base_uri": "https://localhost:8080/"
        },
        "id": "bwInU3Ks5Umm",
        "outputId": "1769a269-ed28-4e60-fec0-1a7986c38c0d"
      },
      "execution_count": 112,
      "outputs": [
        {
          "output_type": "execute_result",
          "data": {
            "text/plain": [
              "tensor([ 1., 46., 64., inf], dtype=torch.float16)"
            ]
          },
          "metadata": {},
          "execution_count": 112
        }
      ]
    },
    {
      "cell_type": "code",
      "source": [
        "some_tensor=torch.rand(3,4)\n",
        "some_tensor"
      ],
      "metadata": {
        "colab": {
          "base_uri": "https://localhost:8080/"
        },
        "id": "9rfdLh5K5UoY",
        "outputId": "ed099966-638c-4060-954d-8953d494cd4e"
      },
      "execution_count": 113,
      "outputs": [
        {
          "output_type": "execute_result",
          "data": {
            "text/plain": [
              "tensor([[0.7643, 0.5652, 0.2361, 0.3836],\n",
              "        [0.1558, 0.6647, 0.7986, 0.9949],\n",
              "        [0.2127, 0.3801, 0.7587, 0.5678]])"
            ]
          },
          "metadata": {},
          "execution_count": 113
        }
      ]
    },
    {
      "cell_type": "code",
      "source": [
        "some_tensor=some_tensor.type(torch.float16)"
      ],
      "metadata": {
        "id": "Vh56VI9-5Uqe"
      },
      "execution_count": 114,
      "outputs": []
    },
    {
      "cell_type": "code",
      "source": [
        "print(f\"Data Type of the tensor is:-{some_tensor.dtype}\")\n",
        "print(f\"Device of the Tensor is :-{some_tensor.device}\")\n",
        "print(f\"Size of the tensor:-{some_tensor.size()}\")\n",
        "print(f\"Dimension of the tensor is:-{some_tensor.ndim}\")"
      ],
      "metadata": {
        "colab": {
          "base_uri": "https://localhost:8080/"
        },
        "id": "W3d-4gTl5UtS",
        "outputId": "8389a9fd-27a9-4355-83f1-5835de3ce053"
      },
      "execution_count": 115,
      "outputs": [
        {
          "output_type": "stream",
          "name": "stdout",
          "text": [
            "Data Type of the tensor is:-torch.float16\n",
            "Device of the Tensor is :-cpu\n",
            "Size of the tensor:-torch.Size([3, 4])\n",
            "Dimension of the tensor is:-2\n"
          ]
        }
      ]
    },
    {
      "cell_type": "code",
      "source": [
        "device=torch.device(\"cuda\")"
      ],
      "metadata": {
        "id": "UzNnYNGy5UwT"
      },
      "execution_count": 116,
      "outputs": []
    },
    {
      "cell_type": "code",
      "source": [
        "#error because we are using cpu insted of gpu \"cuda is a gpu device not a cpu device\"\n",
        "\n",
        "some_tensor=some_tensor.to(device)"
      ],
      "metadata": {
        "colab": {
          "base_uri": "https://localhost:8080/",
          "height": 315
        },
        "id": "AP7Lv8ZwD05-",
        "outputId": "8625c502-5ec1-498c-8cb0-b84e33fce330"
      },
      "execution_count": 117,
      "outputs": [
        {
          "output_type": "error",
          "ename": "RuntimeError",
          "evalue": "Found no NVIDIA driver on your system. Please check that you have an NVIDIA GPU and installed a driver from http://www.nvidia.com/Download/index.aspx",
          "traceback": [
            "\u001b[0;31m---------------------------------------------------------------------------\u001b[0m",
            "\u001b[0;31mRuntimeError\u001b[0m                              Traceback (most recent call last)",
            "\u001b[0;32m<ipython-input-117-f3b3abca3fe8>\u001b[0m in \u001b[0;36m<cell line: 3>\u001b[0;34m()\u001b[0m\n\u001b[1;32m      1\u001b[0m \u001b[0;31m#error because we are using cpu insted of gpu \"cuda is a gpu device not a cpu device\"\u001b[0m\u001b[0;34m\u001b[0m\u001b[0;34m\u001b[0m\u001b[0m\n\u001b[1;32m      2\u001b[0m \u001b[0;34m\u001b[0m\u001b[0m\n\u001b[0;32m----> 3\u001b[0;31m \u001b[0msome_tensor\u001b[0m\u001b[0;34m=\u001b[0m\u001b[0msome_tensor\u001b[0m\u001b[0;34m.\u001b[0m\u001b[0mto\u001b[0m\u001b[0;34m(\u001b[0m\u001b[0mdevice\u001b[0m\u001b[0;34m)\u001b[0m\u001b[0;34m\u001b[0m\u001b[0;34m\u001b[0m\u001b[0m\n\u001b[0m",
            "\u001b[0;32m/usr/local/lib/python3.10/dist-packages/torch/cuda/__init__.py\u001b[0m in \u001b[0;36m_lazy_init\u001b[0;34m()\u001b[0m\n\u001b[1;32m    300\u001b[0m         \u001b[0;32mif\u001b[0m \u001b[0;34m\"CUDA_MODULE_LOADING\"\u001b[0m \u001b[0;32mnot\u001b[0m \u001b[0;32min\u001b[0m \u001b[0mos\u001b[0m\u001b[0;34m.\u001b[0m\u001b[0menviron\u001b[0m\u001b[0;34m:\u001b[0m\u001b[0;34m\u001b[0m\u001b[0;34m\u001b[0m\u001b[0m\n\u001b[1;32m    301\u001b[0m             \u001b[0mos\u001b[0m\u001b[0;34m.\u001b[0m\u001b[0menviron\u001b[0m\u001b[0;34m[\u001b[0m\u001b[0;34m\"CUDA_MODULE_LOADING\"\u001b[0m\u001b[0;34m]\u001b[0m \u001b[0;34m=\u001b[0m \u001b[0;34m\"LAZY\"\u001b[0m\u001b[0;34m\u001b[0m\u001b[0;34m\u001b[0m\u001b[0m\n\u001b[0;32m--> 302\u001b[0;31m         \u001b[0mtorch\u001b[0m\u001b[0;34m.\u001b[0m\u001b[0m_C\u001b[0m\u001b[0;34m.\u001b[0m\u001b[0m_cuda_init\u001b[0m\u001b[0;34m(\u001b[0m\u001b[0;34m)\u001b[0m\u001b[0;34m\u001b[0m\u001b[0;34m\u001b[0m\u001b[0m\n\u001b[0m\u001b[1;32m    303\u001b[0m         \u001b[0;31m# Some of the queued calls may reentrantly call _lazy_init();\u001b[0m\u001b[0;34m\u001b[0m\u001b[0;34m\u001b[0m\u001b[0m\n\u001b[1;32m    304\u001b[0m         \u001b[0;31m# we need to just return without initializing in that case.\u001b[0m\u001b[0;34m\u001b[0m\u001b[0;34m\u001b[0m\u001b[0m\n",
            "\u001b[0;31mRuntimeError\u001b[0m: Found no NVIDIA driver on your system. Please check that you have an NVIDIA GPU and installed a driver from http://www.nvidia.com/Download/index.aspx"
          ]
        }
      ]
    },
    {
      "cell_type": "code",
      "source": [
        "some_tensor.device"
      ],
      "metadata": {
        "id": "YP9qbAYvD6Mf",
        "colab": {
          "base_uri": "https://localhost:8080/"
        },
        "outputId": "59f0d6d0-a696-4052-ac07-35b6be2a225e"
      },
      "execution_count": 118,
      "outputs": [
        {
          "output_type": "execute_result",
          "data": {
            "text/plain": [
              "device(type='cpu')"
            ]
          },
          "metadata": {},
          "execution_count": 118
        }
      ]
    },
    {
      "cell_type": "code",
      "source": [
        "#matrix multiplocation\n",
        "%%time\n",
        "mat1=torch.tensor([[1,2,3],\n",
        "                   [2,3,4]])\n",
        "mat2=torch.tensor([[2,3,4],\n",
        "                   [3,5,6],\n",
        "                   [43,34,4]])\n",
        "\n",
        "torch.matmul(mat1,mat2)\n"
      ],
      "metadata": {
        "colab": {
          "base_uri": "https://localhost:8080/"
        },
        "id": "UQyiQrImD9Hs",
        "outputId": "6343f150-b036-486b-e086-3d931b2c3ed4"
      },
      "execution_count": 119,
      "outputs": [
        {
          "output_type": "stream",
          "name": "stdout",
          "text": [
            "CPU times: user 1.29 ms, sys: 0 ns, total: 1.29 ms\n",
            "Wall time: 1.2 ms\n"
          ]
        },
        {
          "output_type": "execute_result",
          "data": {
            "text/plain": [
              "tensor([[137, 115,  28],\n",
              "        [185, 157,  42]])"
            ]
          },
          "metadata": {},
          "execution_count": 119
        }
      ]
    },
    {
      "cell_type": "code",
      "source": [
        "x=torch.arange(1,100,10)\n",
        "x"
      ],
      "metadata": {
        "colab": {
          "base_uri": "https://localhost:8080/"
        },
        "id": "qLfIzutWE646",
        "outputId": "0247264f-4e34-4211-ea3a-43ecf3bb0c58"
      },
      "execution_count": 120,
      "outputs": [
        {
          "output_type": "execute_result",
          "data": {
            "text/plain": [
              "tensor([ 1, 11, 21, 31, 41, 51, 61, 71, 81, 91])"
            ]
          },
          "metadata": {},
          "execution_count": 120
        }
      ]
    },
    {
      "cell_type": "code",
      "source": [
        "#to find the positon of the min element in the tensor\n",
        "x.argmin()"
      ],
      "metadata": {
        "colab": {
          "base_uri": "https://localhost:8080/"
        },
        "id": "KWArnXq6s7F6",
        "outputId": "3bc06f6e-7c5e-4873-c38b-0dff49953761"
      },
      "execution_count": 121,
      "outputs": [
        {
          "output_type": "execute_result",
          "data": {
            "text/plain": [
              "tensor(0)"
            ]
          },
          "metadata": {},
          "execution_count": 121
        }
      ]
    },
    {
      "cell_type": "code",
      "source": [
        "#to find the positon of the min element in the tensor\n",
        "x.argmax()"
      ],
      "metadata": {
        "colab": {
          "base_uri": "https://localhost:8080/"
        },
        "id": "bNkkAlbBtLyG",
        "outputId": "d5ad6a1b-0823-47ba-e9ad-6176e801c3d1"
      },
      "execution_count": 122,
      "outputs": [
        {
          "output_type": "execute_result",
          "data": {
            "text/plain": [
              "tensor(9)"
            ]
          },
          "metadata": {},
          "execution_count": 122
        }
      ]
    },
    {
      "cell_type": "code",
      "source": [
        "#respahing the tensor\n",
        "\n",
        "#we have to take care about the dimension.when we change the shape we have to take care about its number of the elements\n",
        "\n",
        "import torch\n",
        "x=torch.arange(0.,24.)\n",
        "print(x,x.shape)"
      ],
      "metadata": {
        "colab": {
          "base_uri": "https://localhost:8080/"
        },
        "id": "XyJb3C1_-gQx",
        "outputId": "9808a308-ed95-4d5c-a4b3-516be6028d1d"
      },
      "execution_count": 123,
      "outputs": [
        {
          "output_type": "stream",
          "name": "stdout",
          "text": [
            "tensor([ 0.,  1.,  2.,  3.,  4.,  5.,  6.,  7.,  8.,  9., 10., 11., 12., 13.,\n",
            "        14., 15., 16., 17., 18., 19., 20., 21., 22., 23.]) torch.Size([24])\n"
          ]
        }
      ]
    },
    {
      "cell_type": "code",
      "source": [
        "#respahing the tensor\n",
        "x_reshaped=x.reshape(2,2,6)\n",
        "x_reshaped"
      ],
      "metadata": {
        "colab": {
          "base_uri": "https://localhost:8080/"
        },
        "id": "Uc4ZV3p2NkmA",
        "outputId": "0a1ab18d-a6dc-4673-c362-5f1cd7f1d030"
      },
      "execution_count": 124,
      "outputs": [
        {
          "output_type": "execute_result",
          "data": {
            "text/plain": [
              "tensor([[[ 0.,  1.,  2.,  3.,  4.,  5.],\n",
              "         [ 6.,  7.,  8.,  9., 10., 11.]],\n",
              "\n",
              "        [[12., 13., 14., 15., 16., 17.],\n",
              "         [18., 19., 20., 21., 22., 23.]]])"
            ]
          },
          "metadata": {},
          "execution_count": 124
        }
      ]
    },
    {
      "cell_type": "code",
      "source": [
        "#Changing the view\n",
        "\n",
        "#it can't change the orignal\n",
        "\n",
        "#if we changes z then x will changes because views shares same memory with the original tensor\n",
        "\n",
        "z=x.view(2,6,2)\n",
        "print(z)"
      ],
      "metadata": {
        "colab": {
          "base_uri": "https://localhost:8080/"
        },
        "id": "KaAFkCfFPhix",
        "outputId": "087054bc-accb-4f82-af6e-746ad59407e2"
      },
      "execution_count": 125,
      "outputs": [
        {
          "output_type": "stream",
          "name": "stdout",
          "text": [
            "tensor([[[ 0.,  1.],\n",
            "         [ 2.,  3.],\n",
            "         [ 4.,  5.],\n",
            "         [ 6.,  7.],\n",
            "         [ 8.,  9.],\n",
            "         [10., 11.]],\n",
            "\n",
            "        [[12., 13.],\n",
            "         [14., 15.],\n",
            "         [16., 17.],\n",
            "         [18., 19.],\n",
            "         [20., 21.],\n",
            "         [22., 23.]]])\n"
          ]
        }
      ]
    },
    {
      "cell_type": "code",
      "source": [
        "#here we changes the value of z and we observe that the memory of x automatically changes.\n",
        "#they share same memory thats why when we change the monory of z ,x(original memory var) value also changes.\n",
        "\n",
        "z[0][0][1]=9\n",
        "print(x)"
      ],
      "metadata": {
        "id": "r7MhzGy8Phyb",
        "colab": {
          "base_uri": "https://localhost:8080/"
        },
        "outputId": "ee51360e-097b-4aa9-9332-0a3782f399ba"
      },
      "execution_count": 126,
      "outputs": [
        {
          "output_type": "stream",
          "name": "stdout",
          "text": [
            "tensor([ 0.,  9.,  2.,  3.,  4.,  5.,  6.,  7.,  8.,  9., 10., 11., 12., 13.,\n",
            "        14., 15., 16., 17., 18., 19., 20., 21., 22., 23.])\n"
          ]
        }
      ]
    },
    {
      "cell_type": "code",
      "source": [
        "#stack tensor on the top of each other\n",
        "new_x=torch.tensor([[1,2,3],\n",
        "                    [3,45,6],\n",
        "                    [4,3,5]])\n",
        "\n",
        "new_x.ndim"
      ],
      "metadata": {
        "id": "fSA376BtRGAO",
        "colab": {
          "base_uri": "https://localhost:8080/"
        },
        "outputId": "529a7745-e926-46b3-cd72-1daaa2cf91c6"
      },
      "execution_count": 127,
      "outputs": [
        {
          "output_type": "execute_result",
          "data": {
            "text/plain": [
              "2"
            ]
          },
          "metadata": {},
          "execution_count": 127
        }
      ]
    },
    {
      "cell_type": "code",
      "source": [
        "new_x_stacked=torch.stack([new_x],dim=-2)\n",
        "new_x_stacked"
      ],
      "metadata": {
        "id": "nfk4E88lRGLV",
        "colab": {
          "base_uri": "https://localhost:8080/"
        },
        "outputId": "6aa943a0-bb23-4d93-d13c-82ecf949edca"
      },
      "execution_count": 128,
      "outputs": [
        {
          "output_type": "execute_result",
          "data": {
            "text/plain": [
              "tensor([[[ 1,  2,  3]],\n",
              "\n",
              "        [[ 3, 45,  6]],\n",
              "\n",
              "        [[ 4,  3,  5]]])"
            ]
          },
          "metadata": {},
          "execution_count": 128
        }
      ]
    },
    {
      "cell_type": "code",
      "source": [
        "#Stacking :-\n",
        "#1.vstack(verical stack):-it add the second tensor in vericaly\n",
        "\n",
        "tensor1=torch.tensor([[1,2,3,4],\n",
        "                      [5,3,2,1],\n",
        "                      [3,3,2,1]]\n",
        "                     )\n",
        "tensor2=torch.tensor([[2,3,4,5],\n",
        "                      [6,7,7,8],\n",
        "                      [9,3,21,1],\n",
        "                      [2,3,1,3]]\n",
        "                     )\n",
        "torch.vstack((tensor1,tensor2))"
      ],
      "metadata": {
        "id": "_e4HX-ZqthKC",
        "colab": {
          "base_uri": "https://localhost:8080/"
        },
        "outputId": "bd6eba83-6417-46eb-b3f3-d7d2cad70246"
      },
      "execution_count": 129,
      "outputs": [
        {
          "output_type": "execute_result",
          "data": {
            "text/plain": [
              "tensor([[ 1,  2,  3,  4],\n",
              "        [ 5,  3,  2,  1],\n",
              "        [ 3,  3,  2,  1],\n",
              "        [ 2,  3,  4,  5],\n",
              "        [ 6,  7,  7,  8],\n",
              "        [ 9,  3, 21,  1],\n",
              "        [ 2,  3,  1,  3]])"
            ]
          },
          "metadata": {},
          "execution_count": 129
        }
      ]
    },
    {
      "cell_type": "code",
      "source": [],
      "metadata": {
        "id": "bDY7DzgiPft6"
      },
      "execution_count": 129,
      "outputs": []
    },
    {
      "cell_type": "code",
      "source": [
        "#Hstack(horizontal stack):-To add the second tensor in the horizontal direction\n",
        "tensor3=torch.tensor([[5,4,3,1],\n",
        "                      [3,4,5,6]])\n",
        "\n",
        "tensor4=torch.tensor([[4,3,5,12],\n",
        "                      [4,5,6,7]])\n",
        "\n",
        "torch.hstack((tensor3,tensor4))"
      ],
      "metadata": {
        "id": "vihMMOd2thVa",
        "colab": {
          "base_uri": "https://localhost:8080/"
        },
        "outputId": "00f197d7-ac21-4fcd-e467-6f9c4f2c9508"
      },
      "execution_count": 130,
      "outputs": [
        {
          "output_type": "execute_result",
          "data": {
            "text/plain": [
              "tensor([[ 5,  4,  3,  1,  4,  3,  5, 12],\n",
              "        [ 3,  4,  5,  6,  4,  5,  6,  7]])"
            ]
          },
          "metadata": {},
          "execution_count": 130
        }
      ]
    },
    {
      "cell_type": "code",
      "source": [
        "#torch.squeeze() - remove all the single dimension from a targert tensor\n",
        "\n",
        "torch_noname=torch.zeros(2,1,2,1,3)\n",
        "print(f\"size of the tensor before squeez method{torch_noname}\")\n",
        "y=torch.squeeze(torch_noname)\n",
        "print(f\"size of the tensor before squeez method{y}\")"
      ],
      "metadata": {
        "id": "NYuQh0VGthXp",
        "colab": {
          "base_uri": "https://localhost:8080/"
        },
        "outputId": "4d385418-2201-486d-8238-bd3e32ee781d"
      },
      "execution_count": 131,
      "outputs": [
        {
          "output_type": "stream",
          "name": "stdout",
          "text": [
            "size of the tensor before squeez methodtensor([[[[[0., 0., 0.]],\n",
            "\n",
            "          [[0., 0., 0.]]]],\n",
            "\n",
            "\n",
            "\n",
            "        [[[[0., 0., 0.]],\n",
            "\n",
            "          [[0., 0., 0.]]]]])\n",
            "size of the tensor before squeez methodtensor([[[0., 0., 0.],\n",
            "         [0., 0., 0.]],\n",
            "\n",
            "        [[0., 0., 0.],\n",
            "         [0., 0., 0.]]])\n"
          ]
        }
      ]
    },
    {
      "cell_type": "code",
      "source": [
        "y1=torch.squeeze(torch_noname,1)\n",
        "print(f\"before parameter{torch_noname,torch_noname.size()}\")\n",
        "print(f\"y1 when parameter passes as 1 output will be {y1.size()}\")"
      ],
      "metadata": {
        "id": "VNyWQeGZthZg",
        "colab": {
          "base_uri": "https://localhost:8080/"
        },
        "outputId": "601f0f64-8b8f-4df0-ebd3-1d126c9c7883"
      },
      "execution_count": 132,
      "outputs": [
        {
          "output_type": "stream",
          "name": "stdout",
          "text": [
            "before parameter(tensor([[[[[0., 0., 0.]],\n",
            "\n",
            "          [[0., 0., 0.]]]],\n",
            "\n",
            "\n",
            "\n",
            "        [[[[0., 0., 0.]],\n",
            "\n",
            "          [[0., 0., 0.]]]]]), torch.Size([2, 1, 2, 1, 3]))\n",
            "y1 when parameter passes as 1 output will be torch.Size([2, 2, 1, 3])\n"
          ]
        }
      ]
    },
    {
      "cell_type": "code",
      "source": [
        "y2=torch.squeeze(torch_noname,1)\n",
        "print(f\"y2 value when patameter is 0{y2.size()}\")"
      ],
      "metadata": {
        "id": "kYEhoWUOthbs",
        "colab": {
          "base_uri": "https://localhost:8080/"
        },
        "outputId": "be747864-2e82-4b11-867a-281dcd9a4d98"
      },
      "execution_count": 133,
      "outputs": [
        {
          "output_type": "stream",
          "name": "stdout",
          "text": [
            "y2 value when patameter is 0torch.Size([2, 2, 1, 3])\n"
          ]
        }
      ]
    },
    {
      "cell_type": "code",
      "source": [
        "#torch.unsqueeze()- add one dimension at the a specific location in the targeted tensor"
      ],
      "metadata": {
        "id": "B3wrK55dtheJ"
      },
      "execution_count": 134,
      "outputs": []
    },
    {
      "cell_type": "code",
      "source": [
        "y_unsqueezed=y2.unsqueeze(dim=1)\n",
        "print(f\"before parameter{torch_noname,torch_noname.size()}\")\n",
        "print(f\"The usqueezed tensor is {y_unsqueezed,y_unsqueezed.size()}\")"
      ],
      "metadata": {
        "id": "hwuFZsrethgG",
        "colab": {
          "base_uri": "https://localhost:8080/"
        },
        "outputId": "330b2a44-b04f-4225-ac9a-3f587c243342"
      },
      "execution_count": 135,
      "outputs": [
        {
          "output_type": "stream",
          "name": "stdout",
          "text": [
            "before parameter(tensor([[[[[0., 0., 0.]],\n",
            "\n",
            "          [[0., 0., 0.]]]],\n",
            "\n",
            "\n",
            "\n",
            "        [[[[0., 0., 0.]],\n",
            "\n",
            "          [[0., 0., 0.]]]]]), torch.Size([2, 1, 2, 1, 3]))\n",
            "The usqueezed tensor is (tensor([[[[[0., 0., 0.]],\n",
            "\n",
            "          [[0., 0., 0.]]]],\n",
            "\n",
            "\n",
            "\n",
            "        [[[[0., 0., 0.]],\n",
            "\n",
            "          [[0., 0., 0.]]]]]), torch.Size([2, 1, 2, 1, 3]))\n"
          ]
        }
      ]
    },
    {
      "cell_type": "code",
      "source": [
        "y1=torch.zeros([2])\n",
        "y2=y1.unsqueeze(dim=0)\n",
        "y2.size()"
      ],
      "metadata": {
        "id": "WYpOnrgMthhx",
        "colab": {
          "base_uri": "https://localhost:8080/"
        },
        "outputId": "a7c35fb5-3b60-4157-c09e-6e1a6dbd5425"
      },
      "execution_count": 136,
      "outputs": [
        {
          "output_type": "execute_result",
          "data": {
            "text/plain": [
              "torch.Size([1, 2])"
            ]
          },
          "metadata": {},
          "execution_count": 136
        }
      ]
    },
    {
      "cell_type": "code",
      "source": [
        "#torch.permute()-rearranges the dimensions of a target tensor in a specified order\n",
        "\n",
        "tensor_per=torch.ones([2,1,3,3])\n",
        "print(f\"before tensor is {tensor_per} size of the tensor is {tensor_per.size()}\")\n",
        "permuted_tensor=torch.permute(tensor_per,(2,3,0,1))\n",
        "# in the above tensor the first dim is changes with the 2nd dim of the inintial tensor and the first dim is changes with the div 3 and the third tensor is changes with the zeroth dim vice varsa\n",
        "print(f\"permuted tensor is {permuted_tensor} size of the tensor is {permuted_tensor.size()}\")\n"
      ],
      "metadata": {
        "id": "pWz9KePWthk8",
        "colab": {
          "base_uri": "https://localhost:8080/"
        },
        "outputId": "03b87697-394f-4da6-c643-f7d639a33502"
      },
      "execution_count": 145,
      "outputs": [
        {
          "output_type": "stream",
          "name": "stdout",
          "text": [
            "before tensor is tensor([[[[1., 1., 1.],\n",
            "          [1., 1., 1.],\n",
            "          [1., 1., 1.]]],\n",
            "\n",
            "\n",
            "        [[[1., 1., 1.],\n",
            "          [1., 1., 1.],\n",
            "          [1., 1., 1.]]]]) size of the tensor is torch.Size([2, 1, 3, 3])\n",
            "permuted tensor is tensor([[[[1.],\n",
            "          [1.]],\n",
            "\n",
            "         [[1.],\n",
            "          [1.]],\n",
            "\n",
            "         [[1.],\n",
            "          [1.]]],\n",
            "\n",
            "\n",
            "        [[[1.],\n",
            "          [1.]],\n",
            "\n",
            "         [[1.],\n",
            "          [1.]],\n",
            "\n",
            "         [[1.],\n",
            "          [1.]]],\n",
            "\n",
            "\n",
            "        [[[1.],\n",
            "          [1.]],\n",
            "\n",
            "         [[1.],\n",
            "          [1.]],\n",
            "\n",
            "         [[1.],\n",
            "          [1.]]]]) size of the tensor is torch.Size([3, 3, 2, 1])\n"
          ]
        }
      ]
    },
    {
      "cell_type": "markdown",
      "source": [],
      "metadata": {
        "id": "R_dq4jmXVZpd"
      }
    },
    {
      "cell_type": "code",
      "source": [
        "tensor_indexing=torch.arange(1,10).reshape(1,3,3)\n",
        "print(tensor_indexing)\n",
        "tensor_indexing[0,0,:]"
      ],
      "metadata": {
        "colab": {
          "base_uri": "https://localhost:8080/"
        },
        "id": "K7x_zcajVcMA",
        "outputId": "de9f5c95-9008-470a-c1fc-9a1084c6a0b4"
      },
      "execution_count": 153,
      "outputs": [
        {
          "output_type": "stream",
          "name": "stdout",
          "text": [
            "tensor([[[1, 2, 3],\n",
            "         [4, 5, 6],\n",
            "         [7, 8, 9]]])\n"
          ]
        },
        {
          "output_type": "execute_result",
          "data": {
            "text/plain": [
              "tensor([1, 2, 3])"
            ]
          },
          "metadata": {},
          "execution_count": 153
        }
      ]
    },
    {
      "cell_type": "code",
      "source": [
        "tensor_indexing[:,:,0]"
      ],
      "metadata": {
        "colab": {
          "base_uri": "https://localhost:8080/"
        },
        "id": "vNAZILxpVcIc",
        "outputId": "0aa64a00-9454-45a6-d308-b333d92b2846"
      },
      "execution_count": 159,
      "outputs": [
        {
          "output_type": "execute_result",
          "data": {
            "text/plain": [
              "tensor([[1, 4, 7]])"
            ]
          },
          "metadata": {},
          "execution_count": 159
        }
      ]
    },
    {
      "cell_type": "code",
      "source": [
        "## TENSORS with NumPy Arrays"
      ],
      "metadata": {
        "id": "mKNYdh0DVcGT"
      },
      "execution_count": null,
      "outputs": []
    },
    {
      "cell_type": "code",
      "source": [
        "import numpy as np\n",
        "array=np.arange(1.0,9.0)\n",
        "print(f\"array is {array} and type is {array.dtype}\")\n",
        "tensor_Arr=torch.from_numpy(array)\n",
        "print(f\"tensor using np array {tensor_Arr}\")"
      ],
      "metadata": {
        "colab": {
          "base_uri": "https://localhost:8080/"
        },
        "id": "A_pUYD7yVcD3",
        "outputId": "e0adba23-06d3-443b-deed-1a3779a0771c"
      },
      "execution_count": 165,
      "outputs": [
        {
          "output_type": "stream",
          "name": "stdout",
          "text": [
            "array is [1. 2. 3. 4. 5. 6. 7. 8.] and type is float64\n",
            "tensor using np array tensor([1., 2., 3., 4., 5., 6., 7., 8.], dtype=torch.float64)\n"
          ]
        }
      ]
    },
    {
      "cell_type": "code",
      "source": [
        "# if we change the value of the array to something else then it cant effect the tensor\n",
        "array=array+1\n",
        "print(f\"Array is {array}\")\n",
        "print(f\"tensor ={tensor_Arr}\")"
      ],
      "metadata": {
        "colab": {
          "base_uri": "https://localhost:8080/"
        },
        "id": "6UrV5Zt6g35Q",
        "outputId": "38ca42bb-1245-4bea-9bb3-6a681f910dbb"
      },
      "execution_count": 168,
      "outputs": [
        {
          "output_type": "stream",
          "name": "stdout",
          "text": [
            "Array is [ 4.  5.  6.  7.  8.  9. 10. 11.]\n",
            "tensor =tensor([1., 2., 3., 4., 5., 6., 7., 8.], dtype=torch.float64)\n"
          ]
        }
      ]
    },
    {
      "cell_type": "code",
      "source": [
        "#tensor to Numpy\n",
        "\n",
        "tensor=torch.zeros(1,3)\n",
        "print(f\"tensor dtype is {tensor.dtype}\")\n",
        "numpy_tensor=tensor.numpy()\n",
        "print(f\"the numpy tensor is {numpy_tensor} and the size of the numpy tensor is {numpy_tensor.dtype}\")"
      ],
      "metadata": {
        "colab": {
          "base_uri": "https://localhost:8080/"
        },
        "id": "AEYnH0hEVcBU",
        "outputId": "19eeb897-6137-4fd1-e01c-ea9aa95c1c9f"
      },
      "execution_count": 171,
      "outputs": [
        {
          "output_type": "stream",
          "name": "stdout",
          "text": [
            "tensor dtype is torch.float32\n",
            "the numpy tensor is [[0. 0. 0.]] and the size of the numpy tensor is float32\n"
          ]
        }
      ]
    },
    {
      "cell_type": "code",
      "source": [
        "tensor=tensor+1\n",
        "\n",
        "print(tensor)\n",
        "\n",
        "print(f\"tensor after numpy{numpy_tensor}\")\n"
      ],
      "metadata": {
        "colab": {
          "base_uri": "https://localhost:8080/"
        },
        "id": "1XaqgtivVb_O",
        "outputId": "f7322c53-c947-4c5c-f8f6-bf7e8e99e276"
      },
      "execution_count": 172,
      "outputs": [
        {
          "output_type": "stream",
          "name": "stdout",
          "text": [
            "tensor([[1., 1., 1.]])\n",
            "tensor after numpy[[0. 0. 0.]]\n"
          ]
        }
      ]
    },
    {
      "cell_type": "code",
      "source": [
        "import torch\n",
        "random_tensor1=torch.rand(3,4)\n",
        "random_tensor2=torch.rand(3,4)\n",
        "print(random_tensor1)\n",
        "print(random_tensor2)\n",
        "print(random_tensor1==random_tensor2)\n"
      ],
      "metadata": {
        "colab": {
          "base_uri": "https://localhost:8080/"
        },
        "id": "Ged6G9CtVb9F",
        "outputId": "79e9f49c-b4bb-44cb-ca93-47d37a9dbc75"
      },
      "execution_count": 173,
      "outputs": [
        {
          "output_type": "stream",
          "name": "stdout",
          "text": [
            "tensor([[0.4123, 0.7159, 0.0056, 0.1741],\n",
            "        [0.5983, 0.5871, 0.7925, 0.8658],\n",
            "        [0.3615, 0.7136, 0.1072, 0.5294]])\n",
            "tensor([[0.8188, 0.5387, 0.9651, 0.9084],\n",
            "        [0.8819, 0.9061, 0.6123, 0.5950],\n",
            "        [0.0984, 0.9437, 0.9700, 0.2915]])\n",
            "tensor([[False, False, False, False],\n",
            "        [False, False, False, False],\n",
            "        [False, False, False, False]])\n"
          ]
        }
      ]
    },
    {
      "cell_type": "code",
      "source": [
        "# lets make some random but reproducible tensor\n",
        "import torch\n",
        "\n",
        "#Set the random seed\n",
        "RANDOM_SEED=42\n",
        "torch.manual_seed(RANDOM_SEED)\n",
        "random_tensor_a=torch.rand(3,4,6)\n",
        "torch.manual_seed(RANDOM_SEED)\n",
        "random_tensor_b=torch.rand(3,4,6)\n",
        "print(random_tensor_a)\n",
        "print(random_tensor_b)\n",
        "print(random_tensor_a==random_tensor_b)\n"
      ],
      "metadata": {
        "colab": {
          "base_uri": "https://localhost:8080/"
        },
        "id": "BX59pe4pyLG9",
        "outputId": "45240c85-92f1-4c72-80f6-3557e561b109"
      },
      "execution_count": 184,
      "outputs": [
        {
          "output_type": "stream",
          "name": "stdout",
          "text": [
            "tensor([[[0.8823, 0.9150, 0.3829, 0.9593, 0.3904, 0.6009],\n",
            "         [0.2566, 0.7936, 0.9408, 0.1332, 0.9346, 0.5936],\n",
            "         [0.8694, 0.5677, 0.7411, 0.4294, 0.8854, 0.5739],\n",
            "         [0.2666, 0.6274, 0.2696, 0.4414, 0.2969, 0.8317]],\n",
            "\n",
            "        [[0.1053, 0.2695, 0.3588, 0.1994, 0.5472, 0.0062],\n",
            "         [0.9516, 0.0753, 0.8860, 0.5832, 0.3376, 0.8090],\n",
            "         [0.5779, 0.9040, 0.5547, 0.3423, 0.6343, 0.3644],\n",
            "         [0.7104, 0.9464, 0.7890, 0.2814, 0.7886, 0.5895]],\n",
            "\n",
            "        [[0.7539, 0.1952, 0.0050, 0.3068, 0.1165, 0.9103],\n",
            "         [0.6440, 0.7071, 0.6581, 0.4913, 0.8913, 0.1447],\n",
            "         [0.5315, 0.1587, 0.6542, 0.3278, 0.6532, 0.3958],\n",
            "         [0.9147, 0.2036, 0.2018, 0.2018, 0.9497, 0.6666]]])\n",
            "tensor([[[0.8823, 0.9150, 0.3829, 0.9593, 0.3904, 0.6009],\n",
            "         [0.2566, 0.7936, 0.9408, 0.1332, 0.9346, 0.5936],\n",
            "         [0.8694, 0.5677, 0.7411, 0.4294, 0.8854, 0.5739],\n",
            "         [0.2666, 0.6274, 0.2696, 0.4414, 0.2969, 0.8317]],\n",
            "\n",
            "        [[0.1053, 0.2695, 0.3588, 0.1994, 0.5472, 0.0062],\n",
            "         [0.9516, 0.0753, 0.8860, 0.5832, 0.3376, 0.8090],\n",
            "         [0.5779, 0.9040, 0.5547, 0.3423, 0.6343, 0.3644],\n",
            "         [0.7104, 0.9464, 0.7890, 0.2814, 0.7886, 0.5895]],\n",
            "\n",
            "        [[0.7539, 0.1952, 0.0050, 0.3068, 0.1165, 0.9103],\n",
            "         [0.6440, 0.7071, 0.6581, 0.4913, 0.8913, 0.1447],\n",
            "         [0.5315, 0.1587, 0.6542, 0.3278, 0.6532, 0.3958],\n",
            "         [0.9147, 0.2036, 0.2018, 0.2018, 0.9497, 0.6666]]])\n",
            "tensor([[[True, True, True, True, True, True],\n",
            "         [True, True, True, True, True, True],\n",
            "         [True, True, True, True, True, True],\n",
            "         [True, True, True, True, True, True]],\n",
            "\n",
            "        [[True, True, True, True, True, True],\n",
            "         [True, True, True, True, True, True],\n",
            "         [True, True, True, True, True, True],\n",
            "         [True, True, True, True, True, True]],\n",
            "\n",
            "        [[True, True, True, True, True, True],\n",
            "         [True, True, True, True, True, True],\n",
            "         [True, True, True, True, True, True],\n",
            "         [True, True, True, True, True, True]]])\n"
          ]
        }
      ]
    },
    {
      "cell_type": "code",
      "source": [],
      "metadata": {
        "id": "PH4Q44tMyLEn"
      },
      "execution_count": null,
      "outputs": []
    },
    {
      "cell_type": "code",
      "source": [],
      "metadata": {
        "id": "APXfFfhPyLBM"
      },
      "execution_count": null,
      "outputs": []
    },
    {
      "cell_type": "code",
      "source": [],
      "metadata": {
        "id": "-DSVKmtYyK-1"
      },
      "execution_count": null,
      "outputs": []
    },
    {
      "cell_type": "code",
      "source": [],
      "metadata": {
        "id": "DVMIK7t4yK8a"
      },
      "execution_count": null,
      "outputs": []
    },
    {
      "cell_type": "code",
      "source": [],
      "metadata": {
        "id": "6aec66G1yK5W"
      },
      "execution_count": null,
      "outputs": []
    },
    {
      "cell_type": "code",
      "source": [],
      "metadata": {
        "id": "HhketmZ6yK13"
      },
      "execution_count": null,
      "outputs": []
    },
    {
      "cell_type": "code",
      "source": [],
      "metadata": {
        "id": "YZv854TVyKy7"
      },
      "execution_count": null,
      "outputs": []
    },
    {
      "cell_type": "code",
      "source": [],
      "metadata": {
        "id": "St9NqhQBtQlW",
        "colab": {
          "base_uri": "https://localhost:8080/"
        },
        "outputId": "7490c37d-102b-481f-82db-1073cb14d4bb"
      },
      "execution_count": 147,
      "outputs": [
        {
          "output_type": "execute_result",
          "data": {
            "text/plain": [
              "tensor([[1, 2, 3]])"
            ]
          },
          "metadata": {},
          "execution_count": 147
        }
      ]
    }
  ]
}