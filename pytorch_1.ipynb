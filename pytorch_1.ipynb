{
  "nbformat": 4,
  "nbformat_minor": 0,
  "metadata": {
    "colab": {
      "provenance": [],
      "authorship_tag": "ABX9TyPYeX65vcQ4qRwuOmXKI3Xr",
      "include_colab_link": true
    },
    "kernelspec": {
      "name": "python3",
      "display_name": "Python 3"
    },
    "language_info": {
      "name": "python"
    }
  },
  "cells": [
    {
      "cell_type": "markdown",
      "metadata": {
        "id": "view-in-github",
        "colab_type": "text"
      },
      "source": [
        "<a href=\"https://colab.research.google.com/github/anmolkumar0717/Alphabet/blob/main/pytorch_1.ipynb\" target=\"_parent\"><img src=\"https://colab.research.google.com/assets/colab-badge.svg\" alt=\"Open In Colab\"/></a>"
      ]
    },
    {
      "cell_type": "code",
      "execution_count": null,
      "metadata": {
        "colab": {
          "base_uri": "https://localhost:8080/"
        },
        "id": "hU4393nd6VEV",
        "outputId": "46ef71dd-5a30-438a-add3-3a66976a92c9"
      },
      "outputs": [
        {
          "output_type": "stream",
          "name": "stdout",
          "text": [
            "hello\n"
          ]
        }
      ],
      "source": [
        "print(\"hello\")"
      ]
    },
    {
      "cell_type": "code",
      "source": [
        "!nvidia-smi\n"
      ],
      "metadata": {
        "colab": {
          "base_uri": "https://localhost:8080/"
        },
        "id": "YTqP9gLN6Y0J",
        "outputId": "7d8c318c-22ce-4810-f09b-463be80cc7e0"
      },
      "execution_count": null,
      "outputs": [
        {
          "output_type": "stream",
          "name": "stdout",
          "text": [
            "/bin/bash: line 1: nvidia-smi: command not found\n"
          ]
        }
      ]
    },
    {
      "cell_type": "code",
      "source": [
        "import torch\n",
        "import pandas as pd\n",
        "import matplotlib.pyplot as plt\n",
        "import numpy as np\n",
        "print(torch.__version__)"
      ],
      "metadata": {
        "colab": {
          "base_uri": "https://localhost:8080/"
        },
        "id": "8lWt_QBD7twf",
        "outputId": "efe6209a-f099-48d8-8b99-0eecba9b47f1"
      },
      "execution_count": null,
      "outputs": [
        {
          "output_type": "stream",
          "name": "stdout",
          "text": [
            "2.2.1+cu121\n"
          ]
        }
      ]
    },
    {
      "cell_type": "code",
      "source": [
        "#scaler\n",
        "scaler=torch.tensor(7)\n",
        "scaler"
      ],
      "metadata": {
        "colab": {
          "base_uri": "https://localhost:8080/"
        },
        "id": "9TDJg70M9Tld",
        "outputId": "b1da521b-2c69-467a-fa51-1b890f2321a9"
      },
      "execution_count": null,
      "outputs": [
        {
          "output_type": "execute_result",
          "data": {
            "text/plain": [
              "tensor(7)"
            ]
          },
          "metadata": {},
          "execution_count": 4
        }
      ]
    },
    {
      "cell_type": "code",
      "source": [
        "scaler.ndim"
      ],
      "metadata": {
        "colab": {
          "base_uri": "https://localhost:8080/"
        },
        "id": "xaPjVnsu-vCL",
        "outputId": "687eb207-1b24-434b-9f4c-6a4b060c8de0"
      },
      "execution_count": null,
      "outputs": [
        {
          "output_type": "execute_result",
          "data": {
            "text/plain": [
              "0"
            ]
          },
          "metadata": {},
          "execution_count": 5
        }
      ]
    },
    {
      "cell_type": "code",
      "source": [
        "scaler.item()"
      ],
      "metadata": {
        "colab": {
          "base_uri": "https://localhost:8080/"
        },
        "id": "qai1Z6oC_A2H",
        "outputId": "13d716a5-d32d-484c-c9cd-03a1d5d1f3e7"
      },
      "execution_count": null,
      "outputs": [
        {
          "output_type": "execute_result",
          "data": {
            "text/plain": [
              "7"
            ]
          },
          "metadata": {},
          "execution_count": 6
        }
      ]
    },
    {
      "cell_type": "code",
      "source": [
        "#vector\n",
        "\n",
        "vector=torch.tensor([7,7])\n",
        "vector"
      ],
      "metadata": {
        "colab": {
          "base_uri": "https://localhost:8080/"
        },
        "id": "Zyd6tmUb_Njh",
        "outputId": "4cca8cff-b99a-48cc-8b11-ee494f8d30a9"
      },
      "execution_count": null,
      "outputs": [
        {
          "output_type": "execute_result",
          "data": {
            "text/plain": [
              "tensor([7, 7])"
            ]
          },
          "metadata": {},
          "execution_count": 7
        }
      ]
    },
    {
      "cell_type": "code",
      "source": [
        "vector.ndim"
      ],
      "metadata": {
        "colab": {
          "base_uri": "https://localhost:8080/"
        },
        "id": "k-WMdGbp_jWU",
        "outputId": "a571e289-4f18-4358-a29a-202134eac6c0"
      },
      "execution_count": null,
      "outputs": [
        {
          "output_type": "execute_result",
          "data": {
            "text/plain": [
              "1"
            ]
          },
          "metadata": {},
          "execution_count": 8
        }
      ]
    },
    {
      "cell_type": "code",
      "source": [
        "vector.shape"
      ],
      "metadata": {
        "colab": {
          "base_uri": "https://localhost:8080/"
        },
        "id": "5Hz8r8aI_m5b",
        "outputId": "63573147-d519-4196-9d61-f165f6cbd3c1"
      },
      "execution_count": null,
      "outputs": [
        {
          "output_type": "execute_result",
          "data": {
            "text/plain": [
              "torch.Size([2])"
            ]
          },
          "metadata": {},
          "execution_count": 9
        }
      ]
    },
    {
      "cell_type": "code",
      "source": [
        "\n",
        "#MATRIX\n",
        "MATRIX=torch.tensor([[7,8],\n",
        "                     [9,10]])\n",
        "MATRIX"
      ],
      "metadata": {
        "colab": {
          "base_uri": "https://localhost:8080/"
        },
        "id": "kXR0jGDf_q6S",
        "outputId": "fa9edef9-97dc-4eda-ed78-642daf5eebee"
      },
      "execution_count": null,
      "outputs": [
        {
          "output_type": "execute_result",
          "data": {
            "text/plain": [
              "tensor([[ 7,  8],\n",
              "        [ 9, 10]])"
            ]
          },
          "metadata": {},
          "execution_count": 10
        }
      ]
    },
    {
      "cell_type": "code",
      "source": [
        "MATRIX.shape"
      ],
      "metadata": {
        "colab": {
          "base_uri": "https://localhost:8080/"
        },
        "id": "SxwD133A_6P0",
        "outputId": "dda88b92-3f9c-4f24-b590-8e30f25b8db3"
      },
      "execution_count": null,
      "outputs": [
        {
          "output_type": "execute_result",
          "data": {
            "text/plain": [
              "torch.Size([2, 2])"
            ]
          },
          "metadata": {},
          "execution_count": 11
        }
      ]
    },
    {
      "cell_type": "code",
      "source": [
        "MATRIX.ndim"
      ],
      "metadata": {
        "colab": {
          "base_uri": "https://localhost:8080/"
        },
        "id": "Ty4xgDUMAAB9",
        "outputId": "a0d956f1-2dbf-4bda-b85f-d01081e541bf"
      },
      "execution_count": null,
      "outputs": [
        {
          "output_type": "execute_result",
          "data": {
            "text/plain": [
              "2"
            ]
          },
          "metadata": {},
          "execution_count": 12
        }
      ]
    },
    {
      "cell_type": "code",
      "source": [
        "#TENSOR\n",
        "TENSOR=torch.tensor([[[1,2,3],\n",
        "                      [3,4,5],\n",
        "                      [3,2,4]]])\n",
        "TENSOR\n"
      ],
      "metadata": {
        "colab": {
          "base_uri": "https://localhost:8080/"
        },
        "id": "WL5lHE_SAIoZ",
        "outputId": "b584a7eb-b9ba-43d9-dfbd-1c24d7df7513"
      },
      "execution_count": null,
      "outputs": [
        {
          "output_type": "execute_result",
          "data": {
            "text/plain": [
              "tensor([[[1, 2, 3],\n",
              "         [3, 4, 5],\n",
              "         [3, 2, 4]]])"
            ]
          },
          "metadata": {},
          "execution_count": 13
        }
      ]
    },
    {
      "cell_type": "code",
      "source": [
        "TENSOR.shape\n"
      ],
      "metadata": {
        "colab": {
          "base_uri": "https://localhost:8080/"
        },
        "id": "N2PVp6WLA2qF",
        "outputId": "10737da6-da31-48f5-a42f-cd6af08618b9"
      },
      "execution_count": null,
      "outputs": [
        {
          "output_type": "execute_result",
          "data": {
            "text/plain": [
              "torch.Size([1, 3, 3])"
            ]
          },
          "metadata": {},
          "execution_count": 14
        }
      ]
    },
    {
      "cell_type": "code",
      "source": [
        "a=torch.tensor([[[[[[[[[[[[[1,2,3,4],\n",
        " [8,9,9,8]]]]]]]]]]]]])\n",
        "a"
      ],
      "metadata": {
        "colab": {
          "base_uri": "https://localhost:8080/"
        },
        "id": "40NBqtliA7wo",
        "outputId": "661458f9-6155-4265-bf79-57ce3d1409ce"
      },
      "execution_count": null,
      "outputs": [
        {
          "output_type": "execute_result",
          "data": {
            "text/plain": [
              "tensor([[[[[[[[[[[[[1, 2, 3, 4],\n",
              "                   [8, 9, 9, 8]]]]]]]]]]]]])"
            ]
          },
          "metadata": {},
          "execution_count": 15
        }
      ]
    },
    {
      "cell_type": "code",
      "source": [
        "a.size"
      ],
      "metadata": {
        "colab": {
          "base_uri": "https://localhost:8080/"
        },
        "id": "-SLdiom6Bi9c",
        "outputId": "220912f3-eeb9-49f1-db0a-8cc032e0f0cc"
      },
      "execution_count": null,
      "outputs": [
        {
          "output_type": "execute_result",
          "data": {
            "text/plain": [
              "<function Tensor.size>"
            ]
          },
          "metadata": {},
          "execution_count": 16
        }
      ]
    },
    {
      "cell_type": "code",
      "source": [
        "a.ndim"
      ],
      "metadata": {
        "colab": {
          "base_uri": "https://localhost:8080/"
        },
        "id": "QaNXG4XiCU-m",
        "outputId": "8a77e072-73d1-497c-86ff-00ae3f13631f"
      },
      "execution_count": null,
      "outputs": [
        {
          "output_type": "execute_result",
          "data": {
            "text/plain": [
              "13"
            ]
          },
          "metadata": {},
          "execution_count": 17
        }
      ]
    },
    {
      "cell_type": "markdown",
      "source": [
        "### Create a random tensor"
      ],
      "metadata": {
        "id": "vq8JUbCaCyy2"
      }
    },
    {
      "cell_type": "code",
      "source": [
        "random_tensor=torch.rand(3,4)\n",
        "random_tensor"
      ],
      "metadata": {
        "colab": {
          "base_uri": "https://localhost:8080/"
        },
        "id": "-7ai0SB10HRD",
        "outputId": "15b4ae04-3e82-4ab1-e7f4-8bad36531cc5"
      },
      "execution_count": null,
      "outputs": [
        {
          "output_type": "execute_result",
          "data": {
            "text/plain": [
              "tensor([[0.6593, 0.5775, 0.3083, 0.6823],\n",
              "        [0.6373, 0.4214, 0.7987, 0.8675],\n",
              "        [0.6499, 0.9844, 0.5052, 0.2253]])"
            ]
          },
          "metadata": {},
          "execution_count": 18
        }
      ]
    },
    {
      "cell_type": "code",
      "source": [
        "# create a randome tensor with similar shape to an image tensor\n",
        "randome_image_size_tensor=torch.rand(size=(3,224,224))\n",
        "print(randome_image_size_tensor.shape,\"dimension = \",randome_image_size_tensor.ndim)"
      ],
      "metadata": {
        "colab": {
          "base_uri": "https://localhost:8080/"
        },
        "id": "Q7bAG8IZz30z",
        "outputId": "443394b0-2dee-430b-ab64-2c9d2e21c8d1"
      },
      "execution_count": null,
      "outputs": [
        {
          "output_type": "stream",
          "name": "stdout",
          "text": [
            "torch.Size([3, 224, 224]) dimension =  3\n"
          ]
        }
      ]
    },
    {
      "cell_type": "code",
      "source": [
        "random_tensor1=torch.rand(3,4,3)\n",
        "print(random_tensor1)\n",
        "print(random_tensor1.ndim)"
      ],
      "metadata": {
        "colab": {
          "base_uri": "https://localhost:8080/"
        },
        "id": "WWES4_eV149_",
        "outputId": "b0252ebf-810b-4006-f60b-aff0c2b9932f"
      },
      "execution_count": null,
      "outputs": [
        {
          "output_type": "stream",
          "name": "stdout",
          "text": [
            "tensor([[[0.0781, 0.1836, 0.4360],\n",
            "         [0.9114, 0.5069, 0.8399],\n",
            "         [0.9697, 0.7436, 0.2684],\n",
            "         [0.0131, 0.9858, 0.8982]],\n",
            "\n",
            "        [[0.4035, 0.8880, 0.9762],\n",
            "         [0.2796, 0.3091, 0.3585],\n",
            "         [0.7928, 0.5335, 0.8423],\n",
            "         [0.4736, 0.6988, 0.7520]],\n",
            "\n",
            "        [[0.6419, 0.4432, 0.5197],\n",
            "         [0.2290, 0.6909, 0.2652],\n",
            "         [0.6058, 0.4181, 0.1189],\n",
            "         [0.4659, 0.6568, 0.3536]]])\n",
            "3\n"
          ]
        }
      ]
    },
    {
      "cell_type": "markdown",
      "source": [
        "### Zeros and Ones Tensor"
      ],
      "metadata": {
        "id": "ZiXu14-d6KmF"
      }
    },
    {
      "cell_type": "code",
      "source": [
        "zeros=torch.zeros(size=(4,3))\n",
        "zeros"
      ],
      "metadata": {
        "colab": {
          "base_uri": "https://localhost:8080/"
        },
        "id": "jJ-RxLRA2jQa",
        "outputId": "782e4b63-7704-4fb5-cc04-c9477de1d347"
      },
      "execution_count": null,
      "outputs": [
        {
          "output_type": "execute_result",
          "data": {
            "text/plain": [
              "tensor([[0., 0., 0.],\n",
              "        [0., 0., 0.],\n",
              "        [0., 0., 0.],\n",
              "        [0., 0., 0.]])"
            ]
          },
          "metadata": {},
          "execution_count": 21
        }
      ]
    },
    {
      "cell_type": "code",
      "source": [
        "zeros*random_tensor1"
      ],
      "metadata": {
        "colab": {
          "base_uri": "https://localhost:8080/"
        },
        "id": "IVpS3vva6jhh",
        "outputId": "c1276a12-a759-4db8-df3e-5d8338badd60"
      },
      "execution_count": null,
      "outputs": [
        {
          "output_type": "execute_result",
          "data": {
            "text/plain": [
              "tensor([[[0., 0., 0.],\n",
              "         [0., 0., 0.],\n",
              "         [0., 0., 0.],\n",
              "         [0., 0., 0.]],\n",
              "\n",
              "        [[0., 0., 0.],\n",
              "         [0., 0., 0.],\n",
              "         [0., 0., 0.],\n",
              "         [0., 0., 0.]],\n",
              "\n",
              "        [[0., 0., 0.],\n",
              "         [0., 0., 0.],\n",
              "         [0., 0., 0.],\n",
              "         [0., 0., 0.]]])"
            ]
          },
          "metadata": {},
          "execution_count": 22
        }
      ]
    },
    {
      "cell_type": "code",
      "source": [
        "#creating a tensor of all ones\n",
        "ones=torch.ones(size=(3,3,2,3,4))\n",
        "ones"
      ],
      "metadata": {
        "colab": {
          "base_uri": "https://localhost:8080/"
        },
        "id": "S8yZFO1G6vp3",
        "outputId": "c21e5b80-eb40-4656-8070-e7f13a8975cb"
      },
      "execution_count": null,
      "outputs": [
        {
          "output_type": "execute_result",
          "data": {
            "text/plain": [
              "tensor([[[[[1., 1., 1., 1.],\n",
              "           [1., 1., 1., 1.],\n",
              "           [1., 1., 1., 1.]],\n",
              "\n",
              "          [[1., 1., 1., 1.],\n",
              "           [1., 1., 1., 1.],\n",
              "           [1., 1., 1., 1.]]],\n",
              "\n",
              "\n",
              "         [[[1., 1., 1., 1.],\n",
              "           [1., 1., 1., 1.],\n",
              "           [1., 1., 1., 1.]],\n",
              "\n",
              "          [[1., 1., 1., 1.],\n",
              "           [1., 1., 1., 1.],\n",
              "           [1., 1., 1., 1.]]],\n",
              "\n",
              "\n",
              "         [[[1., 1., 1., 1.],\n",
              "           [1., 1., 1., 1.],\n",
              "           [1., 1., 1., 1.]],\n",
              "\n",
              "          [[1., 1., 1., 1.],\n",
              "           [1., 1., 1., 1.],\n",
              "           [1., 1., 1., 1.]]]],\n",
              "\n",
              "\n",
              "\n",
              "        [[[[1., 1., 1., 1.],\n",
              "           [1., 1., 1., 1.],\n",
              "           [1., 1., 1., 1.]],\n",
              "\n",
              "          [[1., 1., 1., 1.],\n",
              "           [1., 1., 1., 1.],\n",
              "           [1., 1., 1., 1.]]],\n",
              "\n",
              "\n",
              "         [[[1., 1., 1., 1.],\n",
              "           [1., 1., 1., 1.],\n",
              "           [1., 1., 1., 1.]],\n",
              "\n",
              "          [[1., 1., 1., 1.],\n",
              "           [1., 1., 1., 1.],\n",
              "           [1., 1., 1., 1.]]],\n",
              "\n",
              "\n",
              "         [[[1., 1., 1., 1.],\n",
              "           [1., 1., 1., 1.],\n",
              "           [1., 1., 1., 1.]],\n",
              "\n",
              "          [[1., 1., 1., 1.],\n",
              "           [1., 1., 1., 1.],\n",
              "           [1., 1., 1., 1.]]]],\n",
              "\n",
              "\n",
              "\n",
              "        [[[[1., 1., 1., 1.],\n",
              "           [1., 1., 1., 1.],\n",
              "           [1., 1., 1., 1.]],\n",
              "\n",
              "          [[1., 1., 1., 1.],\n",
              "           [1., 1., 1., 1.],\n",
              "           [1., 1., 1., 1.]]],\n",
              "\n",
              "\n",
              "         [[[1., 1., 1., 1.],\n",
              "           [1., 1., 1., 1.],\n",
              "           [1., 1., 1., 1.]],\n",
              "\n",
              "          [[1., 1., 1., 1.],\n",
              "           [1., 1., 1., 1.],\n",
              "           [1., 1., 1., 1.]]],\n",
              "\n",
              "\n",
              "         [[[1., 1., 1., 1.],\n",
              "           [1., 1., 1., 1.],\n",
              "           [1., 1., 1., 1.]],\n",
              "\n",
              "          [[1., 1., 1., 1.],\n",
              "           [1., 1., 1., 1.],\n",
              "           [1., 1., 1., 1.]]]]])"
            ]
          },
          "metadata": {},
          "execution_count": 23
        }
      ]
    },
    {
      "cell_type": "code",
      "source": [
        "ones.dtype"
      ],
      "metadata": {
        "colab": {
          "base_uri": "https://localhost:8080/"
        },
        "id": "qsQn7R9a7GKp",
        "outputId": "6f314582-7b55-4eb5-933c-3d91df20cf96"
      },
      "execution_count": null,
      "outputs": [
        {
          "output_type": "execute_result",
          "data": {
            "text/plain": [
              "torch.float32"
            ]
          },
          "metadata": {},
          "execution_count": 24
        }
      ]
    },
    {
      "cell_type": "markdown",
      "source": [
        "### creating a range of ternsors and tensor_like"
      ],
      "metadata": {
        "id": "QrgAlCpe7I-y"
      }
    },
    {
      "cell_type": "code",
      "source": [
        "#use torch .rande()\n",
        "one_2_ten=torch.arange(2,11,3)\n",
        "one_2_ten"
      ],
      "metadata": {
        "colab": {
          "base_uri": "https://localhost:8080/"
        },
        "id": "qVZaWIyb8pK6",
        "outputId": "35b6bb8e-4ac7-4576-f414-40accd5cbdd3"
      },
      "execution_count": null,
      "outputs": [
        {
          "output_type": "execute_result",
          "data": {
            "text/plain": [
              "tensor([2, 5, 8])"
            ]
          },
          "metadata": {},
          "execution_count": 25
        }
      ]
    },
    {
      "cell_type": "code",
      "source": [
        "#creating tensors like\n",
        "\n",
        "ten_zeros=torch.zeros_like(input=one_2_ten)\n",
        "ten_zeros"
      ],
      "metadata": {
        "colab": {
          "base_uri": "https://localhost:8080/"
        },
        "id": "l0ZrHEJf8o8j",
        "outputId": "ca615175-6049-49c8-c32f-e75e6d85eb30"
      },
      "execution_count": null,
      "outputs": [
        {
          "output_type": "execute_result",
          "data": {
            "text/plain": [
              "tensor([0, 0, 0])"
            ]
          },
          "metadata": {},
          "execution_count": 26
        }
      ]
    },
    {
      "cell_type": "code",
      "source": [
        "ten_one=torch.ones_like(input=ten_zeros)\n",
        "ten_one"
      ],
      "metadata": {
        "colab": {
          "base_uri": "https://localhost:8080/"
        },
        "id": "FbYNhzdb9sfD",
        "outputId": "31d660ac-a880-48ba-a9c7-cbc5ecacb78f"
      },
      "execution_count": null,
      "outputs": [
        {
          "output_type": "execute_result",
          "data": {
            "text/plain": [
              "tensor([1, 1, 1])"
            ]
          },
          "metadata": {},
          "execution_count": 27
        }
      ]
    },
    {
      "cell_type": "markdown",
      "source": [
        "### tensor Data type"
      ],
      "metadata": {
        "id": "RAc8S0WF-Dyj"
      }
    },
    {
      "cell_type": "code",
      "source": [
        "#float 32 tensor\n",
        "float_32_tensor=torch.tensor([1,2,3,3,423],\n",
        "                             dtype=torch.float16,\n",
        "                             device=\"cpu\",\n",
        "                             requires_grad=False)\n",
        "float_32_tensor"
      ],
      "metadata": {
        "colab": {
          "base_uri": "https://localhost:8080/"
        },
        "id": "r40mAzUi-zQS",
        "outputId": "51f85979-c152-4714-c9ac-971443d8429b"
      },
      "execution_count": null,
      "outputs": [
        {
          "output_type": "execute_result",
          "data": {
            "text/plain": [
              "tensor([  1.,   2.,   3.,   3., 423.], dtype=torch.float16)"
            ]
          },
          "metadata": {},
          "execution_count": 28
        }
      ]
    },
    {
      "cell_type": "code",
      "source": [
        "unsinged_integer=torch.tensor([1,2,3,4,5,67,8],\n",
        "                              dtype=torch.uint8,\n",
        "                              device='cpu',\n",
        "                              requires_grad=False)\n",
        "unsinged_integer"
      ],
      "metadata": {
        "colab": {
          "base_uri": "https://localhost:8080/"
        },
        "id": "ob_x6cOM-z8j",
        "outputId": "eda93c18-995a-4dbd-943c-bc094d9fb16e"
      },
      "execution_count": null,
      "outputs": [
        {
          "output_type": "execute_result",
          "data": {
            "text/plain": [
              "tensor([ 1,  2,  3,  4,  5, 67,  8], dtype=torch.uint8)"
            ]
          },
          "metadata": {},
          "execution_count": 29
        }
      ]
    },
    {
      "cell_type": "code",
      "source": [
        "unsinged_integer.dtype"
      ],
      "metadata": {
        "colab": {
          "base_uri": "https://localhost:8080/"
        },
        "id": "3Bqane7k-z5N",
        "outputId": "ae6c7197-1750-44e2-cc6a-88f9a4bad257"
      },
      "execution_count": null,
      "outputs": [
        {
          "output_type": "execute_result",
          "data": {
            "text/plain": [
              "torch.uint8"
            ]
          },
          "metadata": {},
          "execution_count": 30
        }
      ]
    },
    {
      "cell_type": "code",
      "source": [],
      "metadata": {
        "id": "lHGG_mcOC95a"
      },
      "execution_count": null,
      "outputs": []
    }
  ]
}